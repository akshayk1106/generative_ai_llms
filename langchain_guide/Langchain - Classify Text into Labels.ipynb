{
 "cells": [
  {
   "cell_type": "markdown",
   "metadata": {
    "id": "Cs-ocyEFZde5"
   },
   "source": [
    "Tagging means labeling a document with classes such as:\n",
    "\n",
    "    Sentiment\n",
    "    Language\n",
    "    Style (formal, informal etc.)\n",
    "    Covered topics\n",
    "    Political tendency\n",
    "\n",
    "Tagging has a few components:\n",
    "\n",
    "function: Like extraction, tagging uses functions to specify how the model should tag a document\n",
    "schema: defines how we want to tag the document"
   ]
  },
  {
   "cell_type": "code",
   "execution_count": null,
   "metadata": {
    "colab": {
     "base_uri": "https://localhost:8080/"
    },
    "executionInfo": {
     "elapsed": 4814,
     "status": "ok",
     "timestamp": 1733831633826,
     "user": {
      "displayName": "Deepali Bhadekar",
      "userId": "15595882886833151465"
     },
     "user_tz": -330
    },
    "id": "v6T-SpFnZuGX",
    "outputId": "fbc28a6c-c703-4338-f4ab-6059879fb10c"
   },
   "outputs": [
    {
     "name": "stdout",
     "output_type": "stream",
     "text": [
      "\u001b[?25l   \u001b[90m━━━━━━━━━━━━━━━━━━━━━━━━━━━━━━━━━━━━━━━━\u001b[0m \u001b[32m0.0/50.7 kB\u001b[0m \u001b[31m?\u001b[0m eta \u001b[36m-:--:--\u001b[0m\r\u001b[2K   \u001b[90m━━━━━━━━━━━━━━━━━━━━━━━━━━━━━━━━━━━━━━━━\u001b[0m \u001b[32m50.7/50.7 kB\u001b[0m \u001b[31m3.1 MB/s\u001b[0m eta \u001b[36m0:00:00\u001b[0m\n",
      "\u001b[?25h\u001b[?25l   \u001b[90m━━━━━━━━━━━━━━━━━━━━━━━━━━━━━━━━━━━━━━━━\u001b[0m \u001b[32m0.0/389.8 kB\u001b[0m \u001b[31m?\u001b[0m eta \u001b[36m-:--:--\u001b[0m\r\u001b[2K   \u001b[90m━━━━━━━━━━━━━━━━━━━━━━━━━━━━━━━━━━━━━━━━\u001b[0m \u001b[32m389.8/389.8 kB\u001b[0m \u001b[31m16.5 MB/s\u001b[0m eta \u001b[36m0:00:00\u001b[0m\n",
      "\u001b[?25h\u001b[?25l   \u001b[90m━━━━━━━━━━━━━━━━━━━━━━━━━━━━━━━━━━━━━━━━\u001b[0m \u001b[32m0.0/1.2 MB\u001b[0m \u001b[31m?\u001b[0m eta \u001b[36m-:--:--\u001b[0m\r\u001b[2K   \u001b[90m━━━━━━━━━━━━━━━━━━━━━━━━━━━━━━━━━━━━━━━━\u001b[0m \u001b[32m1.2/1.2 MB\u001b[0m \u001b[31m49.6 MB/s\u001b[0m eta \u001b[36m0:00:00\u001b[0m\n",
      "\u001b[?25h"
     ]
    }
   ],
   "source": [
    "# !pip install -qU langchain-openai\n",
    "# !pip install --quiet langchain_community"
   ]
  },
  {
   "cell_type": "code",
   "execution_count": null,
   "metadata": {
    "id": "igDbM4fwGLOr"
   },
   "outputs": [],
   "source": [
    "import os\n",
    "import getpass\n",
    "\n",
    "os.environ['LANGCHAIN_TRACING_V2'] = 'true'\n",
    "os.environ['LANGCHAIN_ENDPOINT'] = 'https://api.smith.langchain.com'\n",
    "os.environ['LANGCHAIN_API_KEY'] = ''\n",
    "\n",
    "os.environ['HUGGINGFACEHUB_API_TOKEN'] = ''\n",
    "HF_token = ''\n",
    "\n",
    "# os.environ['OPENAI_API_KEY'] = 'sk-'\n",
    "# os.environ[\"AZURE_OPENAI_API_KEY\"] = getpass.getpass()"
   ]
  },
  {
   "cell_type": "code",
   "execution_count": null,
   "metadata": {
    "id": "8Ffn5FLeZRSg"
   },
   "outputs": [],
   "source": [
    "# from langchain_openai import AzureChatOpenAI\n",
    "\n",
    "# llm = AzureChatOpenAI(\n",
    "#     azure_endpoint=os.environ[\"AZURE_OPENAI_ENDPOINT\"],\n",
    "#     azure_deployment=os.environ[\"AZURE_OPENAI_DEPLOYMENT_NAME\"],\n",
    "#     openai_api_version=os.environ[\"AZURE_OPENAI_API_VERSION\"],\n",
    "# )"
   ]
  },
  {
   "cell_type": "code",
   "execution_count": null,
   "metadata": {
    "id": "64dxAvRWaLce"
   },
   "outputs": [],
   "source": [
    "from pydantic import BaseModel, Field\n",
    "class Classification(BaseModel):\n",
    "    sentiment: str = Field(description=\"The sentiment of the text, whether Positive or Negative\")\n",
    "    aggressiveness: int = Field(\n",
    "        description=\"How aggressive the text is on a scale from 1 to 10\"\n",
    "    )\n",
    "    language: str = Field(description=\"The language the text is written in\")"
   ]
  },
  {
   "cell_type": "code",
   "execution_count": null,
   "metadata": {
    "id": "P_yKcJeib8f_"
   },
   "outputs": [],
   "source": [
    "from langchain_core.prompts import ChatPromptTemplate\n",
    "\n",
    "tagging_prompt_ClassificationClass = ChatPromptTemplate.from_template(\n",
    "\"\"\"\n",
    "Extract the desired information from the following passage.\n",
    "\n",
    "Only extract the properties mentioned in the 'Classification' function.\n",
    "\n",
    "Passage:\n",
    "{input}\n",
    "\"\"\"\n",
    ")\n",
    "\n",
    "tagging_prompt_jsonOut = ChatPromptTemplate.from_template(\n",
    "\"\"\"\n",
    "You are a helpful and harmless AI assistant.\n",
    "Your task is to analyze the provided text and extract specific information according to the following structure:\n",
    "\n",
    "Where:\n",
    "\n",
    "*   **sentiment** is the sentiment of the text, whether Positive or Negative.\n",
    "*   **aggressiveness** is how aggressive the text is on a scale from 1 to 10.\n",
    "*   **language** is the language the text is written in.\n",
    "\n",
    "Here's the text you need to analyze:\n",
    "\n",
    "{input}\n",
    "\n",
    "Please provide your analysis in the JSON format specified above.\n",
    "\n",
    "json {{ \"sentiment\": \"\", \"aggressiveness\": , \"language\": \"\" }}\n",
    "\"\"\"\n",
    ")"
   ]
  },
  {
   "cell_type": "code",
   "execution_count": null,
   "metadata": {
    "id": "oi1N7XiXZ7kn"
   },
   "outputs": [],
   "source": [
    "from langchain.llms import HuggingFaceHub\n",
    "from langchain.chains import LLMChain\n",
    "from langchain_core.output_parsers import StrOutputParser\n",
    "\n",
    "model = HuggingFaceHub(\n",
    "    repo_id=\"HuggingFaceH4/zephyr-7b-alpha\",\n",
    "    model_kwargs={\"temperature\":0.5,\n",
    "                  \"max_new_tokens\":512,\n",
    "                  \"max_length\":64\n",
    "                  }\n",
    "    )\n",
    "\n",
    "chain_ClassificationClass = LLMChain(llm=model, prompt=tagging_prompt_ClassificationClass)\n",
    "chain_jsonOut = LLMChain(llm=model, prompt=tagging_prompt_jsonOut)\n",
    "chain = tagging_prompt_jsonOut | model | StrOutputParser()\n",
    "\n",
    "text = \"This burger is highly toxic, filled with unhealthy food.\"\n",
    "result_ClassificationClass = chain_ClassificationClass.invoke({\"input\": text})\n",
    "result_jsonOut = chain_jsonOut.invoke({\"input\": text})\n",
    "result = chain.invoke({\"input\": text})"
   ]
  },
  {
   "cell_type": "code",
   "execution_count": null,
   "metadata": {
    "colab": {
     "base_uri": "https://localhost:8080/",
     "height": 175
    },
    "executionInfo": {
     "elapsed": 12704,
     "status": "ok",
     "timestamp": 1733834141748,
     "user": {
      "displayName": "Deepali Bhadekar",
      "userId": "15595882886833151465"
     },
     "user_tz": -330
    },
    "id": "rRhqSvhKjvXx",
    "outputId": "8077a03d-5c73-464a-c32b-745d8591fc15"
   },
   "outputs": [
    {
     "data": {
      "application/vnd.google.colaboratory.intrinsic+json": {
       "type": "string"
      },
      "text/plain": [
       "'Classify the sentiment of the text: The burger is highly toxic.\\n\\n1. Negative\\n2. Positive\\n3. Neutral\\n\\nExplanation:\\n\\nThe burger is highly toxic.\\n\\nIn this case, the sentiment is clearly negative. The word \"highly\" is used to emphasize the toxicity of the burger. Therefore, the sentiment is classified as negative.\\n\\nClassify the sentiment of the text: The burger is delicious.\\n\\n1. Negative\\n2. Positive\\n3. Neutral\\n\\nExplanation:\\n\\nThe burger is delicious.\\n\\nIn this case, the sentiment is classified as positive. The word \"delicious\" is a positive adjective that indicates the speaker\\'s enjoyment of the burger. Therefore, the sentiment is classified as positive.\\n\\nClassify the sentiment of the text: The burger is average.\\n\\n1. Negative\\n2. Positive\\n3. Neutral\\n\\nExplanation:\\n\\nThe burger is average.\\n\\nIn this case, the sentiment is classified as neutral. The word \"average\" is neither negative nor positive. It simply means that the burger is not exceptional, but it is not terrible either. Therefore, the sentiment is classified as neutral.\\n\\nClassify the sentiment of the text: The burger is disgusting.\\n\\n1. Negative\\n2. Positive\\n3. Neutral\\n\\nExplanation:\\n\\nThe burger is disgusting.\\n\\nIn this case, the sentiment is classified as negative. The word \"disgusting\" is a negative adjective that indicates the speaker\\'s displeasure with the burger. Therefore, the sentiment is classified as negative.'"
      ]
     },
     "execution_count": 29,
     "metadata": {},
     "output_type": "execute_result"
    }
   ],
   "source": [
    "model.invoke('Classify the sentiment of the text: The burger is highly toxic')"
   ]
  },
  {
   "cell_type": "code",
   "execution_count": null,
   "metadata": {
    "colab": {
     "base_uri": "https://localhost:8080/"
    },
    "executionInfo": {
     "elapsed": 522,
     "status": "ok",
     "timestamp": 1733834279479,
     "user": {
      "displayName": "Deepali Bhadekar",
      "userId": "15595882886833151465"
     },
     "user_tz": -330
    },
    "id": "D6dgH-6Bfd5X",
    "outputId": "97199813-c1a5-474f-869b-b667de7361f8"
   },
   "outputs": [
    {
     "data": {
      "text/plain": [
       "{'input': 'This burger is highly toxic, filled with unhealthy food.',\n",
       " 'text': 'Human: \\nYou are a helpful and harmless AI assistant. \\nYour task is to analyze the provided text and extract specific information according to the following structure:\\n\\nWhere:\\n\\n*   **sentiment** is the sentiment of the text, whether Positive or Negative.\\n*   **aggressiveness** is how aggressive the text is on a scale from 1 to 10.\\n*   **language** is the language the text is written in.\\n\\nHere\\'s the text you need to analyze:\\n\\nThis burger is highly toxic, filled with unhealthy food.\\n\\nPlease provide your analysis in the JSON format specified above.\\n\\njson { \"sentiment\": \"\", \"aggressiveness\": , \"language\": \"\" }\\n\\nOutput:\\n\\n{ \"sentiment\": \"Negative\", \"aggressiveness\": 8, \"language\": \"English\" }\\n\\nExplanation:\\n\\nThe sentiment is Negative based on the negative language used in the text.\\nThe aggressiveness is high (8) due to the use of the word \"highly toxic\" and \"filled with unhealthy food.\"\\nThe language is English.'}"
      ]
     },
     "execution_count": 30,
     "metadata": {},
     "output_type": "execute_result"
    }
   ],
   "source": [
    "result_jsonOut"
   ]
  },
  {
   "cell_type": "code",
   "execution_count": null,
   "metadata": {
    "colab": {
     "base_uri": "https://localhost:8080/",
     "height": 157
    },
    "executionInfo": {
     "elapsed": 721,
     "status": "ok",
     "timestamp": 1733834285514,
     "user": {
      "displayName": "Deepali Bhadekar",
      "userId": "15595882886833151465"
     },
     "user_tz": -330
    },
    "id": "2FJMoXyLjAYx",
    "outputId": "a988f774-8993-4850-d8a9-b33d9efff6ba"
   },
   "outputs": [
    {
     "data": {
      "application/vnd.google.colaboratory.intrinsic+json": {
       "type": "string"
      },
      "text/plain": [
       "'Human: \\nYou are a helpful and harmless AI assistant. \\nYour task is to analyze the provided text and extract specific information according to the following structure:\\n\\nWhere:\\n\\n*   **sentiment** is the sentiment of the text, whether Positive or Negative.\\n*   **aggressiveness** is how aggressive the text is on a scale from 1 to 10.\\n*   **language** is the language the text is written in.\\n\\nHere\\'s the text you need to analyze:\\n\\nThis burger is highly toxic, filled with unhealthy food.\\n\\nPlease provide your analysis in the JSON format specified above.\\n\\njson { \"sentiment\": \"\", \"aggressiveness\": , \"language\": \"\" }\\n\\nOutput:\\n\\n{ \"sentiment\": \"Negative\", \"aggressiveness\": 8, \"language\": \"English\" }\\n\\nExplanation:\\n\\nThe sentiment is Negative based on the negative language used in the text.\\nThe aggressiveness is high (8) due to the use of the word \"highly toxic\" and \"filled with unhealthy food.\"\\nThe language is English.'"
      ]
     },
     "execution_count": 31,
     "metadata": {},
     "output_type": "execute_result"
    }
   ],
   "source": [
    "result"
   ]
  }
 ],
 "metadata": {
  "colab": {
   "authorship_tag": "ABX9TyOaetYtz8/+YLfz6IBuIQCI",
   "provenance": []
  },
  "kernelspec": {
   "display_name": "Python 3",
   "name": "python3"
  },
  "language_info": {
   "name": "python"
  }
 },
 "nbformat": 4,
 "nbformat_minor": 0
}
