{
 "cells": [
  {
   "cell_type": "code",
   "execution_count": null,
   "metadata": {
    "colab": {
     "base_uri": "https://localhost:8080/"
    },
    "collapsed": true,
    "executionInfo": {
     "elapsed": 64935,
     "status": "ok",
     "timestamp": 1736541237812,
     "user": {
      "displayName": "Deepali Bhadekar",
      "userId": "15595882886833151465"
     },
     "user_tz": -330
    },
    "id": "1HasUjI3aI3S",
    "outputId": "2d7e75fa-2a64-4450-e378-7f70d2697aff"
   },
   "outputs": [
    {
     "name": "stdout",
     "output_type": "stream",
     "text": [
      "\u001b[2K   \u001b[90m━━━━━━━━━━━━━━━━━━━━━━━━━━━━━━━━━━━━━━━━\u001b[0m \u001b[32m1.2/1.2 MB\u001b[0m \u001b[31m7.7 MB/s\u001b[0m eta \u001b[36m0:00:00\u001b[0m\n",
      "\u001b[2K   \u001b[90m━━━━━━━━━━━━━━━━━━━━━━━━━━━━━━━━━━━━━━━━\u001b[0m \u001b[32m2.5/2.5 MB\u001b[0m \u001b[31m28.2 MB/s\u001b[0m eta \u001b[36m0:00:00\u001b[0m\n",
      "\u001b[2K   \u001b[90m━━━━━━━━━━━━━━━━━━━━━━━━━━━━━━━━━━━━━━━━\u001b[0m \u001b[32m138.2/138.2 kB\u001b[0m \u001b[31m7.9 MB/s\u001b[0m eta \u001b[36m0:00:00\u001b[0m\n",
      "\u001b[2K   \u001b[90m━━━━━━━━━━━━━━━━━━━━━━━━━━━━━━━━━━━━━━━━\u001b[0m \u001b[32m44.7/44.7 kB\u001b[0m \u001b[31m2.5 MB/s\u001b[0m eta \u001b[36m0:00:00\u001b[0m\n",
      "\u001b[2K   \u001b[90m━━━━━━━━━━━━━━━━━━━━━━━━━━━━━━━━━━━━━━━━\u001b[0m \u001b[32m49.5/49.5 kB\u001b[0m \u001b[31m3.1 MB/s\u001b[0m eta \u001b[36m0:00:00\u001b[0m\n",
      "\u001b[2K   \u001b[90m━━━━━━━━━━━━━━━━━━━━━━━━━━━━━━━━━━━━━━━━\u001b[0m \u001b[32m76.4/76.4 kB\u001b[0m \u001b[31m2.8 MB/s\u001b[0m eta \u001b[36m0:00:00\u001b[0m\n",
      "\u001b[2K     \u001b[90m━━━━━━━━━━━━━━━━━━━━━━━━━━━━━━━━━━━━━━━━\u001b[0m \u001b[32m67.3/67.3 kB\u001b[0m \u001b[31m3.0 MB/s\u001b[0m eta \u001b[36m0:00:00\u001b[0m\n",
      "\u001b[?25h  Installing build dependencies ... \u001b[?25l\u001b[?25hdone\n",
      "  Getting requirements to build wheel ... \u001b[?25l\u001b[?25hdone\n",
      "  Preparing metadata (pyproject.toml) ... \u001b[?25l\u001b[?25hdone\n",
      "\u001b[2K   \u001b[90m━━━━━━━━━━━━━━━━━━━━━━━━━━━━━━━━━━━━━━━━\u001b[0m \u001b[32m628.3/628.3 kB\u001b[0m \u001b[31m15.5 MB/s\u001b[0m eta \u001b[36m0:00:00\u001b[0m\n",
      "\u001b[2K   \u001b[90m━━━━━━━━━━━━━━━━━━━━━━━━━━━━━━━━━━━━━━━━\u001b[0m \u001b[32m2.4/2.4 MB\u001b[0m \u001b[31m54.1 MB/s\u001b[0m eta \u001b[36m0:00:00\u001b[0m\n",
      "\u001b[2K   \u001b[90m━━━━━━━━━━━━━━━━━━━━━━━━━━━━━━━━━━━━━━━━\u001b[0m \u001b[32m94.8/94.8 kB\u001b[0m \u001b[31m6.4 MB/s\u001b[0m eta \u001b[36m0:00:00\u001b[0m\n",
      "\u001b[2K   \u001b[90m━━━━━━━━━━━━━━━━━━━━━━━━━━━━━━━━━━━━━━━━\u001b[0m \u001b[32m278.6/278.6 kB\u001b[0m \u001b[31m17.6 MB/s\u001b[0m eta \u001b[36m0:00:00\u001b[0m\n",
      "\u001b[2K   \u001b[90m━━━━━━━━━━━━━━━━━━━━━━━━━━━━━━━━━━━━━━━━\u001b[0m \u001b[32m1.9/1.9 MB\u001b[0m \u001b[31m49.6 MB/s\u001b[0m eta \u001b[36m0:00:00\u001b[0m\n",
      "\u001b[2K   \u001b[90m━━━━━━━━━━━━━━━━━━━━━━━━━━━━━━━━━━━━━━━━\u001b[0m \u001b[32m93.2/93.2 kB\u001b[0m \u001b[31m6.2 MB/s\u001b[0m eta \u001b[36m0:00:00\u001b[0m\n",
      "\u001b[2K   \u001b[90m━━━━━━━━━━━━━━━━━━━━━━━━━━━━━━━━━━━━━━━━\u001b[0m \u001b[32m13.3/13.3 MB\u001b[0m \u001b[31m76.5 MB/s\u001b[0m eta \u001b[36m0:00:00\u001b[0m\n",
      "\u001b[2K   \u001b[90m━━━━━━━━━━━━━━━━━━━━━━━━━━━━━━━━━━━━━━━━\u001b[0m \u001b[32m55.8/55.8 kB\u001b[0m \u001b[31m3.2 MB/s\u001b[0m eta \u001b[36m0:00:00\u001b[0m\n",
      "\u001b[2K   \u001b[90m━━━━━━━━━━━━━━━━━━━━━━━━━━━━━━━━━━━━━━━━\u001b[0m \u001b[32m54.9/54.9 kB\u001b[0m \u001b[31m3.0 MB/s\u001b[0m eta \u001b[36m0:00:00\u001b[0m\n",
      "\u001b[2K   \u001b[90m━━━━━━━━━━━━━━━━━━━━━━━━━━━━━━━━━━━━━━━━\u001b[0m \u001b[32m73.2/73.2 kB\u001b[0m \u001b[31m4.1 MB/s\u001b[0m eta \u001b[36m0:00:00\u001b[0m\n",
      "\u001b[2K   \u001b[90m━━━━━━━━━━━━━━━━━━━━━━━━━━━━━━━━━━━━━━━━\u001b[0m \u001b[32m3.0/3.0 MB\u001b[0m \u001b[31m51.8 MB/s\u001b[0m eta \u001b[36m0:00:00\u001b[0m\n",
      "\u001b[2K   \u001b[90m━━━━━━━━━━━━━━━━━━━━━━━━━━━━━━━━━━━━━━━━\u001b[0m \u001b[32m62.3/62.3 kB\u001b[0m \u001b[31m3.7 MB/s\u001b[0m eta \u001b[36m0:00:00\u001b[0m\n",
      "\u001b[2K   \u001b[90m━━━━━━━━━━━━━━━━━━━━━━━━━━━━━━━━━━━━━━━━\u001b[0m \u001b[32m442.1/442.1 kB\u001b[0m \u001b[31m17.2 MB/s\u001b[0m eta \u001b[36m0:00:00\u001b[0m\n",
      "\u001b[2K   \u001b[90m━━━━━━━━━━━━━━━━━━━━━━━━━━━━━━━━━━━━━━━━\u001b[0m \u001b[32m319.7/319.7 kB\u001b[0m \u001b[31m17.0 MB/s\u001b[0m eta \u001b[36m0:00:00\u001b[0m\n",
      "\u001b[2K   \u001b[90m━━━━━━━━━━━━━━━━━━━━━━━━━━━━━━━━━━━━━━━━\u001b[0m \u001b[32m3.8/3.8 MB\u001b[0m \u001b[31m61.9 MB/s\u001b[0m eta \u001b[36m0:00:00\u001b[0m\n",
      "\u001b[2K   \u001b[90m━━━━━━━━━━━━━━━━━━━━━━━━━━━━━━━━━━━━━━━━\u001b[0m \u001b[32m452.9/452.9 kB\u001b[0m \u001b[31m21.2 MB/s\u001b[0m eta \u001b[36m0:00:00\u001b[0m\n",
      "\u001b[2K   \u001b[90m━━━━━━━━━━━━━━━━━━━━━━━━━━━━━━━━━━━━━━━━\u001b[0m \u001b[32m46.0/46.0 kB\u001b[0m \u001b[31m2.9 MB/s\u001b[0m eta \u001b[36m0:00:00\u001b[0m\n",
      "\u001b[2K   \u001b[90m━━━━━━━━━━━━━━━━━━━━━━━━━━━━━━━━━━━━━━━━\u001b[0m \u001b[32m86.8/86.8 kB\u001b[0m \u001b[31m5.0 MB/s\u001b[0m eta \u001b[36m0:00:00\u001b[0m\n",
      "\u001b[?25h  Building wheel for pypika (pyproject.toml) ... \u001b[?25l\u001b[?25hdone\n",
      "\u001b[31mERROR: pip's dependency resolver does not currently take into account all the packages that are installed. This behaviour is the source of the following dependency conflicts.\n",
      "tensorflow 2.17.1 requires protobuf!=4.21.0,!=4.21.1,!=4.21.2,!=4.21.3,!=4.21.4,!=4.21.5,<5.0.0dev,>=3.20.3, but you have protobuf 5.29.3 which is incompatible.\n",
      "tensorflow-metadata 1.13.1 requires protobuf<5,>=3.20.3, but you have protobuf 5.29.3 which is incompatible.\n",
      "transformers 4.47.1 requires tokenizers<0.22,>=0.21, but you have tokenizers 0.20.3 which is incompatible.\u001b[0m\u001b[31m\n",
      "\u001b[2K   \u001b[90m━━━━━━━━━━━━━━━━━━━━━━━━━━━━━━━━━━━━━━━━\u001b[0m \u001b[32m115.6/115.6 kB\u001b[0m \u001b[31m2.4 MB/s\u001b[0m eta \u001b[36m0:00:00\u001b[0m\n",
      "\u001b[?25h"
     ]
    }
   ],
   "source": [
    "%pip install -qU python-dotenv\n",
    "%pip install -qU tiktoken\n",
    "%pip install --quiet langchain-community langgraph langchain-huggingface\n",
    "%pip install -qU langchain_ollama langchain-mistralai\n",
    "%pip install -qU \"langchain-chroma>=0.1.2\"\n",
    "%pip install -qU colab-xterm\n",
    "%load_ext colabxterm"
   ]
  },
  {
   "cell_type": "code",
   "execution_count": null,
   "metadata": {
    "id": "G-_JD0FHhyyq"
   },
   "outputs": [],
   "source": [
    "import os\n",
    "\n",
    "os.environ['LANGCHAIN_TRACING_V2'] = 'true'\n",
    "os.environ['LANGCHAIN_ENDPOINT'] = 'https://api.smith.langchain.com'\n",
    "os.environ['LANGCHAIN_API_KEY'] = ''\n",
    "os.environ['HUGGINGFACEHUB_API_TOKEN'] = ''\n",
    "HF_token = ''\n",
    "os.environ[\"MISTRAL_API_KEY\"] = ''"
   ]
  },
  {
   "cell_type": "markdown",
   "metadata": {
    "id": "WPlKKsl-5Ow4"
   },
   "source": [
    "### <mark> Install Ollama and download llama model"
   ]
  },
  {
   "cell_type": "code",
   "execution_count": null,
   "metadata": {
    "colab": {
     "base_uri": "https://localhost:8080/"
    },
    "executionInfo": {
     "elapsed": 20204,
     "status": "ok",
     "timestamp": 1736541273066,
     "user": {
      "displayName": "Deepali Bhadekar",
      "userId": "15595882886833151465"
     },
     "user_tz": -330
    },
    "id": "y4sfeQdLfPIp",
    "outputId": "20b12068-d84c-4819-9633-e48f18885323"
   },
   "outputs": [
    {
     "name": "stdout",
     "output_type": "stream",
     "text": [
      "Mounted at /content/drive\n"
     ]
    }
   ],
   "source": [
    "from google.colab import drive\n",
    "drive.mount('/content/drive')"
   ]
  },
  {
   "cell_type": "code",
   "execution_count": null,
   "metadata": {
    "colab": {
     "base_uri": "https://localhost:8080/"
    },
    "executionInfo": {
     "elapsed": 60954,
     "status": "ok",
     "timestamp": 1736541626235,
     "user": {
      "displayName": "Deepali Bhadekar",
      "userId": "15595882886833151465"
     },
     "user_tz": -330
    },
    "id": "GWv_6Rf_5tRv",
    "outputId": "8d73f390-df60-4cf8-8f24-e8b0d3b10ea8"
   },
   "outputs": [
    {
     "name": "stdout",
     "output_type": "stream",
     "text": [
      "  % Total    % Received % Xferd  Average Speed   Time    Time     Time  Current\n",
      "                                 Dload  Upload   Total   Spent    Left  Speed\n",
      "\r  0     0    0     0    0     0      0      0 --:--:-- --:--:-- --:--:--     0\r100 13269    0 13269    0     0  63943      0 --:--:-- --:--:-- --:--:-- 64101\n",
      ">>> Cleaning up old version at /usr/local/lib/ollama\n",
      ">>> Installing ollama to /usr/local\n",
      ">>> Downloading Linux amd64 bundle\n",
      "############################################################################################# 100.0%\n",
      ">>> Adding ollama user to video group...\n",
      ">>> Adding current user to ollama group...\n",
      ">>> Creating ollama systemd service...\n",
      "\u001b[1m\u001b[31mWARNING:\u001b[m systemd is not running\n",
      "\u001b[1m\u001b[31mWARNING:\u001b[m Unable to detect NVIDIA/AMD GPU. Install lspci or lshw to automatically detect and install GPU dependencies.\n",
      ">>> The Ollama API is now available at 127.0.0.1:11434.\n",
      ">>> Install complete. Run \"ollama\" from the command line.\n",
      "nohup: appending output to 'nohup.out'\n",
      "Error: could not connect to ollama app, is it running?\n"
     ]
    }
   ],
   "source": [
    "!curl https://ollama.ai/install.sh | sh\n",
    "!nohup ollama serve\n",
    "\n",
    "## no need to launch %xterm, ifyou are using nohup"
   ]
  },
  {
   "cell_type": "code",
   "execution_count": null,
   "metadata": {
    "colab": {
     "base_uri": "https://localhost:8080/"
    },
    "collapsed": true,
    "executionInfo": {
     "elapsed": 14718,
     "status": "ok",
     "timestamp": 1736541692855,
     "user": {
      "displayName": "Deepali Bhadekar",
      "userId": "15595882886833151465"
     },
     "user_tz": -330
    },
    "id": "fJYq4sS3uErU",
    "outputId": "02ad10be-35bd-4126-abfa-f605302b11ad"
   },
   "outputs": [
    {
     "name": "stdout",
     "output_type": "stream",
     "text": [
      "\u001b[?25lpulling manifest ⠙ \u001b[?25h\u001b[?25l\u001b[2K\u001b[1Gpulling manifest ⠙ \u001b[?25h\u001b[?25l\u001b[2K\u001b[1Gpulling manifest ⠹ \u001b[?25h\u001b[?25l\u001b[2K\u001b[1Gpulling manifest ⠼ \u001b[?25h\u001b[?25l\u001b[2K\u001b[1Gpulling manifest ⠼ \u001b[?25h\u001b[?25l\u001b[2K\u001b[1Gpulling manifest ⠦ \u001b[?25h\u001b[?25l\u001b[2K\u001b[1Gpulling manifest ⠦ \u001b[?25h\u001b[?25l\u001b[2K\u001b[1Gpulling manifest \n",
      "pulling 6cafb858555d...   0% ▕▏    0 B/990 MB                  \u001b[?25h\u001b[?25l\u001b[2K\u001b[1G\u001b[A\u001b[2K\u001b[1Gpulling manifest \n",
      "pulling 6cafb858555d...   0% ▕▏    0 B/990 MB                  \u001b[?25h\u001b[?25l\u001b[2K\u001b[1G\u001b[A\u001b[2K\u001b[1Gpulling manifest \n",
      "pulling 6cafb858555d...   0% ▕▏ 1.3 MB/990 MB                  \u001b[?25h\u001b[?25l\u001b[2K\u001b[1G\u001b[A\u001b[2K\u001b[1Gpulling manifest \n",
      "pulling 6cafb858555d...   1% ▕▏  10 MB/990 MB                  \u001b[?25h\u001b[?25l\u001b[2K\u001b[1G\u001b[A\u001b[2K\u001b[1Gpulling manifest \n",
      "pulling 6cafb858555d...   6% ▕▏  58 MB/990 MB                  \u001b[?25h\u001b[?25l\u001b[2K\u001b[1G\u001b[A\u001b[2K\u001b[1Gpulling manifest \n",
      "pulling 6cafb858555d...  11% ▕▏ 106 MB/990 MB                  \u001b[?25h\u001b[?25l\u001b[2K\u001b[1G\u001b[A\u001b[2K\u001b[1Gpulling manifest \n",
      "pulling 6cafb858555d...  11% ▕▏ 113 MB/990 MB                  \u001b[?25h\u001b[?25l\u001b[2K\u001b[1G\u001b[A\u001b[2K\u001b[1Gpulling manifest \n",
      "pulling 6cafb858555d...  14% ▕▏ 135 MB/990 MB                  \u001b[?25h\u001b[?25l\u001b[2K\u001b[1G\u001b[A\u001b[2K\u001b[1Gpulling manifest \n",
      "pulling 6cafb858555d...  17% ▕▏ 167 MB/990 MB                  \u001b[?25h\u001b[?25l\u001b[2K\u001b[1G\u001b[A\u001b[2K\u001b[1Gpulling manifest \n",
      "pulling 6cafb858555d...  18% ▕▏ 181 MB/990 MB                  \u001b[?25h\u001b[?25l\u001b[2K\u001b[1G\u001b[A\u001b[2K\u001b[1Gpulling manifest \n",
      "pulling 6cafb858555d...  21% ▕▏ 203 MB/990 MB  203 MB/s      3s\u001b[?25h\u001b[?25l\u001b[2K\u001b[1G\u001b[A\u001b[2K\u001b[1Gpulling manifest \n",
      "pulling 6cafb858555d...  23% ▕▏ 232 MB/990 MB  203 MB/s      3s\u001b[?25h\u001b[?25l\u001b[2K\u001b[1G\u001b[A\u001b[2K\u001b[1Gpulling manifest \n",
      "pulling 6cafb858555d...  26% ▕▏ 259 MB/990 MB  203 MB/s      3s\u001b[?25h\u001b[?25l\u001b[2K\u001b[1G\u001b[A\u001b[2K\u001b[1Gpulling manifest \n",
      "pulling 6cafb858555d...  27% ▕▏ 269 MB/990 MB  203 MB/s      3s\u001b[?25h\u001b[?25l\u001b[2K\u001b[1G\u001b[A\u001b[2K\u001b[1Gpulling manifest \n",
      "pulling 6cafb858555d...  31% ▕▏ 304 MB/990 MB  203 MB/s      3s\u001b[?25h\u001b[?25l\u001b[2K\u001b[1G\u001b[A\u001b[2K\u001b[1Gpulling manifest \n",
      "pulling 6cafb858555d...  32% ▕▏ 314 MB/990 MB  203 MB/s      3s\u001b[?25h\u001b[?25l\u001b[2K\u001b[1G\u001b[A\u001b[2K\u001b[1Gpulling manifest \n",
      "pulling 6cafb858555d...  36% ▕▏ 355 MB/990 MB  203 MB/s      3s\u001b[?25h\u001b[?25l\u001b[2K\u001b[1G\u001b[A\u001b[2K\u001b[1Gpulling manifest \n",
      "pulling 6cafb858555d...  39% ▕▏ 385 MB/990 MB  203 MB/s      2s\u001b[?25h\u001b[?25l\u001b[2K\u001b[1G\u001b[A\u001b[2K\u001b[1Gpulling manifest \n",
      "pulling 6cafb858555d...  41% ▕▏ 409 MB/990 MB  203 MB/s      2s\u001b[?25h\u001b[?25l\u001b[2K\u001b[1G\u001b[A\u001b[2K\u001b[1Gpulling manifest \n",
      "pulling 6cafb858555d...  43% ▕▏ 426 MB/990 MB  203 MB/s      2s\u001b[?25h\u001b[?25l\u001b[2K\u001b[1G\u001b[A\u001b[2K\u001b[1Gpulling manifest \n",
      "pulling 6cafb858555d...  46% ▕▏ 458 MB/990 MB  229 MB/s      2s\u001b[?25h\u001b[?25l\u001b[2K\u001b[1G\u001b[A\u001b[2K\u001b[1Gpulling manifest \n",
      "pulling 6cafb858555d...  47% ▕▏ 467 MB/990 MB  229 MB/s      2s\u001b[?25h\u001b[?25l\u001b[2K\u001b[1G\u001b[A\u001b[2K\u001b[1Gpulling manifest \n",
      "pulling 6cafb858555d...  51% ▕▏ 503 MB/990 MB  229 MB/s      2s\u001b[?25h\u001b[?25l\u001b[2K\u001b[1G\u001b[A\u001b[2K\u001b[1Gpulling manifest \n",
      "pulling 6cafb858555d...  54% ▕▏ 539 MB/990 MB  229 MB/s      1s\u001b[?25h\u001b[?25l\u001b[2K\u001b[1G\u001b[A\u001b[2K\u001b[1Gpulling manifest \n",
      "pulling 6cafb858555d...  56% ▕▏ 550 MB/990 MB  229 MB/s      1s\u001b[?25h\u001b[?25l\u001b[2K\u001b[1G\u001b[A\u001b[2K\u001b[1Gpulling manifest \n",
      "pulling 6cafb858555d...  59% ▕▏ 588 MB/990 MB  229 MB/s      1s\u001b[?25h\u001b[?25l\u001b[2K\u001b[1G\u001b[A\u001b[2K\u001b[1Gpulling manifest \n",
      "pulling 6cafb858555d...  62% ▕▏ 613 MB/990 MB  229 MB/s      1s\u001b[?25h\u001b[?25l\u001b[2K\u001b[1G\u001b[A\u001b[2K\u001b[1Gpulling manifest \n",
      "pulling 6cafb858555d...  65% ▕▏ 640 MB/990 MB  229 MB/s      1s\u001b[?25h\u001b[?25l\u001b[2K\u001b[1G\u001b[A\u001b[2K\u001b[1Gpulling manifest \n",
      "pulling 6cafb858555d...  68% ▕▏ 675 MB/990 MB  229 MB/s      1s\u001b[?25h\u001b[?25l\u001b[2K\u001b[1G\u001b[A\u001b[2K\u001b[1Gpulling manifest \n",
      "pulling 6cafb858555d...  73% ▕▏ 721 MB/990 MB  229 MB/s      1s\u001b[?25h\u001b[?25l\u001b[2K\u001b[1G\u001b[A\u001b[2K\u001b[1Gpulling manifest \n",
      "pulling 6cafb858555d...  74% ▕▏ 736 MB/990 MB  229 MB/s      1s\u001b[?25h\u001b[?25l\u001b[2K\u001b[1G\u001b[A\u001b[2K\u001b[1Gpulling manifest \n",
      "pulling 6cafb858555d...  79% ▕▏ 785 MB/990 MB  254 MB/s      0s\u001b[?25h\u001b[?25l\u001b[2K\u001b[1G\u001b[A\u001b[2K\u001b[1Gpulling manifest \n",
      "pulling 6cafb858555d...  81% ▕▏ 807 MB/990 MB  254 MB/s      0s\u001b[?25h\u001b[?25l\u001b[2K\u001b[1G\u001b[A\u001b[2K\u001b[1Gpulling manifest \n",
      "pulling 6cafb858555d...  83% ▕▏ 824 MB/990 MB  254 MB/s      0s\u001b[?25h\u001b[?25l\u001b[2K\u001b[1G\u001b[A\u001b[2K\u001b[1Gpulling manifest \n",
      "pulling 6cafb858555d...  87% ▕▏ 866 MB/990 MB  254 MB/s      0s\u001b[?25h\u001b[?25l\u001b[2K\u001b[1G\u001b[A\u001b[2K\u001b[1Gpulling manifest \n",
      "pulling 6cafb858555d...  91% ▕▏ 898 MB/990 MB  254 MB/s      0s\u001b[?25h\u001b[?25l\u001b[2K\u001b[1G\u001b[A\u001b[2K\u001b[1Gpulling manifest \n",
      "pulling 6cafb858555d...  93% ▕▏ 921 MB/990 MB  254 MB/s      0s\u001b[?25h\u001b[?25l\u001b[2K\u001b[1G\u001b[A\u001b[2K\u001b[1Gpulling manifest \n",
      "pulling 6cafb858555d...  96% ▕▏ 948 MB/990 MB  254 MB/s      0s\u001b[?25h\u001b[?25l\u001b[2K\u001b[1G\u001b[A\u001b[2K\u001b[1Gpulling manifest \n",
      "pulling 6cafb858555d...  97% ▕▏ 963 MB/990 MB  254 MB/s      0s\u001b[?25h\u001b[?25l\u001b[2K\u001b[1G\u001b[A\u001b[2K\u001b[1Gpulling manifest \n",
      "pulling 6cafb858555d...  98% ▕▏ 970 MB/990 MB  254 MB/s      0s\u001b[?25h\u001b[?25l\u001b[2K\u001b[1G\u001b[A\u001b[2K\u001b[1Gpulling manifest \n",
      "pulling 6cafb858555d...  99% ▕▏ 978 MB/990 MB  254 MB/s      0s\u001b[?25h\u001b[?25l\u001b[2K\u001b[1G\u001b[A\u001b[2K\u001b[1Gpulling manifest \n",
      "pulling 6cafb858555d...  99% ▕▏ 985 MB/990 MB  245 MB/s      0s\u001b[?25h\u001b[?25l\u001b[2K\u001b[1G\u001b[A\u001b[2K\u001b[1Gpulling manifest \n",
      "pulling 6cafb858555d... 100% ▕▏ 989 MB/990 MB  245 MB/s      0s\u001b[?25h\u001b[?25l\u001b[2K\u001b[1G\u001b[A\u001b[2K\u001b[1Gpulling manifest \n",
      "pulling 6cafb858555d... 100% ▕▏ 990 MB                         \u001b[?25h\u001b[?25l\u001b[2K\u001b[1G\u001b[A\u001b[2K\u001b[1Gpulling manifest \n",
      "pulling 6cafb858555d... 100% ▕▏ 990 MB                         \u001b[?25h\u001b[?25l\u001b[2K\u001b[1G\u001b[A\u001b[2K\u001b[1Gpulling manifest \n",
      "pulling 6cafb858555d... 100% ▕▏ 990 MB                         \u001b[?25h\u001b[?25l\u001b[2K\u001b[1G\u001b[A\u001b[2K\u001b[1Gpulling manifest \n",
      "pulling 6cafb858555d... 100% ▕▏ 990 MB                         \u001b[?25h\u001b[?25l\u001b[2K\u001b[1G\u001b[A\u001b[2K\u001b[1Gpulling manifest \n",
      "pulling 6cafb858555d... 100% ▕▏ 990 MB                         \u001b[?25h\u001b[?25l\u001b[2K\u001b[1G\u001b[A\u001b[2K\u001b[1Gpulling manifest \n",
      "pulling 6cafb858555d... 100% ▕▏ 990 MB                         \u001b[?25h\u001b[?25l\u001b[2K\u001b[1G\u001b[A\u001b[2K\u001b[1Gpulling manifest \n",
      "pulling 6cafb858555d... 100% ▕▏ 990 MB                         \u001b[?25h\u001b[?25l\u001b[2K\u001b[1G\u001b[A\u001b[2K\u001b[1Gpulling manifest \n",
      "pulling 6cafb858555d... 100% ▕▏ 990 MB                         \u001b[?25h\u001b[?25l\u001b[2K\u001b[1G\u001b[A\u001b[2K\u001b[1Gpulling manifest \n",
      "pulling 6cafb858555d... 100% ▕▏ 990 MB                         \u001b[?25h\u001b[?25l\u001b[2K\u001b[1G\u001b[A\u001b[2K\u001b[1Gpulling manifest \n",
      "pulling 6cafb858555d... 100% ▕▏ 990 MB                         \n",
      "pulling 62fbfd9ed093...   0% ▕▏    0 B/ 182 B                  \u001b[?25h\u001b[?25l\u001b[2K\u001b[1G\u001b[A\u001b[2K\u001b[1G\u001b[A\u001b[2K\u001b[1Gpulling manifest \n",
      "pulling 6cafb858555d... 100% ▕▏ 990 MB                         \n",
      "pulling 62fbfd9ed093...   0% ▕▏    0 B/ 182 B                  \u001b[?25h\u001b[?25l\u001b[2K\u001b[1G\u001b[A\u001b[2K\u001b[1G\u001b[A\u001b[2K\u001b[1Gpulling manifest \n",
      "pulling 6cafb858555d... 100% ▕▏ 990 MB                         \n",
      "pulling 62fbfd9ed093... 100% ▕▏  182 B                         \u001b[?25h\u001b[?25l\u001b[2K\u001b[1G\u001b[A\u001b[2K\u001b[1G\u001b[A\u001b[2K\u001b[1Gpulling manifest \n",
      "pulling 6cafb858555d... 100% ▕▏ 990 MB                         \n",
      "pulling 62fbfd9ed093... 100% ▕▏  182 B                         \u001b[?25h\u001b[?25l\u001b[2K\u001b[1G\u001b[A\u001b[2K\u001b[1G\u001b[A\u001b[2K\u001b[1Gpulling manifest \n",
      "pulling 6cafb858555d... 100% ▕▏ 990 MB                         \n",
      "pulling 62fbfd9ed093... 100% ▕▏  182 B                         \u001b[?25h\u001b[?25l\u001b[2K\u001b[1G\u001b[A\u001b[2K\u001b[1G\u001b[A\u001b[2K\u001b[1Gpulling manifest \n",
      "pulling 6cafb858555d... 100% ▕▏ 990 MB                         \n",
      "pulling 62fbfd9ed093... 100% ▕▏  182 B                         \u001b[?25h\u001b[?25l\u001b[2K\u001b[1G\u001b[A\u001b[2K\u001b[1G\u001b[A\u001b[2K\u001b[1Gpulling manifest \n",
      "pulling 6cafb858555d... 100% ▕▏ 990 MB                         \n",
      "pulling 62fbfd9ed093... 100% ▕▏  182 B                         \u001b[?25h\u001b[?25l\u001b[2K\u001b[1G\u001b[A\u001b[2K\u001b[1G\u001b[A\u001b[2K\u001b[1Gpulling manifest \n",
      "pulling 6cafb858555d... 100% ▕▏ 990 MB                         \n",
      "pulling 62fbfd9ed093... 100% ▕▏  182 B                         \u001b[?25h\u001b[?25l\u001b[2K\u001b[1G\u001b[A\u001b[2K\u001b[1G\u001b[A\u001b[2K\u001b[1Gpulling manifest \n",
      "pulling 6cafb858555d... 100% ▕▏ 990 MB                         \n",
      "pulling 62fbfd9ed093... 100% ▕▏  182 B                         \u001b[?25h\u001b[?25l\u001b[2K\u001b[1G\u001b[A\u001b[2K\u001b[1G\u001b[A\u001b[2K\u001b[1Gpulling manifest \n",
      "pulling 6cafb858555d... 100% ▕▏ 990 MB                         \n",
      "pulling 62fbfd9ed093... 100% ▕▏  182 B                         \u001b[?25h\u001b[?25l\u001b[2K\u001b[1G\u001b[A\u001b[2K\u001b[1G\u001b[A\u001b[2K\u001b[1Gpulling manifest \n",
      "pulling 6cafb858555d... 100% ▕▏ 990 MB                         \n",
      "pulling 62fbfd9ed093... 100% ▕▏  182 B                         \u001b[?25h\u001b[?25l\u001b[2K\u001b[1G\u001b[A\u001b[2K\u001b[1G\u001b[A\u001b[2K\u001b[1Gpulling manifest \n",
      "pulling 6cafb858555d... 100% ▕▏ 990 MB                         \n",
      "pulling 62fbfd9ed093... 100% ▕▏  182 B                         \u001b[?25h\u001b[?25l\u001b[2K\u001b[1G\u001b[A\u001b[2K\u001b[1G\u001b[A\u001b[2K\u001b[1Gpulling manifest \n",
      "pulling 6cafb858555d... 100% ▕▏ 990 MB                         \n",
      "pulling 62fbfd9ed093... 100% ▕▏  182 B                         \n",
      "pulling cfc7749b96f6...   0% ▕▏    0 B/ 11 KB                  \u001b[?25h\u001b[?25l\u001b[2K\u001b[1G\u001b[A\u001b[2K\u001b[1G\u001b[A\u001b[2K\u001b[1G\u001b[A\u001b[2K\u001b[1Gpulling manifest \n",
      "pulling 6cafb858555d... 100% ▕▏ 990 MB                         \n",
      "pulling 62fbfd9ed093... 100% ▕▏  182 B                         \n",
      "pulling cfc7749b96f6...   0% ▕▏    0 B/ 11 KB                  \u001b[?25h\u001b[?25l\u001b[2K\u001b[1G\u001b[A\u001b[2K\u001b[1G\u001b[A\u001b[2K\u001b[1G\u001b[A\u001b[2K\u001b[1Gpulling manifest \n",
      "pulling 6cafb858555d... 100% ▕▏ 990 MB                         \n",
      "pulling 62fbfd9ed093... 100% ▕▏  182 B                         \n",
      "pulling cfc7749b96f6... 100% ▕▏  11 KB                         \u001b[?25h\u001b[?25l\u001b[2K\u001b[1G\u001b[A\u001b[2K\u001b[1G\u001b[A\u001b[2K\u001b[1G\u001b[A\u001b[2K\u001b[1Gpulling manifest \n",
      "pulling 6cafb858555d... 100% ▕▏ 990 MB                         \n",
      "pulling 62fbfd9ed093... 100% ▕▏  182 B                         \n",
      "pulling cfc7749b96f6... 100% ▕▏  11 KB                         \u001b[?25h\u001b[?25l\u001b[2K\u001b[1G\u001b[A\u001b[2K\u001b[1G\u001b[A\u001b[2K\u001b[1G\u001b[A\u001b[2K\u001b[1Gpulling manifest \n",
      "pulling 6cafb858555d... 100% ▕▏ 990 MB                         \n",
      "pulling 62fbfd9ed093... 100% ▕▏  182 B                         \n",
      "pulling cfc7749b96f6... 100% ▕▏  11 KB                         \u001b[?25h\u001b[?25l\u001b[2K\u001b[1G\u001b[A\u001b[2K\u001b[1G\u001b[A\u001b[2K\u001b[1G\u001b[A\u001b[2K\u001b[1Gpulling manifest \n",
      "pulling 6cafb858555d... 100% ▕▏ 990 MB                         \n",
      "pulling 62fbfd9ed093... 100% ▕▏  182 B                         \n",
      "pulling cfc7749b96f6... 100% ▕▏  11 KB                         \u001b[?25h\u001b[?25l\u001b[2K\u001b[1G\u001b[A\u001b[2K\u001b[1G\u001b[A\u001b[2K\u001b[1G\u001b[A\u001b[2K\u001b[1Gpulling manifest \n",
      "pulling 6cafb858555d... 100% ▕▏ 990 MB                         \n",
      "pulling 62fbfd9ed093... 100% ▕▏  182 B                         \n",
      "pulling cfc7749b96f6... 100% ▕▏  11 KB                         \u001b[?25h\u001b[?25l\u001b[2K\u001b[1G\u001b[A\u001b[2K\u001b[1G\u001b[A\u001b[2K\u001b[1G\u001b[A\u001b[2K\u001b[1Gpulling manifest \n",
      "pulling 6cafb858555d... 100% ▕▏ 990 MB                         \n",
      "pulling 62fbfd9ed093... 100% ▕▏  182 B                         \n",
      "pulling cfc7749b96f6... 100% ▕▏  11 KB                         \u001b[?25h\u001b[?25l\u001b[2K\u001b[1G\u001b[A\u001b[2K\u001b[1G\u001b[A\u001b[2K\u001b[1G\u001b[A\u001b[2K\u001b[1Gpulling manifest \n",
      "pulling 6cafb858555d... 100% ▕▏ 990 MB                         \n",
      "pulling 62fbfd9ed093... 100% ▕▏  182 B                         \n",
      "pulling cfc7749b96f6... 100% ▕▏  11 KB                         \u001b[?25h\u001b[?25l\u001b[2K\u001b[1G\u001b[A\u001b[2K\u001b[1G\u001b[A\u001b[2K\u001b[1G\u001b[A\u001b[2K\u001b[1Gpulling manifest \n",
      "pulling 6cafb858555d... 100% ▕▏ 990 MB                         \n",
      "pulling 62fbfd9ed093... 100% ▕▏  182 B                         \n",
      "pulling cfc7749b96f6... 100% ▕▏  11 KB                         \u001b[?25h\u001b[?25l\u001b[2K\u001b[1G\u001b[A\u001b[2K\u001b[1G\u001b[A\u001b[2K\u001b[1G\u001b[A\u001b[2K\u001b[1Gpulling manifest \n",
      "pulling 6cafb858555d... 100% ▕▏ 990 MB                         \n",
      "pulling 62fbfd9ed093... 100% ▕▏  182 B                         \n",
      "pulling cfc7749b96f6... 100% ▕▏  11 KB                         \u001b[?25h\u001b[?25l\u001b[2K\u001b[1G\u001b[A\u001b[2K\u001b[1G\u001b[A\u001b[2K\u001b[1G\u001b[A\u001b[2K\u001b[1Gpulling manifest \n",
      "pulling 6cafb858555d... 100% ▕▏ 990 MB                         \n",
      "pulling 62fbfd9ed093... 100% ▕▏  182 B                         \n",
      "pulling cfc7749b96f6... 100% ▕▏  11 KB                         \u001b[?25h\u001b[?25l\u001b[2K\u001b[1G\u001b[A\u001b[2K\u001b[1G\u001b[A\u001b[2K\u001b[1G\u001b[A\u001b[2K\u001b[1Gpulling manifest \n",
      "pulling 6cafb858555d... 100% ▕▏ 990 MB                         \n",
      "pulling 62fbfd9ed093... 100% ▕▏  182 B                         \n",
      "pulling cfc7749b96f6... 100% ▕▏  11 KB                         \n",
      "pulling ca7a9654b546...   0% ▕▏    0 B/  89 B                  \u001b[?25h\u001b[?25l\u001b[2K\u001b[1G\u001b[A\u001b[2K\u001b[1G\u001b[A\u001b[2K\u001b[1G\u001b[A\u001b[2K\u001b[1G\u001b[A\u001b[2K\u001b[1Gpulling manifest \n",
      "pulling 6cafb858555d... 100% ▕▏ 990 MB                         \n",
      "pulling 62fbfd9ed093... 100% ▕▏  182 B                         \n",
      "pulling cfc7749b96f6... 100% ▕▏  11 KB                         \n",
      "pulling ca7a9654b546...   0% ▕▏    0 B/  89 B                  \u001b[?25h\u001b[?25l\u001b[2K\u001b[1G\u001b[A\u001b[2K\u001b[1G\u001b[A\u001b[2K\u001b[1G\u001b[A\u001b[2K\u001b[1G\u001b[A\u001b[2K\u001b[1Gpulling manifest \n",
      "pulling 6cafb858555d... 100% ▕▏ 990 MB                         \n",
      "pulling 62fbfd9ed093... 100% ▕▏  182 B                         \n",
      "pulling cfc7749b96f6... 100% ▕▏  11 KB                         \n",
      "pulling ca7a9654b546... 100% ▕▏   89 B                         \u001b[?25h\u001b[?25l\u001b[2K\u001b[1G\u001b[A\u001b[2K\u001b[1G\u001b[A\u001b[2K\u001b[1G\u001b[A\u001b[2K\u001b[1G\u001b[A\u001b[2K\u001b[1Gpulling manifest \n",
      "pulling 6cafb858555d... 100% ▕▏ 990 MB                         \n",
      "pulling 62fbfd9ed093... 100% ▕▏  182 B                         \n",
      "pulling cfc7749b96f6... 100% ▕▏  11 KB                         \n",
      "pulling ca7a9654b546... 100% ▕▏   89 B                         \u001b[?25h\u001b[?25l\u001b[2K\u001b[1G\u001b[A\u001b[2K\u001b[1G\u001b[A\u001b[2K\u001b[1G\u001b[A\u001b[2K\u001b[1G\u001b[A\u001b[2K\u001b[1Gpulling manifest \n",
      "pulling 6cafb858555d... 100% ▕▏ 990 MB                         \n",
      "pulling 62fbfd9ed093... 100% ▕▏  182 B                         \n",
      "pulling cfc7749b96f6... 100% ▕▏  11 KB                         \n",
      "pulling ca7a9654b546... 100% ▕▏   89 B                         \u001b[?25h\u001b[?25l\u001b[2K\u001b[1G\u001b[A\u001b[2K\u001b[1G\u001b[A\u001b[2K\u001b[1G\u001b[A\u001b[2K\u001b[1G\u001b[A\u001b[2K\u001b[1Gpulling manifest \n",
      "pulling 6cafb858555d... 100% ▕▏ 990 MB                         \n",
      "pulling 62fbfd9ed093... 100% ▕▏  182 B                         \n",
      "pulling cfc7749b96f6... 100% ▕▏  11 KB                         \n",
      "pulling ca7a9654b546... 100% ▕▏   89 B                         \u001b[?25h\u001b[?25l\u001b[2K\u001b[1G\u001b[A\u001b[2K\u001b[1G\u001b[A\u001b[2K\u001b[1G\u001b[A\u001b[2K\u001b[1G\u001b[A\u001b[2K\u001b[1Gpulling manifest \n",
      "pulling 6cafb858555d... 100% ▕▏ 990 MB                         \n",
      "pulling 62fbfd9ed093... 100% ▕▏  182 B                         \n",
      "pulling cfc7749b96f6... 100% ▕▏  11 KB                         \n",
      "pulling ca7a9654b546... 100% ▕▏   89 B                         \u001b[?25h\u001b[?25l\u001b[2K\u001b[1G\u001b[A\u001b[2K\u001b[1G\u001b[A\u001b[2K\u001b[1G\u001b[A\u001b[2K\u001b[1G\u001b[A\u001b[2K\u001b[1Gpulling manifest \n",
      "pulling 6cafb858555d... 100% ▕▏ 990 MB                         \n",
      "pulling 62fbfd9ed093... 100% ▕▏  182 B                         \n",
      "pulling cfc7749b96f6... 100% ▕▏  11 KB                         \n",
      "pulling ca7a9654b546... 100% ▕▏   89 B                         \u001b[?25h\u001b[?25l\u001b[2K\u001b[1G\u001b[A\u001b[2K\u001b[1G\u001b[A\u001b[2K\u001b[1G\u001b[A\u001b[2K\u001b[1G\u001b[A\u001b[2K\u001b[1Gpulling manifest \n",
      "pulling 6cafb858555d... 100% ▕▏ 990 MB                         \n",
      "pulling 62fbfd9ed093... 100% ▕▏  182 B                         \n",
      "pulling cfc7749b96f6... 100% ▕▏  11 KB                         \n",
      "pulling ca7a9654b546... 100% ▕▏   89 B                         \u001b[?25h\u001b[?25l\u001b[2K\u001b[1G\u001b[A\u001b[2K\u001b[1G\u001b[A\u001b[2K\u001b[1G\u001b[A\u001b[2K\u001b[1G\u001b[A\u001b[2K\u001b[1Gpulling manifest \n",
      "pulling 6cafb858555d... 100% ▕▏ 990 MB                         \n",
      "pulling 62fbfd9ed093... 100% ▕▏  182 B                         \n",
      "pulling cfc7749b96f6... 100% ▕▏  11 KB                         \n",
      "pulling ca7a9654b546... 100% ▕▏   89 B                         \u001b[?25h\u001b[?25l\u001b[2K\u001b[1G\u001b[A\u001b[2K\u001b[1G\u001b[A\u001b[2K\u001b[1G\u001b[A\u001b[2K\u001b[1G\u001b[A\u001b[2K\u001b[1Gpulling manifest \n",
      "pulling 6cafb858555d... 100% ▕▏ 990 MB                         \n",
      "pulling 62fbfd9ed093... 100% ▕▏  182 B                         \n",
      "pulling cfc7749b96f6... 100% ▕▏  11 KB                         \n",
      "pulling ca7a9654b546... 100% ▕▏   89 B                         \u001b[?25h\u001b[?25l\u001b[2K\u001b[1G\u001b[A\u001b[2K\u001b[1G\u001b[A\u001b[2K\u001b[1G\u001b[A\u001b[2K\u001b[1G\u001b[A\u001b[2K\u001b[1Gpulling manifest \n",
      "pulling 6cafb858555d... 100% ▕▏ 990 MB                         \n",
      "pulling 62fbfd9ed093... 100% ▕▏  182 B                         \n",
      "pulling cfc7749b96f6... 100% ▕▏  11 KB                         \n",
      "pulling ca7a9654b546... 100% ▕▏   89 B                         \u001b[?25h\u001b[?25l\u001b[2K\u001b[1G\u001b[A\u001b[2K\u001b[1G\u001b[A\u001b[2K\u001b[1G\u001b[A\u001b[2K\u001b[1G\u001b[A\u001b[2K\u001b[1Gpulling manifest \n",
      "pulling 6cafb858555d... 100% ▕▏ 990 MB                         \n",
      "pulling 62fbfd9ed093... 100% ▕▏  182 B                         \n",
      "pulling cfc7749b96f6... 100% ▕▏  11 KB                         \n",
      "pulling ca7a9654b546... 100% ▕▏   89 B                         \u001b[?25h\u001b[?25l\u001b[2K\u001b[1G\u001b[A\u001b[2K\u001b[1G\u001b[A\u001b[2K\u001b[1G\u001b[A\u001b[2K\u001b[1G\u001b[A\u001b[2K\u001b[1Gpulling manifest \n",
      "pulling 6cafb858555d... 100% ▕▏ 990 MB                         \n",
      "pulling 62fbfd9ed093... 100% ▕▏  182 B                         \n",
      "pulling cfc7749b96f6... 100% ▕▏  11 KB                         \n",
      "pulling ca7a9654b546... 100% ▕▏   89 B                         \n",
      "pulling 1c3c04e4a658...   0% ▕▏    0 B/ 485 B                  \u001b[?25h\u001b[?25l\u001b[2K\u001b[1G\u001b[A\u001b[2K\u001b[1G\u001b[A\u001b[2K\u001b[1G\u001b[A\u001b[2K\u001b[1G\u001b[A\u001b[2K\u001b[1G\u001b[A\u001b[2K\u001b[1Gpulling manifest \n",
      "pulling 6cafb858555d... 100% ▕▏ 990 MB                         \n",
      "pulling 62fbfd9ed093... 100% ▕▏  182 B                         \n",
      "pulling cfc7749b96f6... 100% ▕▏  11 KB                         \n",
      "pulling ca7a9654b546... 100% ▕▏   89 B                         \n",
      "pulling 1c3c04e4a658... 100% ▕▏  485 B                         \u001b[?25h\u001b[?25l\u001b[2K\u001b[1G\u001b[A\u001b[2K\u001b[1G\u001b[A\u001b[2K\u001b[1G\u001b[A\u001b[2K\u001b[1G\u001b[A\u001b[2K\u001b[1G\u001b[A\u001b[2K\u001b[1Gpulling manifest \n",
      "pulling 6cafb858555d... 100% ▕▏ 990 MB                         \n",
      "pulling 62fbfd9ed093... 100% ▕▏  182 B                         \n",
      "pulling cfc7749b96f6... 100% ▕▏  11 KB                         \n",
      "pulling ca7a9654b546... 100% ▕▏   89 B                         \n",
      "pulling 1c3c04e4a658... 100% ▕▏  485 B                         \u001b[?25h\u001b[?25l\u001b[2K\u001b[1G\u001b[A\u001b[2K\u001b[1G\u001b[A\u001b[2K\u001b[1G\u001b[A\u001b[2K\u001b[1G\u001b[A\u001b[2K\u001b[1G\u001b[A\u001b[2K\u001b[1Gpulling manifest \n",
      "pulling 6cafb858555d... 100% ▕▏ 990 MB                         \n",
      "pulling 62fbfd9ed093... 100% ▕▏  182 B                         \n",
      "pulling cfc7749b96f6... 100% ▕▏  11 KB                         \n",
      "pulling ca7a9654b546... 100% ▕▏   89 B                         \n",
      "pulling 1c3c04e4a658... 100% ▕▏  485 B                         \u001b[?25h\u001b[?25l\u001b[2K\u001b[1G\u001b[A\u001b[2K\u001b[1G\u001b[A\u001b[2K\u001b[1G\u001b[A\u001b[2K\u001b[1G\u001b[A\u001b[2K\u001b[1G\u001b[A\u001b[2K\u001b[1Gpulling manifest \n",
      "pulling 6cafb858555d... 100% ▕▏ 990 MB                         \n",
      "pulling 62fbfd9ed093... 100% ▕▏  182 B                         \n",
      "pulling cfc7749b96f6... 100% ▕▏  11 KB                         \n",
      "pulling ca7a9654b546... 100% ▕▏   89 B                         \n",
      "pulling 1c3c04e4a658... 100% ▕▏  485 B                         \u001b[?25h\u001b[?25l\u001b[2K\u001b[1G\u001b[A\u001b[2K\u001b[1G\u001b[A\u001b[2K\u001b[1G\u001b[A\u001b[2K\u001b[1G\u001b[A\u001b[2K\u001b[1G\u001b[A\u001b[2K\u001b[1Gpulling manifest \n",
      "pulling 6cafb858555d... 100% ▕▏ 990 MB                         \n",
      "pulling 62fbfd9ed093... 100% ▕▏  182 B                         \n",
      "pulling cfc7749b96f6... 100% ▕▏  11 KB                         \n",
      "pulling ca7a9654b546... 100% ▕▏   89 B                         \n",
      "pulling 1c3c04e4a658... 100% ▕▏  485 B                         \u001b[?25h\u001b[?25l\u001b[2K\u001b[1G\u001b[A\u001b[2K\u001b[1G\u001b[A\u001b[2K\u001b[1G\u001b[A\u001b[2K\u001b[1G\u001b[A\u001b[2K\u001b[1G\u001b[A\u001b[2K\u001b[1Gpulling manifest \n",
      "pulling 6cafb858555d... 100% ▕▏ 990 MB                         \n",
      "pulling 62fbfd9ed093... 100% ▕▏  182 B                         \n",
      "pulling cfc7749b96f6... 100% ▕▏  11 KB                         \n",
      "pulling ca7a9654b546... 100% ▕▏   89 B                         \n",
      "pulling 1c3c04e4a658... 100% ▕▏  485 B                         \u001b[?25h\u001b[?25l\u001b[2K\u001b[1G\u001b[A\u001b[2K\u001b[1G\u001b[A\u001b[2K\u001b[1G\u001b[A\u001b[2K\u001b[1G\u001b[A\u001b[2K\u001b[1G\u001b[A\u001b[2K\u001b[1Gpulling manifest \n",
      "pulling 6cafb858555d... 100% ▕▏ 990 MB                         \n",
      "pulling 62fbfd9ed093... 100% ▕▏  182 B                         \n",
      "pulling cfc7749b96f6... 100% ▕▏  11 KB                         \n",
      "pulling ca7a9654b546... 100% ▕▏   89 B                         \n",
      "pulling 1c3c04e4a658... 100% ▕▏  485 B                         \u001b[?25h\u001b[?25l\u001b[2K\u001b[1G\u001b[A\u001b[2K\u001b[1G\u001b[A\u001b[2K\u001b[1G\u001b[A\u001b[2K\u001b[1G\u001b[A\u001b[2K\u001b[1G\u001b[A\u001b[2K\u001b[1Gpulling manifest \n",
      "pulling 6cafb858555d... 100% ▕▏ 990 MB                         \n",
      "pulling 62fbfd9ed093... 100% ▕▏  182 B                         \n",
      "pulling cfc7749b96f6... 100% ▕▏  11 KB                         \n",
      "pulling ca7a9654b546... 100% ▕▏   89 B                         \n",
      "pulling 1c3c04e4a658... 100% ▕▏  485 B                         \u001b[?25h\u001b[?25l\u001b[2K\u001b[1G\u001b[A\u001b[2K\u001b[1G\u001b[A\u001b[2K\u001b[1G\u001b[A\u001b[2K\u001b[1G\u001b[A\u001b[2K\u001b[1G\u001b[A\u001b[2K\u001b[1Gpulling manifest \n",
      "pulling 6cafb858555d... 100% ▕▏ 990 MB                         \n",
      "pulling 62fbfd9ed093... 100% ▕▏  182 B                         \n",
      "pulling cfc7749b96f6... 100% ▕▏  11 KB                         \n",
      "pulling ca7a9654b546... 100% ▕▏   89 B                         \n",
      "pulling 1c3c04e4a658... 100% ▕▏  485 B                         \u001b[?25h\u001b[?25l\u001b[2K\u001b[1G\u001b[A\u001b[2K\u001b[1G\u001b[A\u001b[2K\u001b[1G\u001b[A\u001b[2K\u001b[1G\u001b[A\u001b[2K\u001b[1G\u001b[A\u001b[2K\u001b[1Gpulling manifest \n",
      "pulling 6cafb858555d... 100% ▕▏ 990 MB                         \n",
      "pulling 62fbfd9ed093... 100% ▕▏  182 B                         \n",
      "pulling cfc7749b96f6... 100% ▕▏  11 KB                         \n",
      "pulling ca7a9654b546... 100% ▕▏   89 B                         \n",
      "pulling 1c3c04e4a658... 100% ▕▏  485 B                         \n",
      "verifying sha256 digest ⠋ \u001b[?25h\u001b[?25l\u001b[2K\u001b[1G\u001b[A\u001b[2K\u001b[1G\u001b[A\u001b[2K\u001b[1G\u001b[A\u001b[2K\u001b[1G\u001b[A\u001b[2K\u001b[1G\u001b[A\u001b[2K\u001b[1G\u001b[A\u001b[2K\u001b[1Gpulling manifest \n",
      "pulling 6cafb858555d... 100% ▕▏ 990 MB                         \n",
      "pulling 62fbfd9ed093... 100% ▕▏  182 B                         \n",
      "pulling cfc7749b96f6... 100% ▕▏  11 KB                         \n",
      "pulling ca7a9654b546... 100% ▕▏   89 B                         \n",
      "pulling 1c3c04e4a658... 100% ▕▏  485 B                         \n",
      "verifying sha256 digest ⠙ \u001b[?25h\u001b[?25l\u001b[2K\u001b[1G\u001b[A\u001b[2K\u001b[1G\u001b[A\u001b[2K\u001b[1G\u001b[A\u001b[2K\u001b[1G\u001b[A\u001b[2K\u001b[1G\u001b[A\u001b[2K\u001b[1G\u001b[A\u001b[2K\u001b[1Gpulling manifest \n",
      "pulling 6cafb858555d... 100% ▕▏ 990 MB                         \n",
      "pulling 62fbfd9ed093... 100% ▕▏  182 B                         \n",
      "pulling cfc7749b96f6... 100% ▕▏  11 KB                         \n",
      "pulling ca7a9654b546... 100% ▕▏   89 B                         \n",
      "pulling 1c3c04e4a658... 100% ▕▏  485 B                         \n",
      "verifying sha256 digest ⠹ \u001b[?25h\u001b[?25l\u001b[2K\u001b[1G\u001b[A\u001b[2K\u001b[1G\u001b[A\u001b[2K\u001b[1G\u001b[A\u001b[2K\u001b[1G\u001b[A\u001b[2K\u001b[1G\u001b[A\u001b[2K\u001b[1G\u001b[A\u001b[2K\u001b[1Gpulling manifest \n",
      "pulling 6cafb858555d... 100% ▕▏ 990 MB                         \n",
      "pulling 62fbfd9ed093... 100% ▕▏  182 B                         \n",
      "pulling cfc7749b96f6... 100% ▕▏  11 KB                         \n",
      "pulling ca7a9654b546... 100% ▕▏   89 B                         \n",
      "pulling 1c3c04e4a658... 100% ▕▏  485 B                         \n",
      "verifying sha256 digest ⠸ \u001b[?25h\u001b[?25l\u001b[2K\u001b[1G\u001b[A\u001b[2K\u001b[1G\u001b[A\u001b[2K\u001b[1G\u001b[A\u001b[2K\u001b[1G\u001b[A\u001b[2K\u001b[1G\u001b[A\u001b[2K\u001b[1G\u001b[A\u001b[2K\u001b[1Gpulling manifest \n",
      "pulling 6cafb858555d... 100% ▕▏ 990 MB                         \n",
      "pulling 62fbfd9ed093... 100% ▕▏  182 B                         \n",
      "pulling cfc7749b96f6... 100% ▕▏  11 KB                         \n",
      "pulling ca7a9654b546... 100% ▕▏   89 B                         \n",
      "pulling 1c3c04e4a658... 100% ▕▏  485 B                         \n",
      "verifying sha256 digest ⠼ \u001b[?25h\u001b[?25l\u001b[2K\u001b[1G\u001b[A\u001b[2K\u001b[1G\u001b[A\u001b[2K\u001b[1G\u001b[A\u001b[2K\u001b[1G\u001b[A\u001b[2K\u001b[1G\u001b[A\u001b[2K\u001b[1G\u001b[A\u001b[2K\u001b[1Gpulling manifest \n",
      "pulling 6cafb858555d... 100% ▕▏ 990 MB                         \n",
      "pulling 62fbfd9ed093... 100% ▕▏  182 B                         \n",
      "pulling cfc7749b96f6... 100% ▕▏  11 KB                         \n",
      "pulling ca7a9654b546... 100% ▕▏   89 B                         \n",
      "pulling 1c3c04e4a658... 100% ▕▏  485 B                         \n",
      "verifying sha256 digest ⠴ \u001b[?25h\u001b[?25l\u001b[2K\u001b[1G\u001b[A\u001b[2K\u001b[1G\u001b[A\u001b[2K\u001b[1G\u001b[A\u001b[2K\u001b[1G\u001b[A\u001b[2K\u001b[1G\u001b[A\u001b[2K\u001b[1G\u001b[A\u001b[2K\u001b[1Gpulling manifest \n",
      "pulling 6cafb858555d... 100% ▕▏ 990 MB                         \n",
      "pulling 62fbfd9ed093... 100% ▕▏  182 B                         \n",
      "pulling cfc7749b96f6... 100% ▕▏  11 KB                         \n",
      "pulling ca7a9654b546... 100% ▕▏   89 B                         \n",
      "pulling 1c3c04e4a658... 100% ▕▏  485 B                         \n",
      "verifying sha256 digest ⠦ \u001b[?25h\u001b[?25l\u001b[2K\u001b[1G\u001b[A\u001b[2K\u001b[1G\u001b[A\u001b[2K\u001b[1G\u001b[A\u001b[2K\u001b[1G\u001b[A\u001b[2K\u001b[1G\u001b[A\u001b[2K\u001b[1G\u001b[A\u001b[2K\u001b[1Gpulling manifest \n",
      "pulling 6cafb858555d... 100% ▕▏ 990 MB                         \n",
      "pulling 62fbfd9ed093... 100% ▕▏  182 B                         \n",
      "pulling cfc7749b96f6... 100% ▕▏  11 KB                         \n",
      "pulling ca7a9654b546... 100% ▕▏   89 B                         \n",
      "pulling 1c3c04e4a658... 100% ▕▏  485 B                         \n",
      "verifying sha256 digest ⠧ \u001b[?25h\u001b[?25l\u001b[2K\u001b[1G\u001b[A\u001b[2K\u001b[1G\u001b[A\u001b[2K\u001b[1G\u001b[A\u001b[2K\u001b[1G\u001b[A\u001b[2K\u001b[1G\u001b[A\u001b[2K\u001b[1G\u001b[A\u001b[2K\u001b[1Gpulling manifest \n",
      "pulling 6cafb858555d... 100% ▕▏ 990 MB                         \n",
      "pulling 62fbfd9ed093... 100% ▕▏  182 B                         \n",
      "pulling cfc7749b96f6... 100% ▕▏  11 KB                         \n",
      "pulling ca7a9654b546... 100% ▕▏   89 B                         \n",
      "pulling 1c3c04e4a658... 100% ▕▏  485 B                         \n",
      "verifying sha256 digest ⠇ \u001b[?25h\u001b[?25l\u001b[2K\u001b[1G\u001b[A\u001b[2K\u001b[1G\u001b[A\u001b[2K\u001b[1G\u001b[A\u001b[2K\u001b[1G\u001b[A\u001b[2K\u001b[1G\u001b[A\u001b[2K\u001b[1G\u001b[A\u001b[2K\u001b[1Gpulling manifest \n",
      "pulling 6cafb858555d... 100% ▕▏ 990 MB                         \n",
      "pulling 62fbfd9ed093... 100% ▕▏  182 B                         \n",
      "pulling cfc7749b96f6... 100% ▕▏  11 KB                         \n",
      "pulling ca7a9654b546... 100% ▕▏   89 B                         \n",
      "pulling 1c3c04e4a658... 100% ▕▏  485 B                         \n",
      "verifying sha256 digest ⠏ \u001b[?25h\u001b[?25l\u001b[2K\u001b[1G\u001b[A\u001b[2K\u001b[1G\u001b[A\u001b[2K\u001b[1G\u001b[A\u001b[2K\u001b[1G\u001b[A\u001b[2K\u001b[1G\u001b[A\u001b[2K\u001b[1G\u001b[A\u001b[2K\u001b[1Gpulling manifest \n",
      "pulling 6cafb858555d... 100% ▕▏ 990 MB                         \n",
      "pulling 62fbfd9ed093... 100% ▕▏  182 B                         \n",
      "pulling cfc7749b96f6... 100% ▕▏  11 KB                         \n",
      "pulling ca7a9654b546... 100% ▕▏   89 B                         \n",
      "pulling 1c3c04e4a658... 100% ▕▏  485 B                         \n",
      "verifying sha256 digest ⠋ \u001b[?25h\u001b[?25l\u001b[2K\u001b[1G\u001b[A\u001b[2K\u001b[1G\u001b[A\u001b[2K\u001b[1G\u001b[A\u001b[2K\u001b[1G\u001b[A\u001b[2K\u001b[1G\u001b[A\u001b[2K\u001b[1G\u001b[A\u001b[2K\u001b[1Gpulling manifest \n",
      "pulling 6cafb858555d... 100% ▕▏ 990 MB                         \n",
      "pulling 62fbfd9ed093... 100% ▕▏  182 B                         \n",
      "pulling cfc7749b96f6... 100% ▕▏  11 KB                         \n",
      "pulling ca7a9654b546... 100% ▕▏   89 B                         \n",
      "pulling 1c3c04e4a658... 100% ▕▏  485 B                         \n",
      "verifying sha256 digest ⠙ \u001b[?25h\u001b[?25l\u001b[2K\u001b[1G\u001b[A\u001b[2K\u001b[1G\u001b[A\u001b[2K\u001b[1G\u001b[A\u001b[2K\u001b[1G\u001b[A\u001b[2K\u001b[1G\u001b[A\u001b[2K\u001b[1G\u001b[A\u001b[2K\u001b[1Gpulling manifest \n",
      "pulling 6cafb858555d... 100% ▕▏ 990 MB                         \n",
      "pulling 62fbfd9ed093... 100% ▕▏  182 B                         \n",
      "pulling cfc7749b96f6... 100% ▕▏  11 KB                         \n",
      "pulling ca7a9654b546... 100% ▕▏   89 B                         \n",
      "pulling 1c3c04e4a658... 100% ▕▏  485 B                         \n",
      "verifying sha256 digest ⠹ \u001b[?25h\u001b[?25l\u001b[2K\u001b[1G\u001b[A\u001b[2K\u001b[1G\u001b[A\u001b[2K\u001b[1G\u001b[A\u001b[2K\u001b[1G\u001b[A\u001b[2K\u001b[1G\u001b[A\u001b[2K\u001b[1G\u001b[A\u001b[2K\u001b[1Gpulling manifest \n",
      "pulling 6cafb858555d... 100% ▕▏ 990 MB                         \n",
      "pulling 62fbfd9ed093... 100% ▕▏  182 B                         \n",
      "pulling cfc7749b96f6... 100% ▕▏  11 KB                         \n",
      "pulling ca7a9654b546... 100% ▕▏   89 B                         \n",
      "pulling 1c3c04e4a658... 100% ▕▏  485 B                         \n",
      "verifying sha256 digest ⠸ \u001b[?25h\u001b[?25l\u001b[2K\u001b[1G\u001b[A\u001b[2K\u001b[1G\u001b[A\u001b[2K\u001b[1G\u001b[A\u001b[2K\u001b[1G\u001b[A\u001b[2K\u001b[1G\u001b[A\u001b[2K\u001b[1G\u001b[A\u001b[2K\u001b[1Gpulling manifest \n",
      "pulling 6cafb858555d... 100% ▕▏ 990 MB                         \n",
      "pulling 62fbfd9ed093... 100% ▕▏  182 B                         \n",
      "pulling cfc7749b96f6... 100% ▕▏  11 KB                         \n",
      "pulling ca7a9654b546... 100% ▕▏   89 B                         \n",
      "pulling 1c3c04e4a658... 100% ▕▏  485 B                         \n",
      "verifying sha256 digest ⠼ \u001b[?25h\u001b[?25l\u001b[2K\u001b[1G\u001b[A\u001b[2K\u001b[1G\u001b[A\u001b[2K\u001b[1G\u001b[A\u001b[2K\u001b[1G\u001b[A\u001b[2K\u001b[1G\u001b[A\u001b[2K\u001b[1G\u001b[A\u001b[2K\u001b[1Gpulling manifest \n",
      "pulling 6cafb858555d... 100% ▕▏ 990 MB                         \n",
      "pulling 62fbfd9ed093... 100% ▕▏  182 B                         \n",
      "pulling cfc7749b96f6... 100% ▕▏  11 KB                         \n",
      "pulling ca7a9654b546... 100% ▕▏   89 B                         \n",
      "pulling 1c3c04e4a658... 100% ▕▏  485 B                         \n",
      "verifying sha256 digest ⠴ \u001b[?25h\u001b[?25l\u001b[2K\u001b[1G\u001b[A\u001b[2K\u001b[1G\u001b[A\u001b[2K\u001b[1G\u001b[A\u001b[2K\u001b[1G\u001b[A\u001b[2K\u001b[1G\u001b[A\u001b[2K\u001b[1G\u001b[A\u001b[2K\u001b[1Gpulling manifest \n",
      "pulling 6cafb858555d... 100% ▕▏ 990 MB                         \n",
      "pulling 62fbfd9ed093... 100% ▕▏  182 B                         \n",
      "pulling cfc7749b96f6... 100% ▕▏  11 KB                         \n",
      "pulling ca7a9654b546... 100% ▕▏   89 B                         \n",
      "pulling 1c3c04e4a658... 100% ▕▏  485 B                         \n",
      "verifying sha256 digest ⠦ \u001b[?25h\u001b[?25l\u001b[2K\u001b[1G\u001b[A\u001b[2K\u001b[1G\u001b[A\u001b[2K\u001b[1G\u001b[A\u001b[2K\u001b[1G\u001b[A\u001b[2K\u001b[1G\u001b[A\u001b[2K\u001b[1G\u001b[A\u001b[2K\u001b[1Gpulling manifest \n",
      "pulling 6cafb858555d... 100% ▕▏ 990 MB                         \n",
      "pulling 62fbfd9ed093... 100% ▕▏  182 B                         \n",
      "pulling cfc7749b96f6... 100% ▕▏  11 KB                         \n",
      "pulling ca7a9654b546... 100% ▕▏   89 B                         \n",
      "pulling 1c3c04e4a658... 100% ▕▏  485 B                         \n",
      "verifying sha256 digest ⠧ \u001b[?25h\u001b[?25l\u001b[2K\u001b[1G\u001b[A\u001b[2K\u001b[1G\u001b[A\u001b[2K\u001b[1G\u001b[A\u001b[2K\u001b[1G\u001b[A\u001b[2K\u001b[1G\u001b[A\u001b[2K\u001b[1G\u001b[A\u001b[2K\u001b[1Gpulling manifest \n",
      "pulling 6cafb858555d... 100% ▕▏ 990 MB                         \n",
      "pulling 62fbfd9ed093... 100% ▕▏  182 B                         \n",
      "pulling cfc7749b96f6... 100% ▕▏  11 KB                         \n",
      "pulling ca7a9654b546... 100% ▕▏   89 B                         \n",
      "pulling 1c3c04e4a658... 100% ▕▏  485 B                         \n",
      "verifying sha256 digest ⠇ \u001b[?25h\u001b[?25l\u001b[2K\u001b[1G\u001b[A\u001b[2K\u001b[1G\u001b[A\u001b[2K\u001b[1G\u001b[A\u001b[2K\u001b[1G\u001b[A\u001b[2K\u001b[1G\u001b[A\u001b[2K\u001b[1G\u001b[A\u001b[2K\u001b[1Gpulling manifest \n",
      "pulling 6cafb858555d... 100% ▕▏ 990 MB                         \n",
      "pulling 62fbfd9ed093... 100% ▕▏  182 B                         \n",
      "pulling cfc7749b96f6... 100% ▕▏  11 KB                         \n",
      "pulling ca7a9654b546... 100% ▕▏   89 B                         \n",
      "pulling 1c3c04e4a658... 100% ▕▏  485 B                         \n",
      "verifying sha256 digest ⠏ \u001b[?25h\u001b[?25l\u001b[2K\u001b[1G\u001b[A\u001b[2K\u001b[1G\u001b[A\u001b[2K\u001b[1G\u001b[A\u001b[2K\u001b[1G\u001b[A\u001b[2K\u001b[1G\u001b[A\u001b[2K\u001b[1G\u001b[A\u001b[2K\u001b[1Gpulling manifest \n",
      "pulling 6cafb858555d... 100% ▕▏ 990 MB                         \n",
      "pulling 62fbfd9ed093... 100% ▕▏  182 B                         \n",
      "pulling cfc7749b96f6... 100% ▕▏  11 KB                         \n",
      "pulling ca7a9654b546... 100% ▕▏   89 B                         \n",
      "pulling 1c3c04e4a658... 100% ▕▏  485 B                         \n",
      "verifying sha256 digest ⠋ \u001b[?25h\u001b[?25l\u001b[2K\u001b[1G\u001b[A\u001b[2K\u001b[1G\u001b[A\u001b[2K\u001b[1G\u001b[A\u001b[2K\u001b[1G\u001b[A\u001b[2K\u001b[1G\u001b[A\u001b[2K\u001b[1G\u001b[A\u001b[2K\u001b[1Gpulling manifest \n",
      "pulling 6cafb858555d... 100% ▕▏ 990 MB                         \n",
      "pulling 62fbfd9ed093... 100% ▕▏  182 B                         \n",
      "pulling cfc7749b96f6... 100% ▕▏  11 KB                         \n",
      "pulling ca7a9654b546... 100% ▕▏   89 B                         \n",
      "pulling 1c3c04e4a658... 100% ▕▏  485 B                         \n",
      "verifying sha256 digest ⠙ \u001b[?25h\u001b[?25l\u001b[2K\u001b[1G\u001b[A\u001b[2K\u001b[1G\u001b[A\u001b[2K\u001b[1G\u001b[A\u001b[2K\u001b[1G\u001b[A\u001b[2K\u001b[1G\u001b[A\u001b[2K\u001b[1G\u001b[A\u001b[2K\u001b[1Gpulling manifest \n",
      "pulling 6cafb858555d... 100% ▕▏ 990 MB                         \n",
      "pulling 62fbfd9ed093... 100% ▕▏  182 B                         \n",
      "pulling cfc7749b96f6... 100% ▕▏  11 KB                         \n",
      "pulling ca7a9654b546... 100% ▕▏   89 B                         \n",
      "pulling 1c3c04e4a658... 100% ▕▏  485 B                         \n",
      "verifying sha256 digest ⠹ \u001b[?25h\u001b[?25l\u001b[2K\u001b[1G\u001b[A\u001b[2K\u001b[1G\u001b[A\u001b[2K\u001b[1G\u001b[A\u001b[2K\u001b[1G\u001b[A\u001b[2K\u001b[1G\u001b[A\u001b[2K\u001b[1G\u001b[A\u001b[2K\u001b[1Gpulling manifest \n",
      "pulling 6cafb858555d... 100% ▕▏ 990 MB                         \n",
      "pulling 62fbfd9ed093... 100% ▕▏  182 B                         \n",
      "pulling cfc7749b96f6... 100% ▕▏  11 KB                         \n",
      "pulling ca7a9654b546... 100% ▕▏   89 B                         \n",
      "pulling 1c3c04e4a658... 100% ▕▏  485 B                         \n",
      "verifying sha256 digest ⠸ \u001b[?25h\u001b[?25l\u001b[2K\u001b[1G\u001b[A\u001b[2K\u001b[1G\u001b[A\u001b[2K\u001b[1G\u001b[A\u001b[2K\u001b[1G\u001b[A\u001b[2K\u001b[1G\u001b[A\u001b[2K\u001b[1G\u001b[A\u001b[2K\u001b[1Gpulling manifest \n",
      "pulling 6cafb858555d... 100% ▕▏ 990 MB                         \n",
      "pulling 62fbfd9ed093... 100% ▕▏  182 B                         \n",
      "pulling cfc7749b96f6... 100% ▕▏  11 KB                         \n",
      "pulling ca7a9654b546... 100% ▕▏   89 B                         \n",
      "pulling 1c3c04e4a658... 100% ▕▏  485 B                         \n",
      "verifying sha256 digest ⠼ \u001b[?25h\u001b[?25l\u001b[2K\u001b[1G\u001b[A\u001b[2K\u001b[1G\u001b[A\u001b[2K\u001b[1G\u001b[A\u001b[2K\u001b[1G\u001b[A\u001b[2K\u001b[1G\u001b[A\u001b[2K\u001b[1G\u001b[A\u001b[2K\u001b[1Gpulling manifest \n",
      "pulling 6cafb858555d... 100% ▕▏ 990 MB                         \n",
      "pulling 62fbfd9ed093... 100% ▕▏  182 B                         \n",
      "pulling cfc7749b96f6... 100% ▕▏  11 KB                         \n",
      "pulling ca7a9654b546... 100% ▕▏   89 B                         \n",
      "pulling 1c3c04e4a658... 100% ▕▏  485 B                         \n",
      "verifying sha256 digest ⠴ \u001b[?25h\u001b[?25l\u001b[2K\u001b[1G\u001b[A\u001b[2K\u001b[1G\u001b[A\u001b[2K\u001b[1G\u001b[A\u001b[2K\u001b[1G\u001b[A\u001b[2K\u001b[1G\u001b[A\u001b[2K\u001b[1G\u001b[A\u001b[2K\u001b[1Gpulling manifest \n",
      "pulling 6cafb858555d... 100% ▕▏ 990 MB                         \n",
      "pulling 62fbfd9ed093... 100% ▕▏  182 B                         \n",
      "pulling cfc7749b96f6... 100% ▕▏  11 KB                         \n",
      "pulling ca7a9654b546... 100% ▕▏   89 B                         \n",
      "pulling 1c3c04e4a658... 100% ▕▏  485 B                         \n",
      "verifying sha256 digest ⠦ \u001b[?25h\u001b[?25l\u001b[2K\u001b[1G\u001b[A\u001b[2K\u001b[1G\u001b[A\u001b[2K\u001b[1G\u001b[A\u001b[2K\u001b[1G\u001b[A\u001b[2K\u001b[1G\u001b[A\u001b[2K\u001b[1G\u001b[A\u001b[2K\u001b[1Gpulling manifest \n",
      "pulling 6cafb858555d... 100% ▕▏ 990 MB                         \n",
      "pulling 62fbfd9ed093... 100% ▕▏  182 B                         \n",
      "pulling cfc7749b96f6... 100% ▕▏  11 KB                         \n",
      "pulling ca7a9654b546... 100% ▕▏   89 B                         \n",
      "pulling 1c3c04e4a658... 100% ▕▏  485 B                         \n",
      "verifying sha256 digest ⠧ \u001b[?25h\u001b[?25l\u001b[2K\u001b[1G\u001b[A\u001b[2K\u001b[1G\u001b[A\u001b[2K\u001b[1G\u001b[A\u001b[2K\u001b[1G\u001b[A\u001b[2K\u001b[1G\u001b[A\u001b[2K\u001b[1G\u001b[A\u001b[2K\u001b[1Gpulling manifest \n",
      "pulling 6cafb858555d... 100% ▕▏ 990 MB                         \n",
      "pulling 62fbfd9ed093... 100% ▕▏  182 B                         \n",
      "pulling cfc7749b96f6... 100% ▕▏  11 KB                         \n",
      "pulling ca7a9654b546... 100% ▕▏   89 B                         \n",
      "pulling 1c3c04e4a658... 100% ▕▏  485 B                         \n",
      "verifying sha256 digest ⠇ \u001b[?25h\u001b[?25l\u001b[2K\u001b[1G\u001b[A\u001b[2K\u001b[1G\u001b[A\u001b[2K\u001b[1G\u001b[A\u001b[2K\u001b[1G\u001b[A\u001b[2K\u001b[1G\u001b[A\u001b[2K\u001b[1G\u001b[A\u001b[2K\u001b[1Gpulling manifest \n",
      "pulling 6cafb858555d... 100% ▕▏ 990 MB                         \n",
      "pulling 62fbfd9ed093... 100% ▕▏  182 B                         \n",
      "pulling cfc7749b96f6... 100% ▕▏  11 KB                         \n",
      "pulling ca7a9654b546... 100% ▕▏   89 B                         \n",
      "pulling 1c3c04e4a658... 100% ▕▏  485 B                         \n",
      "verifying sha256 digest ⠏ \u001b[?25h\u001b[?25l\u001b[2K\u001b[1G\u001b[A\u001b[2K\u001b[1G\u001b[A\u001b[2K\u001b[1G\u001b[A\u001b[2K\u001b[1G\u001b[A\u001b[2K\u001b[1G\u001b[A\u001b[2K\u001b[1G\u001b[A\u001b[2K\u001b[1Gpulling manifest \n",
      "pulling 6cafb858555d... 100% ▕▏ 990 MB                         \n",
      "pulling 62fbfd9ed093... 100% ▕▏  182 B                         \n",
      "pulling cfc7749b96f6... 100% ▕▏  11 KB                         \n",
      "pulling ca7a9654b546... 100% ▕▏   89 B                         \n",
      "pulling 1c3c04e4a658... 100% ▕▏  485 B                         \n",
      "verifying sha256 digest ⠋ \u001b[?25h\u001b[?25l\u001b[2K\u001b[1G\u001b[A\u001b[2K\u001b[1G\u001b[A\u001b[2K\u001b[1G\u001b[A\u001b[2K\u001b[1G\u001b[A\u001b[2K\u001b[1G\u001b[A\u001b[2K\u001b[1G\u001b[A\u001b[2K\u001b[1Gpulling manifest \n",
      "pulling 6cafb858555d... 100% ▕▏ 990 MB                         \n",
      "pulling 62fbfd9ed093... 100% ▕▏  182 B                         \n",
      "pulling cfc7749b96f6... 100% ▕▏  11 KB                         \n",
      "pulling ca7a9654b546... 100% ▕▏   89 B                         \n",
      "pulling 1c3c04e4a658... 100% ▕▏  485 B                         \n",
      "verifying sha256 digest ⠙ \u001b[?25h\u001b[?25l\u001b[2K\u001b[1G\u001b[A\u001b[2K\u001b[1G\u001b[A\u001b[2K\u001b[1G\u001b[A\u001b[2K\u001b[1G\u001b[A\u001b[2K\u001b[1G\u001b[A\u001b[2K\u001b[1G\u001b[A\u001b[2K\u001b[1Gpulling manifest \n",
      "pulling 6cafb858555d... 100% ▕▏ 990 MB                         \n",
      "pulling 62fbfd9ed093... 100% ▕▏  182 B                         \n",
      "pulling cfc7749b96f6... 100% ▕▏  11 KB                         \n",
      "pulling ca7a9654b546... 100% ▕▏   89 B                         \n",
      "pulling 1c3c04e4a658... 100% ▕▏  485 B                         \n",
      "verifying sha256 digest ⠹ \u001b[?25h\u001b[?25l\u001b[2K\u001b[1G\u001b[A\u001b[2K\u001b[1G\u001b[A\u001b[2K\u001b[1G\u001b[A\u001b[2K\u001b[1G\u001b[A\u001b[2K\u001b[1G\u001b[A\u001b[2K\u001b[1G\u001b[A\u001b[2K\u001b[1Gpulling manifest \n",
      "pulling 6cafb858555d... 100% ▕▏ 990 MB                         \n",
      "pulling 62fbfd9ed093... 100% ▕▏  182 B                         \n",
      "pulling cfc7749b96f6... 100% ▕▏  11 KB                         \n",
      "pulling ca7a9654b546... 100% ▕▏   89 B                         \n",
      "pulling 1c3c04e4a658... 100% ▕▏  485 B                         \n",
      "verifying sha256 digest ⠸ \u001b[?25h\u001b[?25l\u001b[2K\u001b[1G\u001b[A\u001b[2K\u001b[1G\u001b[A\u001b[2K\u001b[1G\u001b[A\u001b[2K\u001b[1G\u001b[A\u001b[2K\u001b[1G\u001b[A\u001b[2K\u001b[1G\u001b[A\u001b[2K\u001b[1Gpulling manifest \n",
      "pulling 6cafb858555d... 100% ▕▏ 990 MB                         \n",
      "pulling 62fbfd9ed093... 100% ▕▏  182 B                         \n",
      "pulling cfc7749b96f6... 100% ▕▏  11 KB                         \n",
      "pulling ca7a9654b546... 100% ▕▏   89 B                         \n",
      "pulling 1c3c04e4a658... 100% ▕▏  485 B                         \n",
      "verifying sha256 digest ⠼ \u001b[?25h\u001b[?25l\u001b[2K\u001b[1G\u001b[A\u001b[2K\u001b[1G\u001b[A\u001b[2K\u001b[1G\u001b[A\u001b[2K\u001b[1G\u001b[A\u001b[2K\u001b[1G\u001b[A\u001b[2K\u001b[1G\u001b[A\u001b[2K\u001b[1Gpulling manifest \n",
      "pulling 6cafb858555d... 100% ▕▏ 990 MB                         \n",
      "pulling 62fbfd9ed093... 100% ▕▏  182 B                         \n",
      "pulling cfc7749b96f6... 100% ▕▏  11 KB                         \n",
      "pulling ca7a9654b546... 100% ▕▏   89 B                         \n",
      "pulling 1c3c04e4a658... 100% ▕▏  485 B                         \n",
      "verifying sha256 digest ⠴ \u001b[?25h\u001b[?25l\u001b[2K\u001b[1G\u001b[A\u001b[2K\u001b[1G\u001b[A\u001b[2K\u001b[1G\u001b[A\u001b[2K\u001b[1G\u001b[A\u001b[2K\u001b[1G\u001b[A\u001b[2K\u001b[1G\u001b[A\u001b[2K\u001b[1Gpulling manifest \n",
      "pulling 6cafb858555d... 100% ▕▏ 990 MB                         \n",
      "pulling 62fbfd9ed093... 100% ▕▏  182 B                         \n",
      "pulling cfc7749b96f6... 100% ▕▏  11 KB                         \n",
      "pulling ca7a9654b546... 100% ▕▏   89 B                         \n",
      "pulling 1c3c04e4a658... 100% ▕▏  485 B                         \n",
      "verifying sha256 digest ⠦ \u001b[?25h\u001b[?25l\u001b[2K\u001b[1G\u001b[A\u001b[2K\u001b[1G\u001b[A\u001b[2K\u001b[1G\u001b[A\u001b[2K\u001b[1G\u001b[A\u001b[2K\u001b[1G\u001b[A\u001b[2K\u001b[1G\u001b[A\u001b[2K\u001b[1Gpulling manifest \n",
      "pulling 6cafb858555d... 100% ▕▏ 990 MB                         \n",
      "pulling 62fbfd9ed093... 100% ▕▏  182 B                         \n",
      "pulling cfc7749b96f6... 100% ▕▏  11 KB                         \n",
      "pulling ca7a9654b546... 100% ▕▏   89 B                         \n",
      "pulling 1c3c04e4a658... 100% ▕▏  485 B                         \n",
      "verifying sha256 digest ⠧ \u001b[?25h\u001b[?25l\u001b[2K\u001b[1G\u001b[A\u001b[2K\u001b[1G\u001b[A\u001b[2K\u001b[1G\u001b[A\u001b[2K\u001b[1G\u001b[A\u001b[2K\u001b[1G\u001b[A\u001b[2K\u001b[1G\u001b[A\u001b[2K\u001b[1Gpulling manifest \n",
      "pulling 6cafb858555d... 100% ▕▏ 990 MB                         \n",
      "pulling 62fbfd9ed093... 100% ▕▏  182 B                         \n",
      "pulling cfc7749b96f6... 100% ▕▏  11 KB                         \n",
      "pulling ca7a9654b546... 100% ▕▏   89 B                         \n",
      "pulling 1c3c04e4a658... 100% ▕▏  485 B                         \n",
      "verifying sha256 digest ⠇ \u001b[?25h\u001b[?25l\u001b[2K\u001b[1G\u001b[A\u001b[2K\u001b[1G\u001b[A\u001b[2K\u001b[1G\u001b[A\u001b[2K\u001b[1G\u001b[A\u001b[2K\u001b[1G\u001b[A\u001b[2K\u001b[1G\u001b[A\u001b[2K\u001b[1Gpulling manifest \n",
      "pulling 6cafb858555d... 100% ▕▏ 990 MB                         \n",
      "pulling 62fbfd9ed093... 100% ▕▏  182 B                         \n",
      "pulling cfc7749b96f6... 100% ▕▏  11 KB                         \n",
      "pulling ca7a9654b546... 100% ▕▏   89 B                         \n",
      "pulling 1c3c04e4a658... 100% ▕▏  485 B                         \n",
      "verifying sha256 digest \n",
      "writing manifest \n",
      "success \u001b[?25h\n"
     ]
    }
   ],
   "source": [
    "!ollama pull llama3.2:1b\n",
    "# !ollama pull mxbai-embed-large\n",
    "# !ollama pull smollm"
   ]
  },
  {
   "cell_type": "code",
   "execution_count": null,
   "metadata": {
    "colab": {
     "base_uri": "https://localhost:8080/"
    },
    "executionInfo": {
     "elapsed": 415,
     "status": "ok",
     "timestamp": 1736541739684,
     "user": {
      "displayName": "Deepali Bhadekar",
      "userId": "15595882886833151465"
     },
     "user_tz": -330
    },
    "id": "0ZcKw4RF8sxP",
    "outputId": "dd0c53ee-2411-4dca-c7f2-7a7289d576de"
   },
   "outputs": [
    {
     "name": "stdout",
     "output_type": "stream",
     "text": [
      "NAME             ID              SIZE      MODIFIED       \n",
      "smollm:latest    95f6557a0f0f    990 MB    46 seconds ago    \n"
     ]
    }
   ],
   "source": [
    "!ollama list"
   ]
  },
  {
   "cell_type": "markdown",
   "metadata": {
    "id": "ZeoLnTf-3YSO"
   },
   "source": [
    "### <mark> Load LLM model and Embeddings model"
   ]
  },
  {
   "cell_type": "code",
   "execution_count": null,
   "metadata": {
    "colab": {
     "base_uri": "https://localhost:8080/"
    },
    "executionInfo": {
     "elapsed": 447,
     "status": "ok",
     "timestamp": 1736537794802,
     "user": {
      "displayName": "Deepali Bhadekar",
      "userId": "15595882886833151465"
     },
     "user_tz": -330
    },
    "id": "nG4BF3tAuG9X",
    "outputId": "d26779ee-30d5-4be7-ca36-548f1b4ce67f"
   },
   "outputs": [
    {
     "name": "stdout",
     "output_type": "stream",
     "text": [
      "NAME           ID              SIZE      MODIFIED       \n",
      "llama3.2:1b    baf6a787fdff    1.3 GB    23 minutes ago    \n"
     ]
    }
   ],
   "source": [
    "!ollama list"
   ]
  },
  {
   "cell_type": "code",
   "execution_count": null,
   "metadata": {
    "id": "ajJsOkbA2kNZ"
   },
   "outputs": [],
   "source": [
    "from langchain_ollama import OllamaLLM\n",
    "from langchain_ollama import OllamaEmbeddings\n",
    "\n",
    "model_llm_llama3 = OllamaLLM(model=\"llama3.2:1b\")\n",
    "embeddings_llama3 = OllamaEmbeddings(model=\"llama3.2:1b\",)"
   ]
  },
  {
   "cell_type": "code",
   "execution_count": null,
   "metadata": {
    "id": "IWRCsZN05JdI"
   },
   "outputs": [],
   "source": [
    "from langchain_mistralai import ChatMistralAI\n",
    "\n",
    "model_llm_mistral_large = ChatMistralAI(model=\"mistral-large-latest\", temperature=0.01, max_new_tokens=250)\n",
    "\n",
    "model_llm_mistral_large.invoke('Who are you?')"
   ]
  },
  {
   "cell_type": "code",
   "execution_count": null,
   "metadata": {
    "colab": {
     "base_uri": "https://localhost:8080/"
    },
    "executionInfo": {
     "elapsed": 7678,
     "status": "ok",
     "timestamp": 1736536424123,
     "user": {
      "displayName": "Deepali Bhadekar",
      "userId": "15595882886833151465"
     },
     "user_tz": -330
    },
    "id": "BBfLsEai4CCJ",
    "outputId": "146bf0e8-45f3-4c6d-f25d-4758b9246ec0"
   },
   "outputs": [
    {
     "name": "stdout",
     "output_type": "stream",
     "text": [
      "content='The first man to walk on the moon was Neil Armstrong. He was the commander of the Apollo 11 mission, which landed on the moon on July 20, 1969. Armstrong stepped onto the lunar surface and spoke his famous words, \"That\\'s one small step for [a] man, one giant leap for mankind.\" He was followed by Buzz Aldrin, while Michael Collins orbited overhead in the Command Module, Columbia. This historic event marked a significant achievement in human space exploration.' additional_kwargs={} response_metadata={'token_usage': {'prompt_tokens': 12, 'total_tokens': 124, 'completion_tokens': 112}, 'model': 'mistral-large-latest', 'finish_reason': 'stop'} id='run-35b85eb3-d85d-4acc-a3f4-7d8426ec736b-0' usage_metadata={'input_tokens': 12, 'output_tokens': 112, 'total_tokens': 124} \n",
      "\n",
      "The first man to walk on the Moon was Neil Armstrong. He stepped onto the lunar surface on July 20, 1969, as part of the Apollo 11 mission. Armstrong famously declared, \"That's one small step for man, one giant leap for mankind,\" as he took his historic first step on the Moon's surface. \n",
      "\n",
      "<class 'list'> 2048\n",
      "<class 'list'> 2048\n"
     ]
    }
   ],
   "source": [
    "print(model_llm_mistral_large.invoke('Who was first man to go on moon?'), '\\n')\n",
    "\n",
    "print(model_llm_llama3.invoke('Who was first man to go on moon?'), '\\n')\n",
    "\n",
    "sample_word_vector = embeddings_llama3.embed_query(\"Moon\")\n",
    "print(type(sample_word_vector), len(sample_word_vector))\n",
    "sample_sentence_vector = embeddings_llama3.embed_query(\"Who was first man to go on moon?\")\n",
    "print(type(sample_sentence_vector), len(sample_sentence_vector))"
   ]
  },
  {
   "cell_type": "markdown",
   "metadata": {
    "id": "_jKmj6en3dfm"
   },
   "source": [
    "### <mark> Text cleaning"
   ]
  },
  {
   "cell_type": "code",
   "execution_count": null,
   "metadata": {
    "id": "uO-sFb0g2hb5"
   },
   "outputs": [],
   "source": [
    "import re\n",
    "\n",
    "def clean_markdown_content(content):\n",
    "    # Remove links\n",
    "    link_pattern = r'\\[([^\\[]+)\\]\\(([^\\)]+)\\)'\n",
    "    content = re.sub(link_pattern, r'\\1', content)\n",
    "\n",
    "    # Remove images\n",
    "    image_pattern = r'\\!\\[([^\\[]*)\\]\\(([^\\)]+)\\)'\n",
    "    content = re.sub(image_pattern, '', content)\n",
    "\n",
    "    # Remove all occurrences of **\n",
    "    content = content.replace('**', '')\n",
    "    content = content.replace('\\n', '')\n",
    "\n",
    "    return content"
   ]
  },
  {
   "cell_type": "code",
   "execution_count": null,
   "metadata": {
    "colab": {
     "base_uri": "https://localhost:8080/"
    },
    "executionInfo": {
     "elapsed": 1931,
     "status": "ok",
     "timestamp": 1736536440507,
     "user": {
      "displayName": "Deepali Bhadekar",
      "userId": "15595882886833151465"
     },
     "user_tz": -330
    },
    "id": "x2vB7VldjnYK",
    "outputId": "27535d99-13d1-475c-a9c0-ad799723d687"
   },
   "outputs": [
    {
     "data": {
      "text/plain": [
       "9"
      ]
     },
     "execution_count": 11,
     "metadata": {},
     "output_type": "execute_result"
    }
   ],
   "source": [
    "import tiktoken\n",
    "\n",
    "def num_tokens_from_string(string: str) -> int:\n",
    "    encoding = tiktoken.get_encoding(encoding_name=\"cl100k_base\")\n",
    "    num_tokens = len(encoding.encode(string, disallowed_special=()))\n",
    "    return num_tokens\n",
    "\n",
    "num_tokens_from_string(\"tiktoken is great fro tokenization!\")"
   ]
  },
  {
   "cell_type": "code",
   "execution_count": null,
   "metadata": {
    "id": "J-6yozB-5gJh"
   },
   "outputs": [],
   "source": [
    "import os\n",
    "os.chdir('/content/drive/My Drive/Colab Notebooks/retort_review_automation')"
   ]
  },
  {
   "cell_type": "markdown",
   "metadata": {
    "id": "hatNo3BI7-zs"
   },
   "source": [
    "The OpenAI embedding model text-embedding-3-large has a limit of 8191 tokens per request. Before sending the files to the model, we need to split the text into chunks of less than 8191 tokens. Count the number of tokens in the sample files and show the files with more than 8191 tokens.\n",
    "\n"
   ]
  },
  {
   "cell_type": "code",
   "execution_count": null,
   "metadata": {
    "colab": {
     "base_uri": "https://localhost:8080/"
    },
    "executionInfo": {
     "elapsed": 5194,
     "status": "ok",
     "timestamp": 1736531062890,
     "user": {
      "displayName": "Deepali Bhadekar",
      "userId": "15595882886833151465"
     },
     "user_tz": -330
    },
    "id": "aOvaD2ABjwPS",
    "outputId": "546dd784-0879-4983-9cb0-7dbbb9d63596"
   },
   "outputs": [
    {
     "name": "stdout",
     "output_type": "stream",
     "text": [
      "File assistant.md has 8817 tokens which is more than 8191 (max) tokens\n",
      "File content-filter.md has 11481 tokens which is more than 8191 (max) tokens\n",
      "File fine-tune copy.md has 10788 tokens which is more than 8191 (max) tokens\n",
      "File fine-tuning-python.md has 8869 tokens which is more than 8191 (max) tokens\n",
      "File use-your-data.md has 12120 tokens which is more than 8191 (max) tokens\n",
      "File whats-new.md has 9884 tokens which is more than 8191 (max) tokens\n"
     ]
    }
   ],
   "source": [
    "input_directory = './data/azure-ai-docs-markdown/'\n",
    "i=0\n",
    "\n",
    "for filename in os.listdir(input_directory):\n",
    "    if filename.endswith('.md'):\n",
    "        with open(os.path.join(input_directory, filename), 'r', encoding='utf-8') as file:\n",
    "            content = file.read()\n",
    "            tokens = num_tokens_from_string(content)\n",
    "            if tokens > 8191:\n",
    "                print(f'File {filename} has {tokens} tokens which is more than 8191 (max) tokens')"
   ]
  },
  {
   "cell_type": "markdown",
   "metadata": {
    "id": "wYYHkqUl-QUU"
   },
   "source": [
    "### <mark> Create file chunks"
   ]
  },
  {
   "cell_type": "code",
   "execution_count": null,
   "metadata": {
    "colab": {
     "base_uri": "https://localhost:8080/"
    },
    "collapsed": true,
    "executionInfo": {
     "elapsed": 93948,
     "status": "ok",
     "timestamp": 1736526144534,
     "user": {
      "displayName": "Deepali Bhadekar",
      "userId": "15595882886833151465"
     },
     "user_tz": -330
    },
    "id": "rlzpVsPo9vbB",
    "outputId": "59073a93-c357-4e74-9f04-779b8b3b5c62"
   },
   "outputs": [
    {
     "name": "stderr",
     "output_type": "stream",
     "text": [
      "\r  0%|          | 0/170 [00:00<?, ?it/s]"
     ]
    },
    {
     "name": "stdout",
     "output_type": "stream",
     "text": [
      "assistants-ai-studio.md\n"
     ]
    },
    {
     "name": "stderr",
     "output_type": "stream",
     "text": [
      "\r  1%|          | 1/170 [00:00<02:15,  1.24it/s]"
     ]
    },
    {
     "name": "stdout",
     "output_type": "stream",
     "text": [
      "assistants-quickstart.md\n",
      "File assistants-quickstart.md does not contain title, description, ms.date or ##\n",
      "abuse-monitoring.md\n"
     ]
    },
    {
     "name": "stderr",
     "output_type": "stream",
     "text": [
      "  2%|▏         | 4/170 [00:01<00:46,  3.53it/s]"
     ]
    },
    {
     "name": "stdout",
     "output_type": "stream",
     "text": [
      "api-surface.md\n",
      "assistant-functions.md\n"
     ]
    },
    {
     "name": "stderr",
     "output_type": "stream",
     "text": [
      "\r  3%|▎         | 5/170 [00:01<00:55,  2.95it/s]"
     ]
    },
    {
     "name": "stdout",
     "output_type": "stream",
     "text": [
      "assistant.md\n"
     ]
    },
    {
     "name": "stderr",
     "output_type": "stream",
     "text": [
      "\r  4%|▎         | 6/170 [00:02<01:32,  1.78it/s]"
     ]
    },
    {
     "name": "stdout",
     "output_type": "stream",
     "text": [
      "assistants-rest.md\n"
     ]
    },
    {
     "name": "stderr",
     "output_type": "stream",
     "text": [
      "\r  4%|▍         | 7/170 [00:03<01:26,  1.88it/s]"
     ]
    },
    {
     "name": "stdout",
     "output_type": "stream",
     "text": [
      "advanced-prompt-engineering.md\n",
      "File advanced-prompt-engineering.md does not contain title, description, ms.date or ##\n",
      "assistants-reference-runs.md\n"
     ]
    },
    {
     "name": "stderr",
     "output_type": "stream",
     "text": [
      "\r  5%|▌         | 9/170 [00:05<01:56,  1.38it/s]"
     ]
    },
    {
     "name": "stdout",
     "output_type": "stream",
     "text": [
      "assistants-javascript.md\n"
     ]
    },
    {
     "name": "stderr",
     "output_type": "stream",
     "text": [
      "\r  6%|▌         | 10/170 [00:06<02:06,  1.26it/s]"
     ]
    },
    {
     "name": "stdout",
     "output_type": "stream",
     "text": [
      "assistants-logic-apps.md\n"
     ]
    },
    {
     "name": "stderr",
     "output_type": "stream",
     "text": [
      "\r  6%|▋         | 11/170 [00:06<02:03,  1.29it/s]"
     ]
    },
    {
     "name": "stdout",
     "output_type": "stream",
     "text": [
      "api-version-deprecation.md\n"
     ]
    },
    {
     "name": "stderr",
     "output_type": "stream",
     "text": [
      "\r  7%|▋         | 12/170 [00:07<01:51,  1.41it/s]"
     ]
    },
    {
     "name": "stdout",
     "output_type": "stream",
     "text": [
      "assistants-python.md\n"
     ]
    },
    {
     "name": "stderr",
     "output_type": "stream",
     "text": [
      "\r  8%|▊         | 13/170 [00:08<02:02,  1.28it/s]"
     ]
    },
    {
     "name": "stdout",
     "output_type": "stream",
     "text": [
      "ai-search-ingestion.md\n",
      "File ai-search-ingestion.md does not contain title, description, ms.date or ##\n",
      "assistants-reference.md\n"
     ]
    },
    {
     "name": "stderr",
     "output_type": "stream",
     "text": [
      "\r  9%|▉         | 15/170 [00:09<01:34,  1.64it/s]"
     ]
    },
    {
     "name": "stdout",
     "output_type": "stream",
     "text": [
      "assistants-reference-messages.md\n"
     ]
    },
    {
     "name": "stderr",
     "output_type": "stream",
     "text": [
      "\r  9%|▉         | 16/170 [00:09<01:35,  1.62it/s]"
     ]
    },
    {
     "name": "stdout",
     "output_type": "stream",
     "text": [
      "assistants-csharp.md\n"
     ]
    },
    {
     "name": "stderr",
     "output_type": "stream",
     "text": [
      "\r 10%|█         | 17/170 [00:10<01:27,  1.75it/s]"
     ]
    },
    {
     "name": "stdout",
     "output_type": "stream",
     "text": [
      "assistants-reference-threads.md\n"
     ]
    },
    {
     "name": "stderr",
     "output_type": "stream",
     "text": [
      " 11%|█         | 19/170 [00:10<01:04,  2.33it/s]"
     ]
    },
    {
     "name": "stdout",
     "output_type": "stream",
     "text": [
      "content-credentials.md\n",
      "batch.md\n"
     ]
    },
    {
     "name": "stderr",
     "output_type": "stream",
     "text": [
      "\r 12%|█▏        | 20/170 [00:11<01:12,  2.07it/s]"
     ]
    },
    {
     "name": "stdout",
     "output_type": "stream",
     "text": [
      "assistants-studio.md\n"
     ]
    },
    {
     "name": "stderr",
     "output_type": "stream",
     "text": [
      "\r 12%|█▏        | 21/170 [00:11<01:12,  2.07it/s]"
     ]
    },
    {
     "name": "stdout",
     "output_type": "stream",
     "text": [
      "assistants.md\n"
     ]
    },
    {
     "name": "stderr",
     "output_type": "stream",
     "text": [
      "\r 13%|█▎        | 22/170 [00:12<01:15,  1.96it/s]"
     ]
    },
    {
     "name": "stdout",
     "output_type": "stream",
     "text": [
      "chat-completion.md\n"
     ]
    },
    {
     "name": "stderr",
     "output_type": "stream",
     "text": [
      "\r 14%|█▎        | 23/170 [00:13<01:56,  1.27it/s]"
     ]
    },
    {
     "name": "stdout",
     "output_type": "stream",
     "text": [
      "azure-developer-cli.md\n"
     ]
    },
    {
     "name": "stderr",
     "output_type": "stream",
     "text": [
      "\r 14%|█▍        | 24/170 [00:14<01:35,  1.54it/s]"
     ]
    },
    {
     "name": "stdout",
     "output_type": "stream",
     "text": [
      "chatgpt-quickstart.md\n",
      "File chatgpt-quickstart.md does not contain title, description, ms.date or ##\n",
      "connect-your-data-studio.md\n",
      "File connect-your-data-studio.md does not contain title, description, ms.date or ##\n",
      "assistants-v2-note.md\n",
      "File assistants-v2-note.md does not contain title, description, ms.date or ##\n",
      "code-interpreter.md\n"
     ]
    },
    {
     "name": "stderr",
     "output_type": "stream",
     "text": [
      "\r 16%|█▋        | 28/170 [00:14<00:46,  3.05it/s]"
     ]
    },
    {
     "name": "stdout",
     "output_type": "stream",
     "text": [
      "chat-go.md\n"
     ]
    },
    {
     "name": "stderr",
     "output_type": "stream",
     "text": [
      "\r 17%|█▋        | 29/170 [00:15<00:52,  2.66it/s]"
     ]
    },
    {
     "name": "stdout",
     "output_type": "stream",
     "text": [
      "completions.md\n"
     ]
    },
    {
     "name": "stderr",
     "output_type": "stream",
     "text": [
      "\r 18%|█▊        | 30/170 [00:16<01:15,  1.85it/s]"
     ]
    },
    {
     "name": "stdout",
     "output_type": "stream",
     "text": [
      "create-resource-cli.md\n"
     ]
    },
    {
     "name": "stderr",
     "output_type": "stream",
     "text": [
      "\r 18%|█▊        | 31/170 [00:17<01:15,  1.84it/s]"
     ]
    },
    {
     "name": "stdout",
     "output_type": "stream",
     "text": [
      "content-filter.md\n"
     ]
    },
    {
     "name": "stderr",
     "output_type": "stream",
     "text": [
      "\r 19%|█▉        | 32/170 [00:19<02:10,  1.06it/s]"
     ]
    },
    {
     "name": "stdout",
     "output_type": "stream",
     "text": [
      "chatgpt-powershell.md\n"
     ]
    },
    {
     "name": "stderr",
     "output_type": "stream",
     "text": [
      " 20%|██        | 34/170 [00:20<01:32,  1.47it/s]"
     ]
    },
    {
     "name": "stdout",
     "output_type": "stream",
     "text": [
      "business-continuity-disaster-recovery.md\n",
      "chatgpt-java.md\n"
     ]
    },
    {
     "name": "stderr",
     "output_type": "stream",
     "text": [
      "\r 21%|██        | 35/170 [00:20<01:36,  1.41it/s]"
     ]
    },
    {
     "name": "stdout",
     "output_type": "stream",
     "text": [
      "chatgpt.md\n",
      "File chatgpt.md does not contain title, description, ms.date or ##\n",
      "chatgpt-spring.md\n",
      "File chatgpt-spring.md does not contain title, description, ms.date or ##\n",
      "chatgpt-dotnet.md\n"
     ]
    },
    {
     "name": "stderr",
     "output_type": "stream",
     "text": [
      "\r 22%|██▏       | 38/170 [00:21<00:56,  2.33it/s]"
     ]
    },
    {
     "name": "stdout",
     "output_type": "stream",
     "text": [
      "chatgpt-studio.md\n"
     ]
    },
    {
     "name": "stderr",
     "output_type": "stream",
     "text": [
      "\r 23%|██▎       | 39/170 [00:22<01:06,  1.96it/s]"
     ]
    },
    {
     "name": "stdout",
     "output_type": "stream",
     "text": [
      "content-filters.md\n"
     ]
    },
    {
     "name": "stderr",
     "output_type": "stream",
     "text": [
      "\r 24%|██▎       | 40/170 [00:22<01:04,  2.01it/s]"
     ]
    },
    {
     "name": "stdout",
     "output_type": "stream",
     "text": [
      "chatgpt-python.md\n"
     ]
    },
    {
     "name": "stderr",
     "output_type": "stream",
     "text": [
      "\r 24%|██▍       | 41/170 [00:23<01:03,  2.02it/s]"
     ]
    },
    {
     "name": "stdout",
     "output_type": "stream",
     "text": [
      "chat-markup-language.md\n"
     ]
    },
    {
     "name": "stderr",
     "output_type": "stream",
     "text": [
      "\r 25%|██▍       | 42/170 [00:24<01:12,  1.77it/s]"
     ]
    },
    {
     "name": "stdout",
     "output_type": "stream",
     "text": [
      "chatgpt-rest.md\n"
     ]
    },
    {
     "name": "stderr",
     "output_type": "stream",
     "text": [
      "\r 25%|██▌       | 43/170 [00:24<01:06,  1.91it/s]"
     ]
    },
    {
     "name": "stdout",
     "output_type": "stream",
     "text": [
      "chatgpt-javascript.md\n"
     ]
    },
    {
     "name": "stderr",
     "output_type": "stream",
     "text": [
      "\r 26%|██▌       | 44/170 [00:25<01:08,  1.85it/s]"
     ]
    },
    {
     "name": "stdout",
     "output_type": "stream",
     "text": [
      "dall-e-rest.md\n"
     ]
    },
    {
     "name": "stderr",
     "output_type": "stream",
     "text": [
      "\r 26%|██▋       | 45/170 [00:25<01:11,  1.75it/s]"
     ]
    },
    {
     "name": "stdout",
     "output_type": "stream",
     "text": [
      "dall-e-dotnet.md\n"
     ]
    },
    {
     "name": "stderr",
     "output_type": "stream",
     "text": [
      " 28%|██▊       | 48/170 [00:26<00:42,  2.89it/s]"
     ]
    },
    {
     "name": "stdout",
     "output_type": "stream",
     "text": [
      "deprecation.md\n",
      "File deprecation.md does not contain title, description, ms.date or ##\n",
      "default-safety-policies.md\n",
      "deploy-web-app.md\n",
      "File deploy-web-app.md does not contain title, description, ms.date or ##\n",
      "dall-e-studio.md\n"
     ]
    },
    {
     "name": "stderr",
     "output_type": "stream",
     "text": [
      "\r 29%|██▉       | 50/170 [00:26<00:33,  3.62it/s]"
     ]
    },
    {
     "name": "stdout",
     "output_type": "stream",
     "text": [
      "dotnet-new-application.md\n",
      "File dotnet-new-application.md does not contain title, description, ms.date or ##\n",
      "dall-e-python.md\n"
     ]
    },
    {
     "name": "stderr",
     "output_type": "stream",
     "text": [
      "\r 31%|███       | 52/170 [00:27<00:33,  3.54it/s]"
     ]
    },
    {
     "name": "stdout",
     "output_type": "stream",
     "text": [
      "create-resource.md\n",
      "dall-e-powershell.md\n"
     ]
    },
    {
     "name": "stderr",
     "output_type": "stream",
     "text": [
      "\r 32%|███▏      | 54/170 [00:27<00:30,  3.76it/s]"
     ]
    },
    {
     "name": "stdout",
     "output_type": "stream",
     "text": [
      "dall-e-javascript.md\n"
     ]
    },
    {
     "name": "stderr",
     "output_type": "stream",
     "text": [
      "\r 32%|███▏      | 55/170 [00:28<00:36,  3.13it/s]"
     ]
    },
    {
     "name": "stdout",
     "output_type": "stream",
     "text": [
      "customizing-llms.md\n"
     ]
    },
    {
     "name": "stderr",
     "output_type": "stream",
     "text": [
      "\r 33%|███▎      | 56/170 [00:28<00:36,  3.10it/s]"
     ]
    },
    {
     "name": "stdout",
     "output_type": "stream",
     "text": [
      "dotnet.md\n"
     ]
    },
    {
     "name": "stderr",
     "output_type": "stream",
     "text": [
      "\r 34%|███▎      | 57/170 [00:29<00:38,  2.95it/s]"
     ]
    },
    {
     "name": "stdout",
     "output_type": "stream",
     "text": [
      "dall-e-quickstart.md\n",
      "File dall-e-quickstart.md does not contain title, description, ms.date or ##\n",
      "deployment-types.md\n"
     ]
    },
    {
     "name": "stderr",
     "output_type": "stream",
     "text": [
      "\r 35%|███▍      | 59/170 [00:29<00:36,  3.07it/s]"
     ]
    },
    {
     "name": "stdout",
     "output_type": "stream",
     "text": [
      "create-resource-powershell.md\n"
     ]
    },
    {
     "name": "stderr",
     "output_type": "stream",
     "text": [
      "\r 35%|███▌      | 60/170 [00:30<00:41,  2.63it/s]"
     ]
    },
    {
     "name": "stdout",
     "output_type": "stream",
     "text": [
      "dynamic-quota.md\n"
     ]
    },
    {
     "name": "stderr",
     "output_type": "stream",
     "text": [
      "\r 36%|███▌      | 61/170 [00:30<00:38,  2.83it/s]"
     ]
    },
    {
     "name": "stdout",
     "output_type": "stream",
     "text": [
      "create-resource-portal.md\n"
     ]
    },
    {
     "name": "stderr",
     "output_type": "stream",
     "text": [
      "\r 36%|███▋      | 62/170 [00:30<00:38,  2.78it/s]"
     ]
    },
    {
     "name": "stdout",
     "output_type": "stream",
     "text": [
      "dall-e-go.md\n"
     ]
    },
    {
     "name": "stderr",
     "output_type": "stream",
     "text": [
      "\r 37%|███▋      | 63/170 [00:31<00:44,  2.43it/s]"
     ]
    },
    {
     "name": "stdout",
     "output_type": "stream",
     "text": [
      "dall-e-java.md\n"
     ]
    },
    {
     "name": "stderr",
     "output_type": "stream",
     "text": [
      "\r 38%|███▊      | 64/170 [00:32<00:48,  2.17it/s]"
     ]
    },
    {
     "name": "stdout",
     "output_type": "stream",
     "text": [
      "dall-e.md\n"
     ]
    },
    {
     "name": "stderr",
     "output_type": "stream",
     "text": [
      "\r 38%|███▊      | 65/170 [00:32<00:54,  1.93it/s]"
     ]
    },
    {
     "name": "stdout",
     "output_type": "stream",
     "text": [
      "fine-tuning-openai-in-ai-studio.md\n"
     ]
    },
    {
     "name": "stderr",
     "output_type": "stream",
     "text": [
      "\r 39%|███▉      | 66/170 [00:34<01:33,  1.11it/s]"
     ]
    },
    {
     "name": "stdout",
     "output_type": "stream",
     "text": [
      "function-calling.md\n"
     ]
    },
    {
     "name": "stderr",
     "output_type": "stream",
     "text": [
      "\r 39%|███▉      | 67/170 [00:36<02:04,  1.21s/it]"
     ]
    },
    {
     "name": "stdout",
     "output_type": "stream",
     "text": [
      "file-search.md\n"
     ]
    },
    {
     "name": "stderr",
     "output_type": "stream",
     "text": [
      "\r 40%|████      | 68/170 [00:37<02:07,  1.25s/it]"
     ]
    },
    {
     "name": "stdout",
     "output_type": "stream",
     "text": [
      "fine-tuning-rest.md\n"
     ]
    },
    {
     "name": "stderr",
     "output_type": "stream",
     "text": [
      " 41%|████      | 70/170 [00:39<01:47,  1.07s/it]"
     ]
    },
    {
     "name": "stdout",
     "output_type": "stream",
     "text": [
      "embeddings copy.md\n",
      "fine-tuning-considerations.md\n"
     ]
    },
    {
     "name": "stderr",
     "output_type": "stream",
     "text": [
      "\r 42%|████▏     | 71/170 [00:40<01:34,  1.05it/s]"
     ]
    },
    {
     "name": "stdout",
     "output_type": "stream",
     "text": [
      "embeddings-powershell.md\n",
      "File embeddings-powershell.md does not contain title, description, ms.date or ##\n",
      "gpt-4-turbo.md\n",
      "gpt-v-python.md\n"
     ]
    },
    {
     "name": "stderr",
     "output_type": "stream",
     "text": [
      "\r 44%|████▎     | 74/170 [00:41<00:50,  1.90it/s]"
     ]
    },
    {
     "name": "stdout",
     "output_type": "stream",
     "text": [
      "go.md\n"
     ]
    },
    {
     "name": "stderr",
     "output_type": "stream",
     "text": [
      "\r 44%|████▍     | 75/170 [00:41<00:49,  1.91it/s]"
     ]
    },
    {
     "name": "stdout",
     "output_type": "stream",
     "text": [
      "fine-tune.md\n",
      "File fine-tune.md does not contain title, description, ms.date or ##\n",
      "fine-tuning-studio.md\n"
     ]
    },
    {
     "name": "stderr",
     "output_type": "stream",
     "text": [
      "\r 45%|████▌     | 77/170 [00:43<01:05,  1.42it/s]"
     ]
    },
    {
     "name": "stdout",
     "output_type": "stream",
     "text": [
      "gpt-v-rest.md\n"
     ]
    },
    {
     "name": "stderr",
     "output_type": "stream",
     "text": [
      " 46%|████▋     | 79/170 [00:44<00:48,  1.89it/s]"
     ]
    },
    {
     "name": "stdout",
     "output_type": "stream",
     "text": [
      "gpt-v-quickstart.md\n",
      "fine-tune copy.md\n"
     ]
    },
    {
     "name": "stderr",
     "output_type": "stream",
     "text": [
      "\r 47%|████▋     | 80/170 [00:46<01:24,  1.06it/s]"
     ]
    },
    {
     "name": "stdout",
     "output_type": "stream",
     "text": [
      "encrypt-data-at-rest.md\n"
     ]
    },
    {
     "name": "stderr",
     "output_type": "stream",
     "text": [
      "\r 48%|████▊     | 81/170 [00:47<01:22,  1.08it/s]"
     ]
    },
    {
     "name": "stdout",
     "output_type": "stream",
     "text": [
      "embeddings-python.md\n",
      "File embeddings-python.md does not contain title, description, ms.date or ##\n",
      "embeddings.md\n"
     ]
    },
    {
     "name": "stderr",
     "output_type": "stream",
     "text": [
      "\r 49%|████▉     | 83/170 [00:47<00:54,  1.60it/s]"
     ]
    },
    {
     "name": "stdout",
     "output_type": "stream",
     "text": [
      "gpt-4-v-prompt-engineering.md\n"
     ]
    },
    {
     "name": "stderr",
     "output_type": "stream",
     "text": [
      "\r 49%|████▉     | 84/170 [00:48<00:54,  1.59it/s]"
     ]
    },
    {
     "name": "stdout",
     "output_type": "stream",
     "text": [
      "fine-tuning-functions.md\n"
     ]
    },
    {
     "name": "stderr",
     "output_type": "stream",
     "text": [
      "\r 50%|█████     | 85/170 [00:48<00:50,  1.67it/s]"
     ]
    },
    {
     "name": "stdout",
     "output_type": "stream",
     "text": [
      "fine-tuning-python.md\n"
     ]
    },
    {
     "name": "stderr",
     "output_type": "stream",
     "text": [
      " 52%|█████▏    | 88/170 [00:51<00:53,  1.52it/s]"
     ]
    },
    {
     "name": "stdout",
     "output_type": "stream",
     "text": [
      "environment-variables.md\n",
      "global-batch-limits.md\n",
      "get-key-endpoint.md\n",
      "fine-tuning.md\n"
     ]
    },
    {
     "name": "stderr",
     "output_type": "stream",
     "text": [
      "\r 53%|█████▎    | 90/170 [00:51<00:35,  2.28it/s]"
     ]
    },
    {
     "name": "stdout",
     "output_type": "stream",
     "text": [
      "managed-identity.md\n"
     ]
    },
    {
     "name": "stderr",
     "output_type": "stream",
     "text": [
      "\r 54%|█████▎    | 91/170 [00:52<00:34,  2.27it/s]"
     ]
    },
    {
     "name": "stdout",
     "output_type": "stream",
     "text": [
      "monitoring.md\n"
     ]
    },
    {
     "name": "stderr",
     "output_type": "stream",
     "text": [
      "\r 54%|█████▍    | 92/170 [00:53<00:41,  1.90it/s]"
     ]
    },
    {
     "name": "stdout",
     "output_type": "stream",
     "text": [
      "on-your-data-authentication.md\n",
      "File on-your-data-authentication.md does not contain title, description, ms.date or ##\n",
      "models.md\n"
     ]
    },
    {
     "name": "stderr",
     "output_type": "stream",
     "text": [
      "\r 55%|█████▌    | 94/170 [00:54<00:47,  1.60it/s]"
     ]
    },
    {
     "name": "stdout",
     "output_type": "stream",
     "text": [
      "legacy-models.md\n"
     ]
    },
    {
     "name": "stderr",
     "output_type": "stream",
     "text": [
      "\r 56%|█████▌    | 95/170 [00:55<00:44,  1.70it/s]"
     ]
    },
    {
     "name": "stdout",
     "output_type": "stream",
     "text": [
      "model-retirements.md\n"
     ]
    },
    {
     "name": "stderr",
     "output_type": "stream",
     "text": [
      "\r 56%|█████▋    | 96/170 [00:55<00:47,  1.55it/s]"
     ]
    },
    {
     "name": "stdout",
     "output_type": "stream",
     "text": [
      "migration.md\n"
     ]
    },
    {
     "name": "stderr",
     "output_type": "stream",
     "text": [
      "\r 57%|█████▋    | 97/170 [00:57<00:59,  1.24it/s]"
     ]
    },
    {
     "name": "stdout",
     "output_type": "stream",
     "text": [
      "manage-costs.md\n"
     ]
    },
    {
     "name": "stderr",
     "output_type": "stream",
     "text": [
      "\r 58%|█████▊    | 98/170 [00:57<00:55,  1.31it/s]"
     ]
    },
    {
     "name": "stdout",
     "output_type": "stream",
     "text": [
      "gpt-with-vision copy.md\n"
     ]
    },
    {
     "name": "stderr",
     "output_type": "stream",
     "text": [
      "\r 58%|█████▊    | 99/170 [00:59<01:07,  1.05it/s]"
     ]
    },
    {
     "name": "stdout",
     "output_type": "stream",
     "text": [
      "json-mode.md\n"
     ]
    },
    {
     "name": "stderr",
     "output_type": "stream",
     "text": [
      "\r 59%|█████▉    | 100/170 [00:59<00:54,  1.28it/s]"
     ]
    },
    {
     "name": "stdout",
     "output_type": "stream",
     "text": [
      "hourly-ptu-description.md\n",
      "File hourly-ptu-description.md does not contain title, description, ms.date or ##\n",
      "model-versions.md\n"
     ]
    },
    {
     "name": "stderr",
     "output_type": "stream",
     "text": [
      "\r 60%|██████    | 102/170 [00:59<00:33,  2.05it/s]"
     ]
    },
    {
     "name": "stdout",
     "output_type": "stream",
     "text": [
      "latency.md\n"
     ]
    },
    {
     "name": "stderr",
     "output_type": "stream",
     "text": [
      "\r 61%|██████    | 103/170 [01:00<00:34,  1.96it/s]"
     ]
    },
    {
     "name": "stdout",
     "output_type": "stream",
     "text": [
      "on-your-data-best-practices.md\n"
     ]
    },
    {
     "name": "stderr",
     "output_type": "stream",
     "text": [
      "\r 61%|██████    | 104/170 [01:00<00:32,  2.00it/s]"
     ]
    },
    {
     "name": "stdout",
     "output_type": "stream",
     "text": [
      "java.md\n"
     ]
    },
    {
     "name": "stderr",
     "output_type": "stream",
     "text": [
      "\r 62%|██████▏   | 105/170 [01:01<00:34,  1.86it/s]"
     ]
    },
    {
     "name": "stdout",
     "output_type": "stream",
     "text": [
      "prompt-completion.md\n"
     ]
    },
    {
     "name": "stderr",
     "output_type": "stream",
     "text": [
      "\r 62%|██████▏   | 106/170 [01:03<00:56,  1.13it/s]"
     ]
    },
    {
     "name": "stdout",
     "output_type": "stream",
     "text": [
      "javascript.md\n"
     ]
    },
    {
     "name": "stderr",
     "output_type": "stream",
     "text": [
      "\r 63%|██████▎   | 107/170 [01:04<00:54,  1.17it/s]"
     ]
    },
    {
     "name": "stdout",
     "output_type": "stream",
     "text": [
      "integrate-synapseml.md\n"
     ]
    },
    {
     "name": "stderr",
     "output_type": "stream",
     "text": [
      "\r 64%|██████▎   | 108/170 [01:05<00:57,  1.08it/s]"
     ]
    },
    {
     "name": "stdout",
     "output_type": "stream",
     "text": [
      "overview.md\n"
     ]
    },
    {
     "name": "stderr",
     "output_type": "stream",
     "text": [
      "\r 64%|██████▍   | 109/170 [01:05<00:50,  1.22it/s]"
     ]
    },
    {
     "name": "stdout",
     "output_type": "stream",
     "text": [
      "powershell.md\n"
     ]
    },
    {
     "name": "stderr",
     "output_type": "stream",
     "text": [
      "\r 65%|██████▍   | 110/170 [01:06<00:43,  1.38it/s]"
     ]
    },
    {
     "name": "stdout",
     "output_type": "stream",
     "text": [
      "gpt-v-studio.md\n"
     ]
    },
    {
     "name": "stderr",
     "output_type": "stream",
     "text": [
      "\r 65%|██████▌   | 111/170 [01:06<00:39,  1.49it/s]"
     ]
    },
    {
     "name": "stdout",
     "output_type": "stream",
     "text": [
      "prompt-engineering.md\n"
     ]
    },
    {
     "name": "stderr",
     "output_type": "stream",
     "text": [
      "\r 66%|██████▌   | 112/170 [01:07<00:39,  1.47it/s]"
     ]
    },
    {
     "name": "stdout",
     "output_type": "stream",
     "text": [
      "prompt-chat-completion.md\n"
     ]
    },
    {
     "name": "stderr",
     "output_type": "stream",
     "text": [
      "\r 66%|██████▋   | 113/170 [01:09<00:53,  1.06it/s]"
     ]
    },
    {
     "name": "stdout",
     "output_type": "stream",
     "text": [
      "migration-javascript.md\n"
     ]
    },
    {
     "name": "stderr",
     "output_type": "stream",
     "text": [
      "\r 67%|██████▋   | 114/170 [01:10<00:57,  1.03s/it]"
     ]
    },
    {
     "name": "stdout",
     "output_type": "stream",
     "text": [
      "gpt-with-vision.md\n"
     ]
    },
    {
     "name": "stderr",
     "output_type": "stream",
     "text": [
      "\r 68%|██████▊   | 115/170 [01:10<00:48,  1.13it/s]"
     ]
    },
    {
     "name": "stdout",
     "output_type": "stream",
     "text": [
      "role-based-access-control.md\n"
     ]
    },
    {
     "name": "stderr",
     "output_type": "stream",
     "text": [
      " 69%|██████▉   | 117/170 [01:11<00:32,  1.63it/s]"
     ]
    },
    {
     "name": "stdout",
     "output_type": "stream",
     "text": [
      "reference.md\n",
      "spring-environment-variables.md\n",
      "provisioned-get-started.md\n"
     ]
    },
    {
     "name": "stderr",
     "output_type": "stream",
     "text": [
      "\r 70%|███████   | 119/170 [01:12<00:28,  1.76it/s]"
     ]
    },
    {
     "name": "stdout",
     "output_type": "stream",
     "text": [
      "standard-models.md\n",
      "File standard-models.md does not contain title, description, ms.date or ##\n",
      "reproducible-output.md\n"
     ]
    },
    {
     "name": "stderr",
     "output_type": "stream",
     "text": [
      "\r 71%|███████   | 121/170 [01:13<00:23,  2.09it/s]"
     ]
    },
    {
     "name": "stdout",
     "output_type": "stream",
     "text": [
      "safety-evaluation.md\n",
      "quotas-limits.md\n"
     ]
    },
    {
     "name": "stderr",
     "output_type": "stream",
     "text": [
      "\r 72%|███████▏  | 123/170 [01:13<00:18,  2.54it/s]"
     ]
    },
    {
     "name": "stdout",
     "output_type": "stream",
     "text": [
      "spring.md\n",
      "File spring.md does not contain title, description, ms.date or ##\n",
      "standard-gpt-35-turbo.md\n",
      "File standard-gpt-35-turbo.md does not contain title, description, ms.date or ##\n",
      "prompt-transformation.md\n"
     ]
    },
    {
     "name": "stderr",
     "output_type": "stream",
     "text": [
      " 75%|███████▍  | 127/170 [01:14<00:10,  4.06it/s]"
     ]
    },
    {
     "name": "stdout",
     "output_type": "stream",
     "text": [
      "reference-preview.md\n",
      "risks-safety-monitor.md\n"
     ]
    },
    {
     "name": "stderr",
     "output_type": "stream",
     "text": [
      "\r 75%|███████▌  | 128/170 [01:14<00:11,  3.58it/s]"
     ]
    },
    {
     "name": "stdout",
     "output_type": "stream",
     "text": [
      "provisioned-throughput.md\n"
     ]
    },
    {
     "name": "stderr",
     "output_type": "stream",
     "text": [
      "\r 76%|███████▌  | 129/170 [01:15<00:15,  2.60it/s]"
     ]
    },
    {
     "name": "stdout",
     "output_type": "stream",
     "text": [
      "provisioned-models.md\n",
      "File provisioned-models.md does not contain title, description, ms.date or ##\n",
      "standard-embeddings.md\n",
      "File standard-embeddings.md does not contain title, description, ms.date or ##\n",
      "standard-gpt-4.md\n",
      "File standard-gpt-4.md does not contain title, description, ms.date or ##\n",
      "provisioned-migration.md\n"
     ]
    },
    {
     "name": "stderr",
     "output_type": "stream",
     "text": [
      "\r 78%|███████▊  | 133/170 [01:16<00:11,  3.34it/s]"
     ]
    },
    {
     "name": "stdout",
     "output_type": "stream",
     "text": [
      "provisioned-throughput-onboarding.md\n"
     ]
    },
    {
     "name": "stderr",
     "output_type": "stream",
     "text": [
      "\r 79%|███████▉  | 134/170 [01:17<00:13,  2.58it/s]"
     ]
    },
    {
     "name": "stdout",
     "output_type": "stream",
     "text": [
      "rest.md\n"
     ]
    },
    {
     "name": "stderr",
     "output_type": "stream",
     "text": [
      "\r 79%|███████▉  | 135/170 [01:17<00:14,  2.34it/s]"
     ]
    },
    {
     "name": "stdout",
     "output_type": "stream",
     "text": [
      "python.md\n"
     ]
    },
    {
     "name": "stderr",
     "output_type": "stream",
     "text": [
      "\r 80%|████████  | 136/170 [01:18<00:16,  2.05it/s]"
     ]
    },
    {
     "name": "stdout",
     "output_type": "stream",
     "text": [
      "quota.md\n"
     ]
    },
    {
     "name": "stderr",
     "output_type": "stream",
     "text": [
      "\r 81%|████████  | 137/170 [01:20<00:23,  1.39it/s]"
     ]
    },
    {
     "name": "stdout",
     "output_type": "stream",
     "text": [
      "red-teaming.md\n"
     ]
    },
    {
     "name": "stderr",
     "output_type": "stream",
     "text": [
      "\r 81%|████████  | 138/170 [01:20<00:21,  1.48it/s]"
     ]
    },
    {
     "name": "stdout",
     "output_type": "stream",
     "text": [
      "quota copy.md\n",
      "File quota copy.md does not contain title, description, ms.date or ##\n",
      "quickstart.md\n",
      "File quickstart.md does not contain title, description, ms.date or ##\n",
      "use-your-data-spring-common-variables.md\n",
      "File use-your-data-spring-common-variables.md does not contain title, description, ms.date or ##\n",
      "text-to-speech-quickstart.md\n"
     ]
    },
    {
     "name": "stderr",
     "output_type": "stream",
     "text": [
      "\r 84%|████████▎ | 142/170 [01:20<00:08,  3.12it/s]"
     ]
    },
    {
     "name": "stdout",
     "output_type": "stream",
     "text": [
      "use-blocklists.md\n"
     ]
    },
    {
     "name": "stderr",
     "output_type": "stream",
     "text": [
      "\r 84%|████████▍ | 143/170 [01:21<00:10,  2.52it/s]"
     ]
    },
    {
     "name": "stdout",
     "output_type": "stream",
     "text": [
      "use-your-data-spring.md\n",
      "File use-your-data-spring.md does not contain title, description, ms.date or ##\n",
      "use-your-data-python.md\n",
      "File use-your-data-python.md does not contain title, description, ms.date or ##\n",
      "use-your-data-go.md\n",
      "File use-your-data-go.md does not contain title, description, ms.date or ##\n",
      "use-web-app.md\n"
     ]
    },
    {
     "name": "stderr",
     "output_type": "stream",
     "text": [
      "\r 86%|████████▋ | 147/170 [01:22<00:06,  3.57it/s]"
     ]
    },
    {
     "name": "stdout",
     "output_type": "stream",
     "text": [
      "studio.md\n"
     ]
    },
    {
     "name": "stderr",
     "output_type": "stream",
     "text": [
      "\r 87%|████████▋ | 148/170 [01:22<00:06,  3.37it/s]"
     ]
    },
    {
     "name": "stdout",
     "output_type": "stream",
     "text": [
      "use-your-data.md\n"
     ]
    },
    {
     "name": "stderr",
     "output_type": "stream",
     "text": [
      " 89%|████████▉ | 152/170 [01:25<00:07,  2.36it/s]"
     ]
    },
    {
     "name": "stdout",
     "output_type": "stream",
     "text": [
      "use-your-data-javascript.md\n",
      "File use-your-data-javascript.md does not contain title, description, ms.date or ##\n",
      "use-your-data-studio.md\n",
      "use-your-data-powershell.md\n",
      "File use-your-data-powershell.md does not contain title, description, ms.date or ##\n",
      "system-message.md\n"
     ]
    },
    {
     "name": "stderr",
     "output_type": "stream",
     "text": [
      " 92%|█████████▏| 156/170 [01:26<00:05,  2.75it/s]"
     ]
    },
    {
     "name": "stdout",
     "output_type": "stream",
     "text": [
      "use-your-data-rest.md\n",
      "File use-your-data-rest.md does not contain title, description, ms.date or ##\n",
      "understand-embeddings.md\n",
      "use-your-data-securely.md\n"
     ]
    },
    {
     "name": "stderr",
     "output_type": "stream",
     "text": [
      " 93%|█████████▎| 158/170 [01:28<00:05,  2.10it/s]"
     ]
    },
    {
     "name": "stdout",
     "output_type": "stream",
     "text": [
      "use-your-data-quickstart.md\n",
      "supported-languages.md\n"
     ]
    },
    {
     "name": "stderr",
     "output_type": "stream",
     "text": [
      "\r 94%|█████████▎| 159/170 [01:28<00:04,  2.52it/s]"
     ]
    },
    {
     "name": "stdout",
     "output_type": "stream",
     "text": [
      "text-to-speech-rest.md\n",
      "File text-to-speech-rest.md does not contain title, description, ms.date or ##\n",
      "use-your-image-data.md\n"
     ]
    },
    {
     "name": "stderr",
     "output_type": "stream",
     "text": [
      "\r 95%|█████████▍| 161/170 [01:29<00:03,  2.56it/s]"
     ]
    },
    {
     "name": "stdout",
     "output_type": "stream",
     "text": [
      "use-your-data-dotnet.md\n",
      "File use-your-data-dotnet.md does not contain title, description, ms.date or ##\n",
      "use-your-data-common-variables.md\n",
      "File use-your-data-common-variables.md does not contain title, description, ms.date or ##\n",
      "work-with-code.md\n"
     ]
    },
    {
     "name": "stderr",
     "output_type": "stream",
     "text": [
      "\r 96%|█████████▋| 164/170 [01:29<00:01,  3.25it/s]"
     ]
    },
    {
     "name": "stdout",
     "output_type": "stream",
     "text": [
      "whisper-quickstart.md\n"
     ]
    },
    {
     "name": "stderr",
     "output_type": "stream",
     "text": [
      "\r 97%|█████████▋| 165/170 [01:30<00:01,  3.22it/s]"
     ]
    },
    {
     "name": "stdout",
     "output_type": "stream",
     "text": [
      "whisper-python.md\n",
      "File whisper-python.md does not contain title, description, ms.date or ##\n",
      "whisper-rest.md\n",
      "File whisper-rest.md does not contain title, description, ms.date or ##\n",
      "whisper-powershell.md\n",
      "File whisper-powershell.md does not contain title, description, ms.date or ##\n",
      "working-with-models.md\n"
     ]
    },
    {
     "name": "stderr",
     "output_type": "stream",
     "text": [
      "\r 99%|█████████▉| 169/170 [01:31<00:00,  3.69it/s]"
     ]
    },
    {
     "name": "stdout",
     "output_type": "stream",
     "text": [
      "whats-new.md\n"
     ]
    },
    {
     "name": "stderr",
     "output_type": "stream",
     "text": [
      "100%|██████████| 170/170 [01:33<00:00,  1.81it/s]\n"
     ]
    }
   ],
   "source": [
    "import uuid\n",
    "import re\n",
    "import json\n",
    "import os\n",
    "from tqdm import tqdm\n",
    "\n",
    "input_directory = './data/azure-ai-docs-markdown/'\n",
    "output_directory = './data/chunks-azure-ai-docs-markdown/'\n",
    "\n",
    "chunk_index=0\n",
    "for filename in tqdm(os.listdir(input_directory)):\n",
    "    if filename.endswith('.md'):\n",
    "        with open(os.path.join(input_directory, filename), 'r', encoding='utf-8') as file:\n",
    "            print(filename)\n",
    "            content = file.read()\n",
    "\n",
    "            # break if content doesn't contain title, description, ms.date and '##'\n",
    "            if 'title:' not in content or 'description:' not in content or 'ms.date:' not in content or '##' not in content:\n",
    "                print(f'File {filename} does not contain title, description, ms.date or ##')\n",
    "                continue\n",
    "\n",
    "            # Extract the title, description, and date\n",
    "            page_title = re.search(r'title: (.*)', content).group(1).replace('\"', '')\n",
    "            page_description = re.search(r'description: (.*)', content).group(1)\n",
    "            page_date = re.search(r'ms.date: (.*)', content).group(1)\n",
    "\n",
    "            # Split the content into chunks based on '##'\n",
    "            chunks = content.split('\\n## ')[1:]  # Skip the first chunk as it contains the title, description, and date\n",
    "\n",
    "            # Add the chunks to the list along with the title, description, and date\n",
    "            for chunk in chunks:\n",
    "                chunk_index=chunk_index + 1\n",
    "                chunk_content = clean_markdown_content(chunk.strip())\n",
    "\n",
    "                if (num_tokens_from_string(chunk_content) > 8191):\n",
    "                    print(f'Chunk {chunk_index} in file {filename} has more than 8191 tokens')\n",
    "                    break\n",
    "\n",
    "                vector = embeddings_llama3.embed_query(chunk_content)\n",
    "\n",
    "                chunk = {\n",
    "                    \"id\": str(uuid.uuid4()),\n",
    "                    'page_title': page_title,\n",
    "                    'page_description': page_description,\n",
    "                    'page_date': page_date,\n",
    "                    'chunk_title': chunk.split('\\n')[0],  # The first line after '##' is the title of the chunk\n",
    "                    'chunk_content': chunk_content,  # Remove leading and trailing whitespaces\n",
    "                    'vector': vector\n",
    "                }\n",
    "\n",
    "                chunk_file_name = f'chunk_{chunk_index}_{page_title}.json'.replace('?', '').replace(':', '').replace(\"'\", '').replace('|', '').replace('/', '').replace('\\\\', '')\n",
    "\n",
    "                # write chunk into JSON file into output directory\n",
    "                with open(f'{output_directory}/{chunk_file_name}', 'w') as f:\n",
    "                    json.dump(chunk, f)"
   ]
  },
  {
   "cell_type": "markdown",
   "metadata": {
    "id": "cHEfND8nCZ1K"
   },
   "source": [
    "By default, the length of the embedding vector will be 1536 for text-embedding-3-small or 3072 for text-embedding-3-large. You can reduce the dimensions of the embedding by passing in the dimensions parameter without the embedding losing its concept-representing properties."
   ]
  },
  {
   "cell_type": "markdown",
   "metadata": {
    "id": "N9rDqf5w3IZu"
   },
   "source": [
    "### <mark> Create Index in ChromaDB"
   ]
  },
  {
   "cell_type": "code",
   "execution_count": null,
   "metadata": {
    "id": "grfRIuyIpc0c"
   },
   "outputs": [],
   "source": [
    "import json\n",
    "import os\n",
    "from tqdm import tqdm\n",
    "from langchain_chroma import Chroma\n",
    "\n",
    "persist_directory = \"./vector-dbs/chroma_langchain_db\"\n",
    "vector_store = Chroma(\n",
    "    collection_name=\"chroma-azure-ai-docs-markdown\",\n",
    "    embedding_function=embeddings_llama3,\n",
    "    persist_directory=persist_directory,\n",
    ")"
   ]
  },
  {
   "cell_type": "code",
   "execution_count": null,
   "metadata": {
    "colab": {
     "base_uri": "https://localhost:8080/"
    },
    "collapsed": true,
    "executionInfo": {
     "elapsed": 122175,
     "status": "ok",
     "timestamp": 1736537930777,
     "user": {
      "displayName": "Deepali Bhadekar",
      "userId": "15595882886833151465"
     },
     "user_tz": -330
    },
    "id": "6ZKGNw6qqFEX",
    "outputId": "a5fbd17e-7ef8-437d-b17f-892c687f27f2"
   },
   "outputs": [
    {
     "name": "stderr",
     "output_type": "stream",
     "text": [
      "\r  0%|          | 0/814 [00:00<?, ?it/s]"
     ]
    },
    {
     "name": "stdout",
     "output_type": "stream",
     "text": [
      "chunk_1_Quickstart - getting started with Azure OpenAI assistants (preview) in AI Studio.json\n"
     ]
    },
    {
     "name": "stderr",
     "output_type": "stream",
     "text": [
      "\r  0%|          | 1/814 [00:02<40:10,  2.97s/it]"
     ]
    },
    {
     "name": "stdout",
     "output_type": "stream",
     "text": [
      "chunk_2_Quickstart - getting started with Azure OpenAI assistants (preview) in AI Studio.json\n"
     ]
    },
    {
     "name": "stderr",
     "output_type": "stream",
     "text": [
      "  0%|          | 3/814 [00:03<10:56,  1.23it/s]"
     ]
    },
    {
     "name": "stdout",
     "output_type": "stream",
     "text": [
      "chunk_3_Quickstart - getting started with Azure OpenAI assistants (preview) in AI Studio.json\n",
      "chunk_4_Quickstart - getting started with Azure OpenAI assistants (preview) in AI Studio.json\n"
     ]
    },
    {
     "name": "stderr",
     "output_type": "stream",
     "text": [
      "  1%|          | 6/814 [00:03<03:54,  3.45it/s]"
     ]
    },
    {
     "name": "stdout",
     "output_type": "stream",
     "text": [
      "chunk_5_Quickstart - getting started with Azure OpenAI assistants (preview) in AI Studio.json\n",
      "chunk_6_Quickstart - getting started with Azure OpenAI assistants (preview) in AI Studio.json\n",
      "chunk_7_Azure OpenAI Service abuse monitoring.json\n"
     ]
    },
    {
     "name": "stderr",
     "output_type": "stream",
     "text": [
      "\r  1%|          | 7/814 [00:03<03:22,  3.99it/s]"
     ]
    },
    {
     "name": "stdout",
     "output_type": "stream",
     "text": [
      "chunk_8_Azure OpenAI Service abuse monitoring.json\n",
      "chunk_9_Azure OpenAI API surfaces.json\n"
     ]
    },
    {
     "name": "stderr",
     "output_type": "stream",
     "text": [
      "  1%|          | 10/814 [00:07<09:28,  1.41it/s]"
     ]
    },
    {
     "name": "stdout",
     "output_type": "stream",
     "text": [
      "chunk_10_Azure OpenAI API surfaces.json\n",
      "chunk_11_How to use Azure OpenAI Assistants function calling.json\n"
     ]
    },
    {
     "name": "stderr",
     "output_type": "stream",
     "text": [
      "\r  1%|▏         | 11/814 [00:07<07:27,  1.79it/s]"
     ]
    },
    {
     "name": "stdout",
     "output_type": "stream",
     "text": [
      "chunk_12_How to use Azure OpenAI Assistants function calling.json\n"
     ]
    },
    {
     "name": "stderr",
     "output_type": "stream",
     "text": [
      "  2%|▏         | 13/814 [00:07<05:10,  2.58it/s]"
     ]
    },
    {
     "name": "stdout",
     "output_type": "stream",
     "text": [
      "chunk_13_How to use Azure OpenAI Assistants function calling.json\n",
      "chunk_14_How to use Azure OpenAI Assistants function calling.json\n"
     ]
    },
    {
     "name": "stderr",
     "output_type": "stream",
     "text": [
      "  2%|▏         | 15/814 [00:08<03:30,  3.80it/s]"
     ]
    },
    {
     "name": "stdout",
     "output_type": "stream",
     "text": [
      "chunk_15_How to use Azure OpenAI Assistants function calling.json\n",
      "chunk_16_How to create Assistants with Azure OpenAI Service.json\n"
     ]
    },
    {
     "name": "stderr",
     "output_type": "stream",
     "text": [
      "\r  2%|▏         | 16/814 [00:08<03:25,  3.88it/s]"
     ]
    },
    {
     "name": "stdout",
     "output_type": "stream",
     "text": [
      "chunk_17_How to create Assistants with Azure OpenAI Service.json\n",
      "chunk_18_How to create Assistants with Azure OpenAI Service.json\n"
     ]
    },
    {
     "name": "stderr",
     "output_type": "stream",
     "text": [
      "\r  2%|▏         | 18/814 [00:08<02:31,  5.24it/s]"
     ]
    },
    {
     "name": "stdout",
     "output_type": "stream",
     "text": [
      "chunk_19_How to create Assistants with Azure OpenAI Service.json\n"
     ]
    },
    {
     "name": "stderr",
     "output_type": "stream",
     "text": [
      "  2%|▏         | 20/814 [00:09<03:17,  4.03it/s]"
     ]
    },
    {
     "name": "stdout",
     "output_type": "stream",
     "text": [
      "chunk_20_How to create Assistants with Azure OpenAI Service.json\n",
      "chunk_21_How to create Assistants with Azure OpenAI Service.json\n"
     ]
    },
    {
     "name": "stderr",
     "output_type": "stream",
     "text": [
      "\r  3%|▎         | 21/814 [00:09<02:59,  4.42it/s]"
     ]
    },
    {
     "name": "stdout",
     "output_type": "stream",
     "text": [
      "chunk_22_How to create Assistants with Azure OpenAI Service.json\n",
      "chunk_23_Quickstart Use the OpenAI Service to make your AI Assistant with the REST API.json\n"
     ]
    },
    {
     "name": "stderr",
     "output_type": "stream",
     "text": [
      "  3%|▎         | 24/814 [00:09<02:15,  5.81it/s]"
     ]
    },
    {
     "name": "stdout",
     "output_type": "stream",
     "text": [
      "chunk_24_Quickstart Use the OpenAI Service to make your AI Assistant with the REST API.json\n",
      "chunk_25_Quickstart Use the OpenAI Service to make your AI Assistant with the REST API.json\n"
     ]
    },
    {
     "name": "stderr",
     "output_type": "stream",
     "text": [
      "  3%|▎         | 26/814 [00:10<02:06,  6.21it/s]"
     ]
    },
    {
     "name": "stdout",
     "output_type": "stream",
     "text": [
      "chunk_26_Quickstart Use the OpenAI Service to make your AI Assistant with the REST API.json\n",
      "chunk_27_Quickstart Use the OpenAI Service to make your AI Assistant with the REST API.json\n"
     ]
    },
    {
     "name": "stderr",
     "output_type": "stream",
     "text": [
      "\r  3%|▎         | 27/814 [00:10<01:55,  6.83it/s]"
     ]
    },
    {
     "name": "stdout",
     "output_type": "stream",
     "text": [
      "chunk_28_Quickstart Use the OpenAI Service to make your AI Assistant with the REST API.json\n",
      "chunk_29_Azure OpenAI Service Assistants Python & REST API runs reference .json\n"
     ]
    },
    {
     "name": "stderr",
     "output_type": "stream",
     "text": [
      "  4%|▎         | 30/814 [00:10<01:58,  6.63it/s]"
     ]
    },
    {
     "name": "stdout",
     "output_type": "stream",
     "text": [
      "chunk_30_Azure OpenAI Service Assistants Python & REST API runs reference .json\n",
      "chunk_31_Azure OpenAI Service Assistants Python & REST API runs reference .json\n"
     ]
    },
    {
     "name": "stderr",
     "output_type": "stream",
     "text": [
      "  4%|▍         | 32/814 [00:11<02:02,  6.39it/s]"
     ]
    },
    {
     "name": "stdout",
     "output_type": "stream",
     "text": [
      "chunk_32_Azure OpenAI Service Assistants Python & REST API runs reference .json\n",
      "chunk_33_Azure OpenAI Service Assistants Python & REST API runs reference .json\n"
     ]
    },
    {
     "name": "stderr",
     "output_type": "stream",
     "text": [
      "  4%|▍         | 34/814 [00:11<01:54,  6.80it/s]"
     ]
    },
    {
     "name": "stdout",
     "output_type": "stream",
     "text": [
      "chunk_34_Azure OpenAI Service Assistants Python & REST API runs reference .json\n",
      "chunk_35_Azure OpenAI Service Assistants Python & REST API runs reference .json\n"
     ]
    },
    {
     "name": "stderr",
     "output_type": "stream",
     "text": [
      "  4%|▍         | 36/814 [00:11<01:51,  6.95it/s]"
     ]
    },
    {
     "name": "stdout",
     "output_type": "stream",
     "text": [
      "chunk_36_Azure OpenAI Service Assistants Python & REST API runs reference .json\n",
      "chunk_37_Azure OpenAI Service Assistants Python & REST API runs reference .json\n"
     ]
    },
    {
     "name": "stderr",
     "output_type": "stream",
     "text": [
      "  5%|▍         | 38/814 [00:11<01:57,  6.63it/s]"
     ]
    },
    {
     "name": "stdout",
     "output_type": "stream",
     "text": [
      "chunk_38_Azure OpenAI Service Assistants Python & REST API runs reference .json\n",
      "chunk_39_Azure OpenAI Service Assistants Python & REST API runs reference .json\n"
     ]
    },
    {
     "name": "stderr",
     "output_type": "stream",
     "text": [
      "  5%|▍         | 40/814 [00:12<01:50,  7.00it/s]"
     ]
    },
    {
     "name": "stdout",
     "output_type": "stream",
     "text": [
      "chunk_40_Azure OpenAI Service Assistants Python & REST API runs reference .json\n",
      "chunk_41_Azure OpenAI Service Assistants Python & REST API runs reference .json\n"
     ]
    },
    {
     "name": "stderr",
     "output_type": "stream",
     "text": [
      "\r  5%|▌         | 41/814 [00:12<01:41,  7.63it/s]"
     ]
    },
    {
     "name": "stdout",
     "output_type": "stream",
     "text": [
      "chunk_42_Azure OpenAI Service Assistants Python & REST API runs reference .json\n",
      "chunk_43_Azure OpenAI Service Assistants Python & REST API runs reference .json\n"
     ]
    },
    {
     "name": "stderr",
     "output_type": "stream",
     "text": [
      "  6%|▌         | 45/814 [00:12<01:28,  8.66it/s]"
     ]
    },
    {
     "name": "stdout",
     "output_type": "stream",
     "text": [
      "chunk_44_Quickstart Use the OpenAI Service via the JavaScript SDK.json\n",
      "chunk_45_Quickstart Use the OpenAI Service via the JavaScript SDK.json\n",
      "chunk_46_Quickstart Use the OpenAI Service via the JavaScript SDK.json\n"
     ]
    },
    {
     "name": "stderr",
     "output_type": "stream",
     "text": [
      "\r  6%|▌         | 47/814 [00:12<01:27,  8.75it/s]"
     ]
    },
    {
     "name": "stdout",
     "output_type": "stream",
     "text": [
      "chunk_47_Quickstart Use the OpenAI Service via the JavaScript SDK.json\n",
      "chunk_48_Quickstart Use the OpenAI Service via the JavaScript SDK.json\n"
     ]
    },
    {
     "name": "stderr",
     "output_type": "stream",
     "text": [
      "  6%|▌         | 49/814 [00:13<01:44,  7.33it/s]"
     ]
    },
    {
     "name": "stdout",
     "output_type": "stream",
     "text": [
      "chunk_49_Quickstart Use the OpenAI Service via the JavaScript SDK.json\n",
      "chunk_50_Quickstart Use the OpenAI Service via the JavaScript SDK.json\n"
     ]
    },
    {
     "name": "stderr",
     "output_type": "stream",
     "text": [
      "\r  6%|▋         | 51/814 [00:13<01:23,  9.08it/s]"
     ]
    },
    {
     "name": "stdout",
     "output_type": "stream",
     "text": [
      "chunk_51_Quickstart Use the OpenAI Service via the JavaScript SDK.json\n",
      "chunk_52_Quickstart Use the OpenAI Service via the JavaScript SDK.json\n"
     ]
    },
    {
     "name": "stderr",
     "output_type": "stream",
     "text": [
      "\r  7%|▋         | 53/814 [00:13<01:23,  9.16it/s]"
     ]
    },
    {
     "name": "stdout",
     "output_type": "stream",
     "text": [
      "chunk_53_How to use Assistants with Logic apps.json\n",
      "chunk_54_How to use Assistants with Logic apps.json\n"
     ]
    },
    {
     "name": "stderr",
     "output_type": "stream",
     "text": [
      "  7%|▋         | 55/814 [00:14<01:53,  6.69it/s]"
     ]
    },
    {
     "name": "stdout",
     "output_type": "stream",
     "text": [
      "chunk_55_How to use Assistants with Logic apps.json\n",
      "chunk_56_How to use Assistants with Logic apps.json\n"
     ]
    },
    {
     "name": "stderr",
     "output_type": "stream",
     "text": [
      "  7%|▋         | 58/814 [00:14<01:30,  8.31it/s]"
     ]
    },
    {
     "name": "stdout",
     "output_type": "stream",
     "text": [
      "chunk_57_How to use Assistants with Logic apps.json\n",
      "chunk_58_Azure OpenAI Service API version retirement.json\n",
      "chunk_59_Azure OpenAI Service API version retirement.json\n"
     ]
    },
    {
     "name": "stderr",
     "output_type": "stream",
     "text": [
      "\r  7%|▋         | 60/814 [00:14<01:18,  9.60it/s]"
     ]
    },
    {
     "name": "stdout",
     "output_type": "stream",
     "text": [
      "chunk_60_Azure OpenAI Service API version retirement.json\n",
      "chunk_61_Azure OpenAI Service API version retirement.json\n",
      "chunk_62_Azure OpenAI Service API version retirement.json\n"
     ]
    },
    {
     "name": "stderr",
     "output_type": "stream",
     "text": [
      "  8%|▊         | 64/814 [00:14<01:08, 10.91it/s]"
     ]
    },
    {
     "name": "stdout",
     "output_type": "stream",
     "text": [
      "chunk_63_Azure OpenAI Service API version retirement.json\n",
      "chunk_64_Quickstart Use the OpenAI Service via the Python SDK.json\n",
      "chunk_65_Quickstart Use the OpenAI Service via the Python SDK.json\n"
     ]
    },
    {
     "name": "stderr",
     "output_type": "stream",
     "text": [
      "\r  8%|▊         | 66/814 [00:15<01:07, 11.16it/s]"
     ]
    },
    {
     "name": "stdout",
     "output_type": "stream",
     "text": [
      "chunk_66_Quickstart Use the OpenAI Service via the Python SDK.json\n",
      "chunk_67_Quickstart Use the OpenAI Service via the Python SDK.json\n",
      "chunk_68_Quickstart Use the OpenAI Service via the Python SDK.json\n"
     ]
    },
    {
     "name": "stderr",
     "output_type": "stream",
     "text": [
      "  8%|▊         | 69/814 [00:15<01:32,  8.09it/s]"
     ]
    },
    {
     "name": "stdout",
     "output_type": "stream",
     "text": [
      "chunk_69_Quickstart Use the OpenAI Service via the Python SDK.json\n",
      "chunk_70_Quickstart Use the OpenAI Service via the Python SDK.json\n"
     ]
    },
    {
     "name": "stderr",
     "output_type": "stream",
     "text": [
      "\r  9%|▊         | 71/814 [00:15<01:21,  9.16it/s]"
     ]
    },
    {
     "name": "stdout",
     "output_type": "stream",
     "text": [
      "chunk_71_Quickstart Use the OpenAI Service via the Python SDK.json\n",
      "chunk_72_Quickstart Use the OpenAI Service via the Python SDK.json\n",
      "chunk_73_Azure OpenAI Service Assistants Python & REST API reference.json\n"
     ]
    },
    {
     "name": "stderr",
     "output_type": "stream",
     "text": [
      "  9%|▉         | 74/814 [00:16<01:33,  7.95it/s]"
     ]
    },
    {
     "name": "stdout",
     "output_type": "stream",
     "text": [
      "chunk_74_Azure OpenAI Service Assistants Python & REST API reference.json\n",
      "chunk_75_Azure OpenAI Service Assistants Python & REST API reference.json\n"
     ]
    },
    {
     "name": "stderr",
     "output_type": "stream",
     "text": [
      "  9%|▉         | 76/814 [00:16<01:40,  7.33it/s]"
     ]
    },
    {
     "name": "stdout",
     "output_type": "stream",
     "text": [
      "chunk_76_Azure OpenAI Service Assistants Python & REST API reference.json\n",
      "chunk_77_Azure OpenAI Service Assistants Python & REST API reference.json\n"
     ]
    },
    {
     "name": "stderr",
     "output_type": "stream",
     "text": [
      "\r 10%|▉         | 78/814 [00:16<01:25,  8.57it/s]"
     ]
    },
    {
     "name": "stdout",
     "output_type": "stream",
     "text": [
      "chunk_78_Azure OpenAI Service Assistants Python & REST API reference.json\n",
      "chunk_79_Azure OpenAI Service Assistants Python & REST API reference.json\n"
     ]
    },
    {
     "name": "stderr",
     "output_type": "stream",
     "text": [
      " 10%|▉         | 80/814 [00:16<01:37,  7.54it/s]"
     ]
    },
    {
     "name": "stdout",
     "output_type": "stream",
     "text": [
      "chunk_80_Azure OpenAI Service Assistants Python & REST API messages reference .json\n",
      "chunk_81_Azure OpenAI Service Assistants Python & REST API messages reference .json\n"
     ]
    },
    {
     "name": "stderr",
     "output_type": "stream",
     "text": [
      " 10%|█         | 82/814 [00:17<01:38,  7.41it/s]"
     ]
    },
    {
     "name": "stdout",
     "output_type": "stream",
     "text": [
      "chunk_82_Azure OpenAI Service Assistants Python & REST API messages reference .json\n",
      "chunk_83_Azure OpenAI Service Assistants Python & REST API messages reference .json\n"
     ]
    },
    {
     "name": "stderr",
     "output_type": "stream",
     "text": [
      " 10%|█         | 84/814 [00:17<01:38,  7.44it/s]"
     ]
    },
    {
     "name": "stdout",
     "output_type": "stream",
     "text": [
      "chunk_84_Azure OpenAI Service Assistants Python & REST API messages reference .json\n",
      "chunk_85_Azure OpenAI Service Assistants Python & REST API messages reference .json\n"
     ]
    },
    {
     "name": "stderr",
     "output_type": "stream",
     "text": [
      " 11%|█         | 87/814 [00:17<01:19,  9.13it/s]"
     ]
    },
    {
     "name": "stdout",
     "output_type": "stream",
     "text": [
      "chunk_86_Quickstart Use the OpenAI Service via the .NET SDK.json\n",
      "chunk_87_Quickstart Use the OpenAI Service via the .NET SDK.json\n",
      "chunk_88_Quickstart Use the OpenAI Service via the .NET SDK.json\n"
     ]
    },
    {
     "name": "stderr",
     "output_type": "stream",
     "text": [
      " 11%|█         | 90/814 [00:18<01:20,  9.04it/s]"
     ]
    },
    {
     "name": "stdout",
     "output_type": "stream",
     "text": [
      "chunk_89_Quickstart Use the OpenAI Service via the .NET SDK.json\n",
      "chunk_90_Quickstart Use the OpenAI Service via the .NET SDK.json\n",
      "chunk_91_Azure OpenAI Service Assistants Python & REST API threads reference .json\n"
     ]
    },
    {
     "name": "stderr",
     "output_type": "stream",
     "text": [
      "\r 11%|█         | 91/814 [00:18<01:20,  8.98it/s]"
     ]
    },
    {
     "name": "stdout",
     "output_type": "stream",
     "text": [
      "chunk_92_Azure OpenAI Service Assistants Python & REST API threads reference .json\n",
      "chunk_93_Azure OpenAI Service Assistants Python & REST API threads reference .json\n"
     ]
    },
    {
     "name": "stderr",
     "output_type": "stream",
     "text": [
      " 12%|█▏        | 94/814 [00:18<01:19,  9.05it/s]"
     ]
    },
    {
     "name": "stdout",
     "output_type": "stream",
     "text": [
      "chunk_94_Azure OpenAI Service Assistants Python & REST API threads reference .json\n",
      "chunk_95_Azure OpenAI Service Assistants Python & REST API threads reference .json\n",
      "chunk_96_Content Credentials in Azure OpenAI.json\n"
     ]
    },
    {
     "name": "stderr",
     "output_type": "stream",
     "text": [
      "\r 12%|█▏        | 96/814 [00:18<01:13,  9.80it/s]"
     ]
    },
    {
     "name": "stdout",
     "output_type": "stream",
     "text": [
      "chunk_97_Content Credentials in Azure OpenAI.json\n",
      "chunk_98_How to use global batch processing with Azure OpenAI Service.json\n"
     ]
    },
    {
     "name": "stderr",
     "output_type": "stream",
     "text": [
      " 12%|█▏        | 99/814 [00:19<01:23,  8.54it/s]"
     ]
    },
    {
     "name": "stdout",
     "output_type": "stream",
     "text": [
      "chunk_99_How to use global batch processing with Azure OpenAI Service.json\n",
      "chunk_100_How to use global batch processing with Azure OpenAI Service.json\n"
     ]
    },
    {
     "name": "stderr",
     "output_type": "stream",
     "text": [
      "\r 12%|█▏        | 100/814 [00:19<01:27,  8.19it/s]"
     ]
    },
    {
     "name": "stdout",
     "output_type": "stream",
     "text": [
      "chunk_101_How to use global batch processing with Azure OpenAI Service.json\n"
     ]
    },
    {
     "name": "stderr",
     "output_type": "stream",
     "text": [
      " 13%|█▎        | 103/814 [00:19<01:24,  8.42it/s]"
     ]
    },
    {
     "name": "stdout",
     "output_type": "stream",
     "text": [
      "chunk_102_How to use global batch processing with Azure OpenAI Service.json\n",
      "chunk_103_Quickstart Use Azure OpenAI Assistants (Preview) via the Azure OpenAI Studio.json\n",
      "chunk_104_Quickstart Use Azure OpenAI Assistants (Preview) via the Azure OpenAI Studio.json\n"
     ]
    },
    {
     "name": "stderr",
     "output_type": "stream",
     "text": [
      "\r 13%|█▎        | 105/814 [00:19<01:25,  8.29it/s]"
     ]
    },
    {
     "name": "stdout",
     "output_type": "stream",
     "text": [
      "chunk_105_Quickstart Use Azure OpenAI Assistants (Preview) via the Azure OpenAI Studio.json\n",
      "chunk_106_Quickstart Use Azure OpenAI Assistants (Preview) via the Azure OpenAI Studio.json\n"
     ]
    },
    {
     "name": "stderr",
     "output_type": "stream",
     "text": [
      " 13%|█▎        | 108/814 [00:20<01:18,  8.97it/s]"
     ]
    },
    {
     "name": "stdout",
     "output_type": "stream",
     "text": [
      "chunk_107_Quickstart Use Azure OpenAI Assistants (Preview) via the Azure OpenAI Studio.json\n",
      "chunk_108_Quickstart Use Azure OpenAI Assistants (Preview) via the Azure OpenAI Studio.json\n",
      "chunk_109_Azure OpenAI Service Assistants API concepts.json\n"
     ]
    },
    {
     "name": "stderr",
     "output_type": "stream",
     "text": [
      " 14%|█▎        | 111/814 [00:20<01:13,  9.50it/s]"
     ]
    },
    {
     "name": "stdout",
     "output_type": "stream",
     "text": [
      "chunk_110_Azure OpenAI Service Assistants API concepts.json\n",
      "chunk_111_Azure OpenAI Service Assistants API concepts.json\n",
      "chunk_112_Azure OpenAI Service Assistants API concepts.json\n"
     ]
    },
    {
     "name": "stderr",
     "output_type": "stream",
     "text": [
      "\r 14%|█▍        | 113/814 [00:20<01:09, 10.13it/s]"
     ]
    },
    {
     "name": "stdout",
     "output_type": "stream",
     "text": [
      "chunk_113_Azure OpenAI Service Assistants API concepts.json\n",
      "chunk_114_Azure OpenAI Service Assistants API concepts.json\n"
     ]
    },
    {
     "name": "stderr",
     "output_type": "stream",
     "text": [
      "\r 14%|█▍        | 115/814 [00:20<01:12,  9.63it/s]"
     ]
    },
    {
     "name": "stdout",
     "output_type": "stream",
     "text": [
      "chunk_115_Azure OpenAI Service Assistants API concepts.json\n",
      "chunk_116_Azure OpenAI Service Assistants API concepts.json\n"
     ]
    },
    {
     "name": "stderr",
     "output_type": "stream",
     "text": [
      "\r 14%|█▍        | 116/814 [00:21<01:13,  9.48it/s]"
     ]
    },
    {
     "name": "stdout",
     "output_type": "stream",
     "text": [
      "chunk_117_Work with the Chat Completion API .json\n"
     ]
    },
    {
     "name": "stderr",
     "output_type": "stream",
     "text": [
      " 14%|█▍        | 118/814 [00:21<01:48,  6.44it/s]"
     ]
    },
    {
     "name": "stdout",
     "output_type": "stream",
     "text": [
      "chunk_118_Work with the Chat Completion API .json\n",
      "chunk_119_Work with the Chat Completion API .json\n"
     ]
    },
    {
     "name": "stderr",
     "output_type": "stream",
     "text": [
      " 15%|█▍        | 120/814 [00:22<02:22,  4.88it/s]"
     ]
    },
    {
     "name": "stdout",
     "output_type": "stream",
     "text": [
      "chunk_120_Work with the Chat Completion API .json\n",
      "chunk_121_Work with the Chat Completion API .json\n"
     ]
    },
    {
     "name": "stderr",
     "output_type": "stream",
     "text": [
      " 15%|█▍        | 122/814 [00:22<02:50,  4.05it/s]"
     ]
    },
    {
     "name": "stdout",
     "output_type": "stream",
     "text": [
      "chunk_122_Work with the Chat Completion API .json\n",
      "chunk_123_Work with the Chat Completion API .json\n"
     ]
    },
    {
     "name": "stderr",
     "output_type": "stream",
     "text": [
      "\r 15%|█▌        | 124/814 [00:22<02:08,  5.37it/s]"
     ]
    },
    {
     "name": "stdout",
     "output_type": "stream",
     "text": [
      "chunk_124_Use the Azure Developer CLI to deploy resources for Azure OpenAI On Your Data.json\n",
      "chunk_125_Use the Azure Developer CLI to deploy resources for Azure OpenAI On Your Data.json\n"
     ]
    },
    {
     "name": "stderr",
     "output_type": "stream",
     "text": [
      " 15%|█▌        | 126/814 [00:23<01:47,  6.41it/s]"
     ]
    },
    {
     "name": "stdout",
     "output_type": "stream",
     "text": [
      "chunk_126_Use the Azure Developer CLI to deploy resources for Azure OpenAI On Your Data.json\n",
      "chunk_127_Use the Azure Developer CLI to deploy resources for Azure OpenAI On Your Data.json\n"
     ]
    },
    {
     "name": "stderr",
     "output_type": "stream",
     "text": [
      "\r 16%|█▌        | 127/814 [00:23<01:41,  6.76it/s]"
     ]
    },
    {
     "name": "stdout",
     "output_type": "stream",
     "text": [
      "chunk_128_Use the Azure Developer CLI to deploy resources for Azure OpenAI On Your Data.json\n",
      "chunk_129_How to use Azure OpenAI Assistants Code Interpreter.json\n"
     ]
    },
    {
     "name": "stderr",
     "output_type": "stream",
     "text": [
      " 16%|█▌        | 130/814 [00:23<01:36,  7.12it/s]"
     ]
    },
    {
     "name": "stdout",
     "output_type": "stream",
     "text": [
      "chunk_130_How to use Azure OpenAI Assistants Code Interpreter.json\n",
      "chunk_131_How to use Azure OpenAI Assistants Code Interpreter.json\n"
     ]
    },
    {
     "name": "stderr",
     "output_type": "stream",
     "text": [
      " 16%|█▌        | 132/814 [00:24<01:49,  6.22it/s]"
     ]
    },
    {
     "name": "stdout",
     "output_type": "stream",
     "text": [
      "chunk_132_How to use Azure OpenAI Assistants Code Interpreter.json\n",
      "chunk_133_How to use Azure OpenAI Assistants Code Interpreter.json\n"
     ]
    },
    {
     "name": "stderr",
     "output_type": "stream",
     "text": [
      " 17%|█▋        | 135/814 [00:24<01:24,  8.02it/s]"
     ]
    },
    {
     "name": "stdout",
     "output_type": "stream",
     "text": [
      "chunk_134_Quickstart Use Azure OpenAI Service with the JavaScript SDK and the completions API.json\n",
      "chunk_135_Quickstart Use Azure OpenAI Service with the JavaScript SDK and the completions API.json\n",
      "chunk_136_Quickstart Use Azure OpenAI Service with the JavaScript SDK and the completions API.json\n"
     ]
    },
    {
     "name": "stderr",
     "output_type": "stream",
     "text": [
      " 17%|█▋        | 137/814 [00:24<01:51,  6.05it/s]"
     ]
    },
    {
     "name": "stdout",
     "output_type": "stream",
     "text": [
      "chunk_137_Quickstart Use Azure OpenAI Service with the JavaScript SDK and the completions API.json\n",
      "chunk_138_Quickstart Use Azure OpenAI Service with the JavaScript SDK and the completions API.json\n"
     ]
    },
    {
     "name": "stderr",
     "output_type": "stream",
     "text": [
      "\r 17%|█▋        | 138/814 [00:24<01:40,  6.71it/s]"
     ]
    },
    {
     "name": "stdout",
     "output_type": "stream",
     "text": [
      "chunk_139_Quickstart Use Azure OpenAI Service with the JavaScript SDK and the completions API.json\n",
      "chunk_140_How to generate text with Azure OpenAI Service.json\n"
     ]
    },
    {
     "name": "stderr",
     "output_type": "stream",
     "text": [
      "\r 17%|█▋        | 140/814 [00:25<01:33,  7.23it/s]"
     ]
    },
    {
     "name": "stdout",
     "output_type": "stream",
     "text": [
      "chunk_141_How to generate text with Azure OpenAI Service.json\n"
     ]
    },
    {
     "name": "stderr",
     "output_type": "stream",
     "text": [
      " 17%|█▋        | 142/814 [00:25<01:47,  6.24it/s]"
     ]
    },
    {
     "name": "stdout",
     "output_type": "stream",
     "text": [
      "chunk_142_How to generate text with Azure OpenAI Service.json\n",
      "chunk_143_How to generate text with Azure OpenAI Service.json\n"
     ]
    },
    {
     "name": "stderr",
     "output_type": "stream",
     "text": [
      "\r 18%|█▊        | 143/814 [00:25<01:51,  6.01it/s]"
     ]
    },
    {
     "name": "stdout",
     "output_type": "stream",
     "text": [
      "chunk_144_How to generate text with Azure OpenAI Service.json\n"
     ]
    },
    {
     "name": "stderr",
     "output_type": "stream",
     "text": [
      " 18%|█▊        | 145/814 [00:26<01:53,  5.91it/s]"
     ]
    },
    {
     "name": "stdout",
     "output_type": "stream",
     "text": [
      "chunk_145_How to generate text with Azure OpenAI Service.json\n",
      "chunk_146_How to generate text with Azure OpenAI Service.json\n"
     ]
    },
    {
     "name": "stderr",
     "output_type": "stream",
     "text": [
      " 18%|█▊        | 148/814 [00:26<01:24,  7.88it/s]"
     ]
    },
    {
     "name": "stdout",
     "output_type": "stream",
     "text": [
      "chunk_147_How to generate text with Azure OpenAI Service.json\n",
      "chunk_148_How to generate text with Azure OpenAI Service.json\n",
      "chunk_149_Create and manage Azure OpenAI Service deployments with the Azure CLI.json\n"
     ]
    },
    {
     "name": "stderr",
     "output_type": "stream",
     "text": [
      "\r 18%|█▊        | 150/814 [00:26<01:12,  9.10it/s]"
     ]
    },
    {
     "name": "stdout",
     "output_type": "stream",
     "text": [
      "chunk_150_Create and manage Azure OpenAI Service deployments with the Azure CLI.json\n",
      "chunk_151_Create and manage Azure OpenAI Service deployments with the Azure CLI.json\n",
      "chunk_152_Create and manage Azure OpenAI Service deployments with the Azure CLI.json\n"
     ]
    },
    {
     "name": "stderr",
     "output_type": "stream",
     "text": [
      "\r 19%|█▊        | 152/814 [00:26<01:06, 10.01it/s]"
     ]
    },
    {
     "name": "stdout",
     "output_type": "stream",
     "text": [
      "chunk_153_Create and manage Azure OpenAI Service deployments with the Azure CLI.json\n",
      "chunk_154_Create and manage Azure OpenAI Service deployments with the Azure CLI.json\n"
     ]
    },
    {
     "name": "stderr",
     "output_type": "stream",
     "text": [
      " 19%|█▉        | 156/814 [00:27<01:05, 10.11it/s]"
     ]
    },
    {
     "name": "stdout",
     "output_type": "stream",
     "text": [
      "chunk_155_Create and manage Azure OpenAI Service deployments with the Azure CLI.json\n",
      "chunk_156_Create and manage Azure OpenAI Service deployments with the Azure CLI.json\n",
      "chunk_157_Azure OpenAI Service content filtering.json\n"
     ]
    },
    {
     "name": "stderr",
     "output_type": "stream",
     "text": [
      "\r 19%|█▉        | 158/814 [00:27<01:11,  9.17it/s]"
     ]
    },
    {
     "name": "stdout",
     "output_type": "stream",
     "text": [
      "chunk_158_Azure OpenAI Service content filtering.json\n",
      "chunk_159_Azure OpenAI Service content filtering.json\n"
     ]
    },
    {
     "name": "stderr",
     "output_type": "stream",
     "text": [
      "\r 20%|█▉        | 160/814 [00:27<01:11,  9.10it/s]"
     ]
    },
    {
     "name": "stdout",
     "output_type": "stream",
     "text": [
      "chunk_160_Azure OpenAI Service content filtering.json\n",
      "chunk_161_Azure OpenAI Service content filtering.json\n"
     ]
    },
    {
     "name": "stderr",
     "output_type": "stream",
     "text": [
      "\r 20%|█▉        | 161/814 [00:27<01:18,  8.31it/s]"
     ]
    },
    {
     "name": "stdout",
     "output_type": "stream",
     "text": [
      "chunk_162_Azure OpenAI Service content filtering.json\n"
     ]
    },
    {
     "name": "stderr",
     "output_type": "stream",
     "text": [
      "\r 20%|█▉        | 162/814 [00:28<01:48,  6.02it/s]"
     ]
    },
    {
     "name": "stdout",
     "output_type": "stream",
     "text": [
      "chunk_163_Azure OpenAI Service content filtering.json\n"
     ]
    },
    {
     "name": "stderr",
     "output_type": "stream",
     "text": [
      " 20%|██        | 164/814 [00:28<02:28,  4.39it/s]"
     ]
    },
    {
     "name": "stdout",
     "output_type": "stream",
     "text": [
      "chunk_164_Azure OpenAI Service content filtering.json\n",
      "chunk_165_Azure OpenAI Service content filtering.json\n"
     ]
    },
    {
     "name": "stderr",
     "output_type": "stream",
     "text": [
      " 20%|██        | 166/814 [00:29<02:43,  3.97it/s]"
     ]
    },
    {
     "name": "stdout",
     "output_type": "stream",
     "text": [
      "chunk_166_Azure OpenAI Service content filtering.json\n",
      "chunk_167_Azure OpenAI Service content filtering.json\n"
     ]
    },
    {
     "name": "stderr",
     "output_type": "stream",
     "text": [
      " 21%|██        | 168/814 [00:29<02:10,  4.95it/s]"
     ]
    },
    {
     "name": "stdout",
     "output_type": "stream",
     "text": [
      "chunk_168_Quickstart Use Azure OpenAI Service with PowerShell.json\n",
      "chunk_169_Quickstart Use Azure OpenAI Service with PowerShell.json\n"
     ]
    },
    {
     "name": "stderr",
     "output_type": "stream",
     "text": [
      " 21%|██        | 170/814 [00:30<01:48,  5.91it/s]"
     ]
    },
    {
     "name": "stdout",
     "output_type": "stream",
     "text": [
      "chunk_170_Quickstart Use Azure OpenAI Service with PowerShell.json\n",
      "chunk_171_Quickstart Use Azure OpenAI Service with PowerShell.json\n",
      "chunk_172_Quickstart Use Azure OpenAI Service with PowerShell.json\n"
     ]
    },
    {
     "name": "stderr",
     "output_type": "stream",
     "text": [
      " 21%|██▏       | 174/814 [00:30<01:13,  8.72it/s]"
     ]
    },
    {
     "name": "stdout",
     "output_type": "stream",
     "text": [
      "chunk_173_Business Continuity and Disaster Recovery (BCDR) with Azure OpenAI Service.json\n",
      "chunk_174_Business Continuity and Disaster Recovery (BCDR) with Azure OpenAI Service.json\n",
      "chunk_175_Quickstart Use Azure OpenAI Service with the Java SDK.json\n"
     ]
    },
    {
     "name": "stderr",
     "output_type": "stream",
     "text": [
      "\r 22%|██▏       | 176/814 [00:30<01:04,  9.93it/s]"
     ]
    },
    {
     "name": "stdout",
     "output_type": "stream",
     "text": [
      "chunk_176_Quickstart Use Azure OpenAI Service with the Java SDK.json\n",
      "chunk_177_Quickstart Use Azure OpenAI Service with the Java SDK.json\n",
      "chunk_178_Quickstart Use Azure OpenAI Service with the Java SDK.json\n"
     ]
    },
    {
     "name": "stderr",
     "output_type": "stream",
     "text": [
      "\r 22%|██▏       | 178/814 [00:30<01:01, 10.35it/s]"
     ]
    },
    {
     "name": "stdout",
     "output_type": "stream",
     "text": [
      "chunk_179_Quickstart Use Azure OpenAI Service with the Java SDK.json\n"
     ]
    },
    {
     "name": "stderr",
     "output_type": "stream",
     "text": [
      "\r 22%|██▏       | 180/814 [00:31<01:11,  8.86it/s]"
     ]
    },
    {
     "name": "stdout",
     "output_type": "stream",
     "text": [
      "chunk_180_Quickstart Use Azure OpenAI Service with the Java SDK.json\n",
      "chunk_181_Quickstart Use Azure OpenAI Service with the Java SDK.json\n",
      "chunk_182_Quickstart Use Azure OpenAI Service with the Java SDK.json\n"
     ]
    },
    {
     "name": "stderr",
     "output_type": "stream",
     "text": [
      " 23%|██▎       | 184/814 [00:31<00:59, 10.51it/s]"
     ]
    },
    {
     "name": "stdout",
     "output_type": "stream",
     "text": [
      "chunk_183_Quickstart Use Azure OpenAI Service with the C# SDK.json\n",
      "chunk_184_Quickstart Use Azure OpenAI Service with the C# SDK.json\n",
      "chunk_185_Quickstart Use Azure OpenAI Service with the C# SDK.json\n"
     ]
    },
    {
     "name": "stderr",
     "output_type": "stream",
     "text": [
      "\r 23%|██▎       | 186/814 [00:31<01:05,  9.63it/s]"
     ]
    },
    {
     "name": "stdout",
     "output_type": "stream",
     "text": [
      "chunk_186_Quickstart Use Azure OpenAI Service with the C# SDK.json\n",
      "chunk_187_Quickstart Use Azure OpenAI Service with the C# SDK.json\n"
     ]
    },
    {
     "name": "stderr",
     "output_type": "stream",
     "text": [
      "\r 23%|██▎       | 188/814 [00:31<00:59, 10.58it/s]"
     ]
    },
    {
     "name": "stdout",
     "output_type": "stream",
     "text": [
      "chunk_188_Quickstart Use Azure OpenAI Service with the C# SDK.json\n",
      "chunk_189_Quickstart Use GPT-35-Turbo via the Azure OpenAI Studio.json\n",
      "chunk_190_Quickstart Use GPT-35-Turbo via the Azure OpenAI Studio.json\n"
     ]
    },
    {
     "name": "stderr",
     "output_type": "stream",
     "text": [
      "\r 23%|██▎       | 190/814 [00:31<01:00, 10.35it/s]"
     ]
    },
    {
     "name": "stdout",
     "output_type": "stream",
     "text": [
      "chunk_191_Quickstart Use GPT-35-Turbo via the Azure OpenAI Studio.json\n",
      "chunk_192_Quickstart Use GPT-35-Turbo via the Azure OpenAI Studio.json\n"
     ]
    },
    {
     "name": "stderr",
     "output_type": "stream",
     "text": [
      " 24%|██▍       | 194/814 [00:32<01:11,  8.69it/s]"
     ]
    },
    {
     "name": "stdout",
     "output_type": "stream",
     "text": [
      "chunk_193_Quickstart Use GPT-35-Turbo via the Azure OpenAI Studio.json\n",
      "chunk_194_Quickstart Use GPT-35-Turbo via the Azure OpenAI Studio.json\n",
      "chunk_195_How to use content filters (preview) with Azure OpenAI Service.json\n"
     ]
    },
    {
     "name": "stderr",
     "output_type": "stream",
     "text": [
      "\r 24%|██▍       | 196/814 [00:32<01:27,  7.06it/s]"
     ]
    },
    {
     "name": "stdout",
     "output_type": "stream",
     "text": [
      "chunk_196_How to use content filters (preview) with Azure OpenAI Service.json\n",
      "chunk_197_How to use content filters (preview) with Azure OpenAI Service.json\n",
      "chunk_198_Quickstart Use Azure OpenAI Service with the Python SDK.json\n"
     ]
    },
    {
     "name": "stderr",
     "output_type": "stream",
     "text": [
      "\r 24%|██▍       | 198/814 [00:33<01:17,  7.98it/s]"
     ]
    },
    {
     "name": "stdout",
     "output_type": "stream",
     "text": [
      "chunk_199_Quickstart Use Azure OpenAI Service with the Python SDK.json\n",
      "chunk_200_Quickstart Use Azure OpenAI Service with the Python SDK.json\n"
     ]
    },
    {
     "name": "stderr",
     "output_type": "stream",
     "text": [
      " 25%|██▍       | 201/814 [00:33<01:17,  7.87it/s]"
     ]
    },
    {
     "name": "stdout",
     "output_type": "stream",
     "text": [
      "chunk_201_Quickstart Use Azure OpenAI Service with the Python SDK.json\n",
      "chunk_202_Quickstart Use Azure OpenAI Service with the Python SDK.json\n",
      "chunk_203_Quickstart Use Azure OpenAI Service with the Python SDK.json\n"
     ]
    },
    {
     "name": "stderr",
     "output_type": "stream",
     "text": [
      "\r 25%|██▍       | 203/814 [00:33<01:06,  9.16it/s]"
     ]
    },
    {
     "name": "stdout",
     "output_type": "stream",
     "text": [
      "chunk_204_How to work with the Chat Markup Language (preview).json\n",
      "chunk_205_How to work with the Chat Markup Language (preview).json\n"
     ]
    },
    {
     "name": "stderr",
     "output_type": "stream",
     "text": [
      " 25%|██▌       | 206/814 [00:34<01:25,  7.14it/s]"
     ]
    },
    {
     "name": "stdout",
     "output_type": "stream",
     "text": [
      "chunk_206_How to work with the Chat Markup Language (preview).json\n",
      "chunk_207_How to work with the Chat Markup Language (preview).json\n"
     ]
    },
    {
     "name": "stderr",
     "output_type": "stream",
     "text": [
      " 26%|██▌       | 208/814 [00:34<01:22,  7.37it/s]"
     ]
    },
    {
     "name": "stdout",
     "output_type": "stream",
     "text": [
      "chunk_208_How to work with the Chat Markup Language (preview).json\n",
      "chunk_209_How to work with the Chat Markup Language (preview).json\n",
      "chunk_210_Quickstart Use Azure OpenAI Service with the REST API.json\n"
     ]
    },
    {
     "name": "stderr",
     "output_type": "stream",
     "text": [
      " 26%|██▌       | 212/814 [00:34<01:04,  9.35it/s]"
     ]
    },
    {
     "name": "stdout",
     "output_type": "stream",
     "text": [
      "chunk_211_Quickstart Use Azure OpenAI Service with the REST API.json\n",
      "chunk_212_Quickstart Use Azure OpenAI Service with the REST API.json\n",
      "chunk_213_Quickstart Use Azure OpenAI Service with the REST API.json\n"
     ]
    },
    {
     "name": "stderr",
     "output_type": "stream",
     "text": [
      " 26%|██▋       | 215/814 [00:35<01:00,  9.93it/s]"
     ]
    },
    {
     "name": "stdout",
     "output_type": "stream",
     "text": [
      "chunk_214_Quickstart Use Azure OpenAI Service with the REST API.json\n",
      "chunk_215_Quickstart Use Azure OpenAI Service with the REST API.json\n",
      "chunk_216_Quickstart Use Azure OpenAI Service with the JavaScript SDK.json\n"
     ]
    },
    {
     "name": "stderr",
     "output_type": "stream",
     "text": [
      "\r 27%|██▋       | 217/814 [00:35<00:58, 10.13it/s]"
     ]
    },
    {
     "name": "stdout",
     "output_type": "stream",
     "text": [
      "chunk_217_Quickstart Use Azure OpenAI Service with the JavaScript SDK.json\n",
      "chunk_218_Quickstart Use Azure OpenAI Service with the JavaScript SDK.json\n",
      "chunk_219_Quickstart Use Azure OpenAI Service with the JavaScript SDK.json\n"
     ]
    },
    {
     "name": "stderr",
     "output_type": "stream",
     "text": [
      "\r 27%|██▋       | 219/814 [00:35<00:59,  9.99it/s]"
     ]
    },
    {
     "name": "stdout",
     "output_type": "stream",
     "text": [
      "chunk_220_Quickstart Use Azure OpenAI Service with the JavaScript SDK.json\n",
      "chunk_221_Quickstart Use Azure OpenAI Service with the JavaScript SDK.json\n"
     ]
    },
    {
     "name": "stderr",
     "output_type": "stream",
     "text": [
      " 27%|██▋       | 222/814 [00:35<01:11,  8.28it/s]"
     ]
    },
    {
     "name": "stdout",
     "output_type": "stream",
     "text": [
      "chunk_222_Quickstart Use Azure OpenAI Service with the JavaScript SDK.json\n",
      "chunk_223_Quickstart Use Azure OpenAI Service with the JavaScript SDK.json\n"
     ]
    },
    {
     "name": "stderr",
     "output_type": "stream",
     "text": [
      "\r 27%|██▋       | 223/814 [00:36<01:11,  8.28it/s]"
     ]
    },
    {
     "name": "stdout",
     "output_type": "stream",
     "text": [
      "chunk_224_Quickstart Use Azure OpenAI Service with the JavaScript SDK.json\n",
      "chunk_225_Quickstart Generate images with the REST APIs for Azure OpenAI Service.json\n"
     ]
    },
    {
     "name": "stderr",
     "output_type": "stream",
     "text": [
      " 28%|██▊       | 226/814 [00:36<01:11,  8.19it/s]"
     ]
    },
    {
     "name": "stdout",
     "output_type": "stream",
     "text": [
      "chunk_226_Quickstart Generate images with the REST APIs for Azure OpenAI Service.json\n",
      "chunk_227_Quickstart Generate images with the REST APIs for Azure OpenAI Service.json\n"
     ]
    },
    {
     "name": "stderr",
     "output_type": "stream",
     "text": [
      "\r 28%|██▊       | 227/814 [00:36<01:29,  6.59it/s]"
     ]
    },
    {
     "name": "stdout",
     "output_type": "stream",
     "text": [
      "chunk_228_Quickstart Generate images with the REST APIs for Azure OpenAI Service.json\n"
     ]
    },
    {
     "name": "stderr",
     "output_type": "stream",
     "text": [
      " 28%|██▊       | 229/814 [00:37<01:28,  6.59it/s]"
     ]
    },
    {
     "name": "stdout",
     "output_type": "stream",
     "text": [
      "chunk_229_Quickstart Generate images with the REST APIs for Azure OpenAI Service.json\n",
      "chunk_230_Quickstart Generate images with the REST APIs for Azure OpenAI Service.json\n"
     ]
    },
    {
     "name": "stderr",
     "output_type": "stream",
     "text": [
      "\r 28%|██▊       | 231/814 [00:37<01:15,  7.75it/s]"
     ]
    },
    {
     "name": "stdout",
     "output_type": "stream",
     "text": [
      "chunk_231_Quickstart Use Azure OpenAI Service with the C# SDK to generate images.json\n",
      "chunk_232_Quickstart Use Azure OpenAI Service with the C# SDK to generate images.json\n",
      "chunk_233_Quickstart Use Azure OpenAI Service with the C# SDK to generate images.json\n"
     ]
    },
    {
     "name": "stderr",
     "output_type": "stream",
     "text": [
      " 29%|██▊       | 234/814 [00:37<01:10,  8.27it/s]"
     ]
    },
    {
     "name": "stdout",
     "output_type": "stream",
     "text": [
      "chunk_234_Quickstart Use Azure OpenAI Service with the C# SDK to generate images.json\n",
      "chunk_235_Quickstart Use Azure OpenAI Service with the C# SDK to generate images.json\n"
     ]
    },
    {
     "name": "stderr",
     "output_type": "stream",
     "text": [
      " 29%|██▉       | 236/814 [00:37<01:13,  7.81it/s]"
     ]
    },
    {
     "name": "stdout",
     "output_type": "stream",
     "text": [
      "chunk_236_Quickstart Use Azure OpenAI Service with the C# SDK to generate images.json\n",
      "chunk_237_Quickstart Use Azure OpenAI Service with the C# SDK to generate images.json\n"
     ]
    },
    {
     "name": "stderr",
     "output_type": "stream",
     "text": [
      " 29%|██▉       | 238/814 [00:38<01:08,  8.40it/s]"
     ]
    },
    {
     "name": "stdout",
     "output_type": "stream",
     "text": [
      "chunk_238_Quickstart Use Azure OpenAI Service with the C# SDK to generate images.json\n",
      "chunk_239_Azure OpenAI default content safety policies.json\n"
     ]
    },
    {
     "name": "stderr",
     "output_type": "stream",
     "text": [
      " 29%|██▉       | 240/814 [00:38<01:16,  7.52it/s]"
     ]
    },
    {
     "name": "stdout",
     "output_type": "stream",
     "text": [
      "chunk_240_Azure OpenAI default content safety policies.json\n",
      "chunk_241_Quickstart Generate images with Azure OpenAI Service and Azure OpenAI Studio.json\n"
     ]
    },
    {
     "name": "stderr",
     "output_type": "stream",
     "text": [
      " 30%|██▉       | 242/814 [00:38<01:13,  7.73it/s]"
     ]
    },
    {
     "name": "stdout",
     "output_type": "stream",
     "text": [
      "chunk_242_Quickstart Generate images with Azure OpenAI Service and Azure OpenAI Studio.json\n",
      "chunk_243_Quickstart Generate images with Azure OpenAI Service and Azure OpenAI Studio.json\n"
     ]
    },
    {
     "name": "stderr",
     "output_type": "stream",
     "text": [
      "\r 30%|██▉       | 243/814 [00:38<01:24,  6.79it/s]"
     ]
    },
    {
     "name": "stdout",
     "output_type": "stream",
     "text": [
      "chunk_244_Quickstart Generate images with Azure OpenAI Service and Azure OpenAI Studio.json\n",
      "chunk_245_Quickstart Generate images with Azure OpenAI Service and Azure OpenAI Studio.json\n"
     ]
    },
    {
     "name": "stderr",
     "output_type": "stream",
     "text": [
      " 30%|███       | 246/814 [00:39<01:14,  7.66it/s]"
     ]
    },
    {
     "name": "stdout",
     "output_type": "stream",
     "text": [
      "chunk_246_Quickstart Generate images with the Python SDK for Azure OpenAI Service.json\n",
      "chunk_247_Quickstart Generate images with the Python SDK for Azure OpenAI Service.json\n"
     ]
    },
    {
     "name": "stderr",
     "output_type": "stream",
     "text": [
      " 30%|███       | 248/814 [00:39<01:14,  7.60it/s]"
     ]
    },
    {
     "name": "stdout",
     "output_type": "stream",
     "text": [
      "chunk_248_Quickstart Generate images with the Python SDK for Azure OpenAI Service.json\n",
      "chunk_249_Quickstart Generate images with the Python SDK for Azure OpenAI Service.json\n"
     ]
    },
    {
     "name": "stderr",
     "output_type": "stream",
     "text": [
      " 31%|███       | 251/814 [00:39<01:11,  7.83it/s]"
     ]
    },
    {
     "name": "stdout",
     "output_type": "stream",
     "text": [
      "chunk_250_Quickstart Generate images with the Python SDK for Azure OpenAI Service.json\n",
      "chunk_251_Quickstart Generate images with the Python SDK for Azure OpenAI Service.json\n",
      "chunk_252_Quickstart Generate images with the Python SDK for Azure OpenAI Service.json\n"
     ]
    },
    {
     "name": "stderr",
     "output_type": "stream",
     "text": [
      "\r 31%|███       | 253/814 [00:39<01:00,  9.24it/s]"
     ]
    },
    {
     "name": "stdout",
     "output_type": "stream",
     "text": [
      "chunk_253_How-to Create and deploy an Azure OpenAI Service resource.json\n",
      "chunk_254_Quickstart Generate images with Azure OpenAI Service using PowerShell.json\n",
      "chunk_255_Quickstart Generate images with Azure OpenAI Service using PowerShell.json\n"
     ]
    },
    {
     "name": "stderr",
     "output_type": "stream",
     "text": [
      "\r 31%|███▏      | 255/814 [00:40<00:54, 10.33it/s]"
     ]
    },
    {
     "name": "stdout",
     "output_type": "stream",
     "text": [
      "chunk_256_Quickstart Generate images with Azure OpenAI Service using PowerShell.json\n",
      "chunk_257_Quickstart Generate images with Azure OpenAI Service using PowerShell.json\n"
     ]
    },
    {
     "name": "stderr",
     "output_type": "stream",
     "text": [
      " 32%|███▏      | 259/814 [00:40<00:55, 10.04it/s]"
     ]
    },
    {
     "name": "stdout",
     "output_type": "stream",
     "text": [
      "chunk_258_Quickstart Generate images with Azure OpenAI Service using PowerShell.json\n",
      "chunk_259_Quickstart Generate images with Azure OpenAI Service using PowerShell.json\n",
      "chunk_260_Quickstart Use Azure OpenAI Service with the JavaScript SDK to generate images.json\n"
     ]
    },
    {
     "name": "stderr",
     "output_type": "stream",
     "text": [
      "\r 32%|███▏      | 261/814 [00:40<00:49, 11.07it/s]"
     ]
    },
    {
     "name": "stdout",
     "output_type": "stream",
     "text": [
      "chunk_261_Quickstart Use Azure OpenAI Service with the JavaScript SDK to generate images.json\n",
      "chunk_262_Quickstart Use Azure OpenAI Service with the JavaScript SDK to generate images.json\n",
      "chunk_263_Quickstart Use Azure OpenAI Service with the JavaScript SDK to generate images.json\n"
     ]
    },
    {
     "name": "stderr",
     "output_type": "stream",
     "text": [
      "\r 32%|███▏      | 263/814 [00:40<00:47, 11.64it/s]"
     ]
    },
    {
     "name": "stdout",
     "output_type": "stream",
     "text": [
      "chunk_264_Quickstart Use Azure OpenAI Service with the JavaScript SDK to generate images.json\n",
      "chunk_265_Quickstart Use Azure OpenAI Service with the JavaScript SDK to generate images.json\n"
     ]
    },
    {
     "name": "stderr",
     "output_type": "stream",
     "text": [
      " 33%|███▎      | 267/814 [00:41<00:54, 10.00it/s]"
     ]
    },
    {
     "name": "stdout",
     "output_type": "stream",
     "text": [
      "chunk_266_Quickstart Use Azure OpenAI Service with the JavaScript SDK to generate images.json\n",
      "chunk_267_Quickstart Use Azure OpenAI Service with the JavaScript SDK to generate images.json\n",
      "chunk_268_Azure OpenAI Service getting started with customizing a large language model (LLM).json\n"
     ]
    },
    {
     "name": "stderr",
     "output_type": "stream",
     "text": [
      "\r 33%|███▎      | 269/814 [00:41<00:57,  9.50it/s]"
     ]
    },
    {
     "name": "stdout",
     "output_type": "stream",
     "text": [
      "chunk_269_Azure OpenAI Service getting started with customizing a large language model (LLM).json\n",
      "chunk_270_Azure OpenAI Service getting started with customizing a large language model (LLM).json\n"
     ]
    },
    {
     "name": "stderr",
     "output_type": "stream",
     "text": [
      "\r 33%|███▎      | 270/814 [00:41<01:01,  8.91it/s]"
     ]
    },
    {
     "name": "stdout",
     "output_type": "stream",
     "text": [
      "chunk_271_Quickstart Use Azure OpenAI Service with the C# SDK.json\n",
      "chunk_272_Quickstart Use Azure OpenAI Service with the C# SDK.json\n"
     ]
    },
    {
     "name": "stderr",
     "output_type": "stream",
     "text": [
      " 34%|███▎      | 273/814 [00:42<00:58,  9.22it/s]"
     ]
    },
    {
     "name": "stdout",
     "output_type": "stream",
     "text": [
      "chunk_273_Quickstart Use Azure OpenAI Service with the C# SDK.json\n",
      "chunk_274_Quickstart Use Azure OpenAI Service with the C# SDK.json\n"
     ]
    },
    {
     "name": "stderr",
     "output_type": "stream",
     "text": [
      " 34%|███▍      | 276/814 [00:42<00:52, 10.34it/s]"
     ]
    },
    {
     "name": "stdout",
     "output_type": "stream",
     "text": [
      "chunk_275_Quickstart Use Azure OpenAI Service with the C# SDK.json\n",
      "chunk_276_Quickstart Use Azure OpenAI Service with the C# SDK.json\n",
      "chunk_277_Understanding Azure OpenAI Service deployment types.json\n"
     ]
    },
    {
     "name": "stderr",
     "output_type": "stream",
     "text": [
      "\r 34%|███▍      | 278/814 [00:42<00:58,  9.18it/s]"
     ]
    },
    {
     "name": "stdout",
     "output_type": "stream",
     "text": [
      "chunk_278_Understanding Azure OpenAI Service deployment types.json\n",
      "chunk_279_Understanding Azure OpenAI Service deployment types.json\n"
     ]
    },
    {
     "name": "stderr",
     "output_type": "stream",
     "text": [
      "\r 34%|███▍      | 280/814 [00:42<00:53, 10.05it/s]"
     ]
    },
    {
     "name": "stdout",
     "output_type": "stream",
     "text": [
      "chunk_280_Understanding Azure OpenAI Service deployment types.json\n",
      "chunk_281_Understanding Azure OpenAI Service deployment types.json\n",
      "chunk_282_Understanding Azure OpenAI Service deployment types.json\n"
     ]
    },
    {
     "name": "stderr",
     "output_type": "stream",
     "text": [
      " 35%|███▍      | 284/814 [00:43<00:54,  9.67it/s]"
     ]
    },
    {
     "name": "stdout",
     "output_type": "stream",
     "text": [
      "chunk_283_Understanding Azure OpenAI Service deployment types.json\n",
      "chunk_284_Understanding Azure OpenAI Service deployment types.json\n",
      "chunk_285_Create and manage Azure OpenAI Service deployments with the Azure PowerShell.json\n"
     ]
    },
    {
     "name": "stderr",
     "output_type": "stream",
     "text": [
      "\r 35%|███▌      | 286/814 [00:43<00:50, 10.50it/s]"
     ]
    },
    {
     "name": "stdout",
     "output_type": "stream",
     "text": [
      "chunk_286_Create and manage Azure OpenAI Service deployments with the Azure PowerShell.json\n",
      "chunk_287_Create and manage Azure OpenAI Service deployments with the Azure PowerShell.json\n",
      "chunk_288_Create and manage Azure OpenAI Service deployments with the Azure PowerShell.json\n"
     ]
    },
    {
     "name": "stderr",
     "output_type": "stream",
     "text": [
      "\r 35%|███▌      | 288/814 [00:43<00:48, 10.84it/s]"
     ]
    },
    {
     "name": "stdout",
     "output_type": "stream",
     "text": [
      "chunk_289_Create and manage Azure OpenAI Service deployments with the Azure PowerShell.json\n",
      "chunk_290_Create and manage Azure OpenAI Service deployments with the Azure PowerShell.json\n"
     ]
    },
    {
     "name": "stderr",
     "output_type": "stream",
     "text": [
      " 36%|███▌      | 292/814 [00:43<00:52,  9.91it/s]"
     ]
    },
    {
     "name": "stdout",
     "output_type": "stream",
     "text": [
      "chunk_291_Create and manage Azure OpenAI Service deployments with the Azure PowerShell.json\n",
      "chunk_292_Create and manage Azure OpenAI Service deployments with the Azure PowerShell.json\n",
      "chunk_293_Azure OpenAI Service dynamic quota.json\n"
     ]
    },
    {
     "name": "stderr",
     "output_type": "stream",
     "text": [
      "\r 36%|███▌      | 294/814 [00:44<00:56,  9.17it/s]"
     ]
    },
    {
     "name": "stdout",
     "output_type": "stream",
     "text": [
      "chunk_294_Azure OpenAI Service dynamic quota.json\n",
      "chunk_295_Azure OpenAI Service dynamic quota.json\n"
     ]
    },
    {
     "name": "stderr",
     "output_type": "stream",
     "text": [
      "\r 36%|███▋      | 296/814 [00:44<00:52,  9.91it/s]"
     ]
    },
    {
     "name": "stdout",
     "output_type": "stream",
     "text": [
      "chunk_296_Create and manage Azure OpenAI Service deployments in the Azure portal.json\n",
      "chunk_297_Create and manage Azure OpenAI Service deployments in the Azure portal.json\n"
     ]
    },
    {
     "name": "stderr",
     "output_type": "stream",
     "text": [
      "\r 37%|███▋      | 298/814 [00:44<01:07,  7.65it/s]"
     ]
    },
    {
     "name": "stdout",
     "output_type": "stream",
     "text": [
      "chunk_298_Create and manage Azure OpenAI Service deployments in the Azure portal.json\n",
      "chunk_299_Quickstart Use the OpenAI Service image generation Go SDK.json\n"
     ]
    },
    {
     "name": "stderr",
     "output_type": "stream",
     "text": [
      "\r 37%|███▋      | 300/814 [00:44<00:58,  8.75it/s]"
     ]
    },
    {
     "name": "stdout",
     "output_type": "stream",
     "text": [
      "chunk_300_Quickstart Use the OpenAI Service image generation Go SDK.json\n",
      "chunk_301_Quickstart Use the OpenAI Service image generation Go SDK.json\n",
      "chunk_302_Quickstart Use the OpenAI Service image generation Go SDK.json\n"
     ]
    },
    {
     "name": "stderr",
     "output_type": "stream",
     "text": [
      "\r 37%|███▋      | 302/814 [00:45<00:52,  9.68it/s]"
     ]
    },
    {
     "name": "stdout",
     "output_type": "stream",
     "text": [
      "chunk_303_Quickstart Use the OpenAI Service image generation Go SDK.json\n",
      "chunk_304_Quickstart Use the OpenAI Service image generation Go SDK.json\n"
     ]
    },
    {
     "name": "stderr",
     "output_type": "stream",
     "text": [
      " 38%|███▊      | 306/814 [00:45<00:51,  9.90it/s]"
     ]
    },
    {
     "name": "stdout",
     "output_type": "stream",
     "text": [
      "chunk_305_Quickstart Use the OpenAI Service image generation Go SDK.json\n",
      "chunk_306_Quickstart Use the OpenAI Service image generation Go SDK.json\n",
      "chunk_307_Quickstart Use Azure OpenAI Service with the Java SDK to generate images.json\n"
     ]
    },
    {
     "name": "stderr",
     "output_type": "stream",
     "text": [
      "\r 38%|███▊      | 308/814 [00:45<00:46, 10.77it/s]"
     ]
    },
    {
     "name": "stdout",
     "output_type": "stream",
     "text": [
      "chunk_308_Quickstart Use Azure OpenAI Service with the Java SDK to generate images.json\n",
      "chunk_309_Quickstart Use Azure OpenAI Service with the Java SDK to generate images.json\n",
      "chunk_310_Quickstart Use Azure OpenAI Service with the Java SDK to generate images.json\n"
     ]
    },
    {
     "name": "stderr",
     "output_type": "stream",
     "text": [
      "\r 38%|███▊      | 310/814 [00:45<00:45, 10.97it/s]"
     ]
    },
    {
     "name": "stdout",
     "output_type": "stream",
     "text": [
      "chunk_311_Quickstart Use Azure OpenAI Service with the Java SDK to generate images.json\n",
      "chunk_312_Quickstart Use Azure OpenAI Service with the Java SDK to generate images.json\n"
     ]
    },
    {
     "name": "stderr",
     "output_type": "stream",
     "text": [
      " 39%|███▊      | 314/814 [00:46<00:51,  9.78it/s]"
     ]
    },
    {
     "name": "stdout",
     "output_type": "stream",
     "text": [
      "chunk_313_Quickstart Use Azure OpenAI Service with the Java SDK to generate images.json\n",
      "chunk_314_Quickstart Use Azure OpenAI Service with the Java SDK to generate images.json\n",
      "chunk_315_How to work with DALL-E models .json\n"
     ]
    },
    {
     "name": "stderr",
     "output_type": "stream",
     "text": [
      "\r 39%|███▉      | 316/814 [00:46<00:55,  8.92it/s]"
     ]
    },
    {
     "name": "stdout",
     "output_type": "stream",
     "text": [
      "chunk_316_How to work with DALL-E models .json\n",
      "chunk_317_How to work with DALL-E models .json\n"
     ]
    },
    {
     "name": "stderr",
     "output_type": "stream",
     "text": [
      "\r 39%|███▉      | 317/814 [00:46<01:00,  8.16it/s]"
     ]
    },
    {
     "name": "stdout",
     "output_type": "stream",
     "text": [
      "chunk_318_How to work with DALL-E models .json\n",
      "chunk_319_How to work with DALL-E models .json\n"
     ]
    },
    {
     "name": "stderr",
     "output_type": "stream",
     "text": [
      "\r 39%|███▉      | 319/814 [00:46<00:58,  8.39it/s]"
     ]
    },
    {
     "name": "stdout",
     "output_type": "stream",
     "text": [
      "chunk_320_How to work with DALL-E models .json\n",
      "chunk_321_Include file.json\n"
     ]
    },
    {
     "name": "stderr",
     "output_type": "stream",
     "text": [
      " 40%|███▉      | 323/814 [00:47<00:51,  9.49it/s]"
     ]
    },
    {
     "name": "stdout",
     "output_type": "stream",
     "text": [
      "chunk_322_Include file.json\n",
      "chunk_323_Include file.json\n",
      "chunk_324_Include file.json\n"
     ]
    },
    {
     "name": "stderr",
     "output_type": "stream",
     "text": [
      "\r 40%|███▉      | 324/814 [00:47<00:57,  8.48it/s]"
     ]
    },
    {
     "name": "stdout",
     "output_type": "stream",
     "text": [
      "chunk_325_Include file.json\n"
     ]
    },
    {
     "name": "stderr",
     "output_type": "stream",
     "text": [
      "\r 40%|███▉      | 325/814 [00:47<01:16,  6.36it/s]"
     ]
    },
    {
     "name": "stdout",
     "output_type": "stream",
     "text": [
      "chunk_326_Include file.json\n"
     ]
    },
    {
     "name": "stderr",
     "output_type": "stream",
     "text": [
      "\r 40%|████      | 326/814 [00:48<01:40,  4.85it/s]"
     ]
    },
    {
     "name": "stdout",
     "output_type": "stream",
     "text": [
      "chunk_327_Include file.json\n",
      "chunk_328_Include file.json\n"
     ]
    },
    {
     "name": "stderr",
     "output_type": "stream",
     "text": [
      " 40%|████      | 329/814 [00:48<01:16,  6.33it/s]"
     ]
    },
    {
     "name": "stdout",
     "output_type": "stream",
     "text": [
      "chunk_329_Include file.json\n",
      "chunk_330_Include file.json\n",
      "chunk_331_Include file.json\n"
     ]
    },
    {
     "name": "stderr",
     "output_type": "stream",
     "text": [
      " 41%|████      | 333/814 [00:48<00:55,  8.72it/s]"
     ]
    },
    {
     "name": "stdout",
     "output_type": "stream",
     "text": [
      "chunk_332_Include file.json\n",
      "chunk_333_Include file.json\n",
      "chunk_334_How to use function calling with Azure OpenAI Service.json\n",
      "chunk_335_How to use function calling with Azure OpenAI Service.json\n"
     ]
    },
    {
     "name": "stderr",
     "output_type": "stream",
     "text": [
      "\r 41%|████      | 335/814 [00:49<01:15,  6.36it/s]"
     ]
    },
    {
     "name": "stdout",
     "output_type": "stream",
     "text": [
      "chunk_336_How to use function calling with Azure OpenAI Service.json\n"
     ]
    },
    {
     "name": "stderr",
     "output_type": "stream",
     "text": [
      "\r 41%|████▏     | 336/814 [00:49<01:43,  4.62it/s]"
     ]
    },
    {
     "name": "stdout",
     "output_type": "stream",
     "text": [
      "chunk_337_How to use function calling with Azure OpenAI Service.json\n"
     ]
    },
    {
     "name": "stderr",
     "output_type": "stream",
     "text": [
      " 42%|████▏     | 338/814 [00:50<01:36,  4.94it/s]"
     ]
    },
    {
     "name": "stdout",
     "output_type": "stream",
     "text": [
      "chunk_338_How to use function calling with Azure OpenAI Service.json\n",
      "chunk_339_How to use function calling with Azure OpenAI Service.json\n"
     ]
    },
    {
     "name": "stderr",
     "output_type": "stream",
     "text": [
      " 42%|████▏     | 340/814 [00:50<01:18,  6.03it/s]"
     ]
    },
    {
     "name": "stdout",
     "output_type": "stream",
     "text": [
      "chunk_340_How to use Azure OpenAI Assistants file search.json\n",
      "chunk_341_How to use Azure OpenAI Assistants file search.json\n"
     ]
    },
    {
     "name": "stderr",
     "output_type": "stream",
     "text": [
      " 42%|████▏     | 342/814 [00:50<01:13,  6.41it/s]"
     ]
    },
    {
     "name": "stdout",
     "output_type": "stream",
     "text": [
      "chunk_342_How to use Azure OpenAI Assistants file search.json\n",
      "chunk_343_How to use Azure OpenAI Assistants file search.json\n"
     ]
    },
    {
     "name": "stderr",
     "output_type": "stream",
     "text": [
      "\r 42%|████▏     | 344/814 [00:50<01:05,  7.17it/s]"
     ]
    },
    {
     "name": "stdout",
     "output_type": "stream",
     "text": [
      "chunk_344_How to use Azure OpenAI Assistants file search.json\n",
      "chunk_345_How to use Azure OpenAI Assistants file search.json\n"
     ]
    },
    {
     "name": "stderr",
     "output_type": "stream",
     "text": [
      " 43%|████▎     | 346/814 [00:51<01:03,  7.33it/s]"
     ]
    },
    {
     "name": "stdout",
     "output_type": "stream",
     "text": [
      "chunk_346_How to use Azure OpenAI Assistants file search.json\n",
      "chunk_347_How to use Azure OpenAI Assistants file search.json\n"
     ]
    },
    {
     "name": "stderr",
     "output_type": "stream",
     "text": [
      " 43%|████▎     | 348/814 [00:51<01:04,  7.25it/s]"
     ]
    },
    {
     "name": "stdout",
     "output_type": "stream",
     "text": [
      "chunk_348_How to use Azure OpenAI Assistants file search.json\n",
      "chunk_349_How to use Azure OpenAI Assistants file search.json\n"
     ]
    },
    {
     "name": "stderr",
     "output_type": "stream",
     "text": [
      " 43%|████▎     | 350/814 [00:51<01:04,  7.15it/s]"
     ]
    },
    {
     "name": "stdout",
     "output_type": "stream",
     "text": [
      "chunk_350_How to use Azure OpenAI Assistants file search.json\n",
      "chunk_351_Customize a model with Azure OpenAI Service and the REST API.json\n"
     ]
    },
    {
     "name": "stderr",
     "output_type": "stream",
     "text": [
      " 43%|████▎     | 352/814 [00:52<00:59,  7.72it/s]"
     ]
    },
    {
     "name": "stdout",
     "output_type": "stream",
     "text": [
      "chunk_352_Customize a model with Azure OpenAI Service and the REST API.json\n",
      "chunk_353_Customize a model with Azure OpenAI Service and the REST API.json\n"
     ]
    },
    {
     "name": "stderr",
     "output_type": "stream",
     "text": [
      " 43%|████▎     | 354/814 [00:52<01:46,  4.31it/s]"
     ]
    },
    {
     "name": "stdout",
     "output_type": "stream",
     "text": [
      "chunk_354_Customize a model with Azure OpenAI Service and the REST API.json\n",
      "chunk_355_Customize a model with Azure OpenAI Service and the REST API.json\n"
     ]
    },
    {
     "name": "stderr",
     "output_type": "stream",
     "text": [
      " 44%|████▎     | 356/814 [00:53<01:26,  5.30it/s]"
     ]
    },
    {
     "name": "stdout",
     "output_type": "stream",
     "text": [
      "chunk_356_Customize a model with Azure OpenAI Service and the REST API.json\n",
      "chunk_357_Customize a model with Azure OpenAI Service and the REST API.json\n"
     ]
    },
    {
     "name": "stderr",
     "output_type": "stream",
     "text": [
      " 44%|████▍     | 358/814 [00:53<01:10,  6.44it/s]"
     ]
    },
    {
     "name": "stdout",
     "output_type": "stream",
     "text": [
      "chunk_358_Customize a model with Azure OpenAI Service and the REST API.json\n",
      "chunk_359_Customize a model with Azure OpenAI Service and the REST API.json\n"
     ]
    },
    {
     "name": "stderr",
     "output_type": "stream",
     "text": [
      "\r 44%|████▍     | 359/814 [00:53<01:03,  7.17it/s]"
     ]
    },
    {
     "name": "stdout",
     "output_type": "stream",
     "text": [
      "chunk_360_Customize a model with Azure OpenAI Service and the REST API.json\n"
     ]
    },
    {
     "name": "stderr",
     "output_type": "stream",
     "text": [
      " 44%|████▍     | 361/814 [00:53<01:21,  5.55it/s]"
     ]
    },
    {
     "name": "stdout",
     "output_type": "stream",
     "text": [
      "chunk_361_Customize a model with Azure OpenAI Service and the REST API.json\n",
      "chunk_362_Customize a model with Azure OpenAI Service and the REST API.json\n"
     ]
    },
    {
     "name": "stderr",
     "output_type": "stream",
     "text": [
      " 45%|████▍     | 363/814 [00:54<01:20,  5.60it/s]"
     ]
    },
    {
     "name": "stdout",
     "output_type": "stream",
     "text": [
      "chunk_363_Customize a model with Azure OpenAI Service and the REST API.json\n",
      "chunk_364_Customize a model with Azure OpenAI Service and the REST API.json\n"
     ]
    },
    {
     "name": "stderr",
     "output_type": "stream",
     "text": [
      " 45%|████▍     | 366/814 [00:54<01:00,  7.44it/s]"
     ]
    },
    {
     "name": "stdout",
     "output_type": "stream",
     "text": [
      "chunk_365_Azure OpenAI Service embeddings tutorial.json\n",
      "chunk_366_Azure OpenAI Service embeddings tutorial.json\n",
      "chunk_367_Azure OpenAI Service fine-tuning considerations.json\n"
     ]
    },
    {
     "name": "stderr",
     "output_type": "stream",
     "text": [
      "\r 45%|████▌     | 368/814 [00:54<00:54,  8.15it/s]"
     ]
    },
    {
     "name": "stdout",
     "output_type": "stream",
     "text": [
      "chunk_368_Azure OpenAI Service fine-tuning considerations.json\n",
      "chunk_369_Azure OpenAI Service fine-tuning considerations.json\n"
     ]
    },
    {
     "name": "stderr",
     "output_type": "stream",
     "text": [
      " 45%|████▌     | 370/814 [00:55<00:55,  7.99it/s]"
     ]
    },
    {
     "name": "stdout",
     "output_type": "stream",
     "text": [
      "chunk_370_Azure OpenAI Service fine-tuning considerations.json\n",
      "chunk_371_Azure OpenAI Service fine-tuning considerations.json\n"
     ]
    },
    {
     "name": "stderr",
     "output_type": "stream",
     "text": [
      " 46%|████▌     | 373/814 [00:55<00:45,  9.59it/s]"
     ]
    },
    {
     "name": "stdout",
     "output_type": "stream",
     "text": [
      "chunk_372_Azure OpenAI Service fine-tuning considerations.json\n",
      "chunk_373_Azure OpenAI Service fine-tuning considerations.json\n",
      "chunk_374_Quickstart Use GPT-4 Turbo with Vision on your images and videos with the Python SDK.json\n"
     ]
    },
    {
     "name": "stderr",
     "output_type": "stream",
     "text": [
      "\r 46%|████▌     | 375/814 [00:55<00:42, 10.37it/s]"
     ]
    },
    {
     "name": "stdout",
     "output_type": "stream",
     "text": [
      "chunk_375_Quickstart Use GPT-4 Turbo with Vision on your images and videos with the Python SDK.json\n",
      "chunk_376_Quickstart Use GPT-4 Turbo with Vision on your images and videos with the Python SDK.json\n"
     ]
    },
    {
     "name": "stderr",
     "output_type": "stream",
     "text": [
      "\r 46%|████▋     | 377/814 [00:55<00:57,  7.55it/s]"
     ]
    },
    {
     "name": "stdout",
     "output_type": "stream",
     "text": [
      "chunk_377_Quickstart Use GPT-4 Turbo with Vision on your images and videos with the Python SDK.json\n",
      "chunk_378_Quickstart Use Azure OpenAI Service with the JavaScript SDK and the completions API.json\n",
      "chunk_379_Quickstart Use Azure OpenAI Service with the JavaScript SDK and the completions API.json\n"
     ]
    },
    {
     "name": "stderr",
     "output_type": "stream",
     "text": [
      " 47%|████▋     | 380/814 [00:56<00:52,  8.26it/s]"
     ]
    },
    {
     "name": "stdout",
     "output_type": "stream",
     "text": [
      "chunk_380_Quickstart Use Azure OpenAI Service with the JavaScript SDK and the completions API.json\n",
      "chunk_381_Quickstart Use Azure OpenAI Service with the JavaScript SDK and the completions API.json\n"
     ]
    },
    {
     "name": "stderr",
     "output_type": "stream",
     "text": [
      "\r 47%|████▋     | 382/814 [00:56<00:45,  9.54it/s]"
     ]
    },
    {
     "name": "stdout",
     "output_type": "stream",
     "text": [
      "chunk_382_Quickstart Use Azure OpenAI Service with the JavaScript SDK and the completions API.json\n",
      "chunk_383_Quickstart Use Azure OpenAI Service with the JavaScript SDK and the completions API.json\n",
      "chunk_384_Customize a model with Azure OpenAI Service and Azure OpenAI Studio.json\n"
     ]
    },
    {
     "name": "stderr",
     "output_type": "stream",
     "text": [
      " 47%|████▋     | 386/814 [00:56<00:40, 10.55it/s]"
     ]
    },
    {
     "name": "stdout",
     "output_type": "stream",
     "text": [
      "chunk_385_Customize a model with Azure OpenAI Service and Azure OpenAI Studio.json\n",
      "chunk_386_Customize a model with Azure OpenAI Service and Azure OpenAI Studio.json\n",
      "chunk_387_Customize a model with Azure OpenAI Service and Azure OpenAI Studio.json\n",
      "chunk_388_Customize a model with Azure OpenAI Service and Azure OpenAI Studio.json\n"
     ]
    },
    {
     "name": "stderr",
     "output_type": "stream",
     "text": [
      "\r 48%|████▊     | 388/814 [00:57<01:02,  6.84it/s]"
     ]
    },
    {
     "name": "stdout",
     "output_type": "stream",
     "text": [
      "chunk_389_Customize a model with Azure OpenAI Service and Azure OpenAI Studio.json\n"
     ]
    },
    {
     "name": "stderr",
     "output_type": "stream",
     "text": [
      " 48%|████▊     | 390/814 [00:57<01:27,  4.83it/s]"
     ]
    },
    {
     "name": "stdout",
     "output_type": "stream",
     "text": [
      "chunk_390_Customize a model with Azure OpenAI Service and Azure OpenAI Studio.json\n",
      "chunk_391_Customize a model with Azure OpenAI Service and Azure OpenAI Studio.json\n"
     ]
    },
    {
     "name": "stderr",
     "output_type": "stream",
     "text": [
      "\r 48%|████▊     | 392/814 [00:58<01:07,  6.23it/s]"
     ]
    },
    {
     "name": "stdout",
     "output_type": "stream",
     "text": [
      "chunk_392_Customize a model with Azure OpenAI Service and Azure OpenAI Studio.json\n",
      "chunk_393_Customize a model with Azure OpenAI Service and Azure OpenAI Studio.json\n"
     ]
    },
    {
     "name": "stderr",
     "output_type": "stream",
     "text": [
      "\r 48%|████▊     | 393/814 [00:58<01:04,  6.49it/s]"
     ]
    },
    {
     "name": "stdout",
     "output_type": "stream",
     "text": [
      "chunk_394_Customize a model with Azure OpenAI Service and Azure OpenAI Studio.json\n",
      "chunk_395_Customize a model with Azure OpenAI Service and Azure OpenAI Studio.json\n"
     ]
    },
    {
     "name": "stderr",
     "output_type": "stream",
     "text": [
      " 49%|████▊     | 396/814 [00:58<00:58,  7.18it/s]"
     ]
    },
    {
     "name": "stdout",
     "output_type": "stream",
     "text": [
      "chunk_396_Customize a model with Azure OpenAI Service and Azure OpenAI Studio.json\n",
      "chunk_397_Customize a model with Azure OpenAI Service and Azure OpenAI Studio.json\n"
     ]
    },
    {
     "name": "stderr",
     "output_type": "stream",
     "text": [
      " 49%|████▉     | 398/814 [00:58<00:52,  7.86it/s]"
     ]
    },
    {
     "name": "stdout",
     "output_type": "stream",
     "text": [
      "chunk_398_Quickstart Use GPT-4 Turbo with Vision on your images and videos with the Azure OpenAI REST API.json\n",
      "chunk_399_Quickstart Use GPT-4 Turbo with Vision on your images and videos with the Azure OpenAI REST API.json\n"
     ]
    },
    {
     "name": "stderr",
     "output_type": "stream",
     "text": [
      "\r 49%|████▉     | 399/814 [00:58<00:51,  8.09it/s]"
     ]
    },
    {
     "name": "stdout",
     "output_type": "stream",
     "text": [
      "chunk_400_Quickstart Use GPT-4 Turbo with Vision on your images and videos with the Azure OpenAI REST API.json\n"
     ]
    },
    {
     "name": "stderr",
     "output_type": "stream",
     "text": [
      " 49%|████▉     | 402/814 [00:59<00:54,  7.63it/s]"
     ]
    },
    {
     "name": "stdout",
     "output_type": "stream",
     "text": [
      "chunk_401_Quickstart Use GPT-4 Turbo with Vision on your images and videos with the Azure OpenAI REST API.json\n",
      "chunk_402_Quickstart Use GPT-4 Turbo with Vision on your images and videos with the Azure OpenAI Service.json\n",
      "chunk_403_Quickstart Use GPT-4 Turbo with Vision on your images and videos with the Azure OpenAI Service.json\n"
     ]
    },
    {
     "name": "stderr",
     "output_type": "stream",
     "text": [
      "\r 50%|████▉     | 404/814 [00:59<00:48,  8.47it/s]"
     ]
    },
    {
     "name": "stdout",
     "output_type": "stream",
     "text": [
      "chunk_404_Azure OpenAI Service fine-tuning gpt-3.5-turbo.json\n",
      "chunk_405_Azure OpenAI Service fine-tuning gpt-3.5-turbo.json\n"
     ]
    },
    {
     "name": "stderr",
     "output_type": "stream",
     "text": [
      " 50%|████▉     | 406/814 [01:00<01:18,  5.21it/s]"
     ]
    },
    {
     "name": "stdout",
     "output_type": "stream",
     "text": [
      "chunk_406_Azure OpenAI Service fine-tuning gpt-3.5-turbo.json\n",
      "chunk_407_Azure OpenAI Service fine-tuning gpt-3.5-turbo.json\n"
     ]
    },
    {
     "name": "stderr",
     "output_type": "stream",
     "text": [
      "\r 50%|█████     | 407/814 [01:00<01:17,  5.24it/s]"
     ]
    },
    {
     "name": "stdout",
     "output_type": "stream",
     "text": [
      "chunk_408_Azure OpenAI Service fine-tuning gpt-3.5-turbo.json\n"
     ]
    },
    {
     "name": "stderr",
     "output_type": "stream",
     "text": [
      "\r 50%|█████     | 408/814 [01:00<01:21,  4.95it/s]"
     ]
    },
    {
     "name": "stdout",
     "output_type": "stream",
     "text": [
      "chunk_409_Azure OpenAI Service fine-tuning gpt-3.5-turbo.json\n"
     ]
    },
    {
     "name": "stderr",
     "output_type": "stream",
     "text": [
      "\r 50%|█████     | 409/814 [01:01<01:43,  3.91it/s]"
     ]
    },
    {
     "name": "stdout",
     "output_type": "stream",
     "text": [
      "chunk_410_Azure OpenAI Service fine-tuning gpt-3.5-turbo.json\n"
     ]
    },
    {
     "name": "stderr",
     "output_type": "stream",
     "text": [
      " 50%|█████     | 411/814 [01:01<01:24,  4.76it/s]"
     ]
    },
    {
     "name": "stdout",
     "output_type": "stream",
     "text": [
      "chunk_411_Azure OpenAI Service fine-tuning gpt-3.5-turbo.json\n",
      "chunk_412_Azure OpenAI Service fine-tuning gpt-3.5-turbo.json\n"
     ]
    },
    {
     "name": "stderr",
     "output_type": "stream",
     "text": [
      " 51%|█████     | 413/814 [01:01<01:17,  5.18it/s]"
     ]
    },
    {
     "name": "stdout",
     "output_type": "stream",
     "text": [
      "chunk_413_Azure OpenAI Service fine-tuning gpt-3.5-turbo.json\n",
      "chunk_414_Azure OpenAI Service fine-tuning gpt-3.5-turbo.json\n"
     ]
    },
    {
     "name": "stderr",
     "output_type": "stream",
     "text": [
      "\r 51%|█████     | 415/814 [01:01<00:57,  6.88it/s]"
     ]
    },
    {
     "name": "stdout",
     "output_type": "stream",
     "text": [
      "chunk_415_Azure OpenAI Service fine-tuning gpt-3.5-turbo.json\n",
      "chunk_416_Azure OpenAI Service fine-tuning gpt-3.5-turbo.json\n",
      "chunk_417_Azure OpenAI Service encryption of data at rest.json\n"
     ]
    },
    {
     "name": "stderr",
     "output_type": "stream",
     "text": [
      "\r 51%|█████     | 417/814 [01:02<00:46,  8.55it/s]"
     ]
    },
    {
     "name": "stdout",
     "output_type": "stream",
     "text": [
      "chunk_418_Azure OpenAI Service encryption of data at rest.json\n",
      "chunk_419_Azure OpenAI Service encryption of data at rest.json\n"
     ]
    },
    {
     "name": "stderr",
     "output_type": "stream",
     "text": [
      " 52%|█████▏    | 421/814 [01:02<00:48,  8.03it/s]"
     ]
    },
    {
     "name": "stdout",
     "output_type": "stream",
     "text": [
      "chunk_420_Azure OpenAI Service encryption of data at rest.json\n",
      "chunk_421_Azure OpenAI Service encryption of data at rest.json\n",
      "chunk_422_Azure OpenAI Service encryption of data at rest.json\n"
     ]
    },
    {
     "name": "stderr",
     "output_type": "stream",
     "text": [
      "\r 52%|█████▏    | 423/814 [01:02<00:46,  8.42it/s]"
     ]
    },
    {
     "name": "stdout",
     "output_type": "stream",
     "text": [
      "chunk_423_Azure OpenAI Service encryption of data at rest.json\n",
      "chunk_424_Azure OpenAI Service encryption of data at rest.json\n"
     ]
    },
    {
     "name": "stderr",
     "output_type": "stream",
     "text": [
      "\r 52%|█████▏    | 424/814 [01:03<00:47,  8.16it/s]"
     ]
    },
    {
     "name": "stdout",
     "output_type": "stream",
     "text": [
      "chunk_425_Azure OpenAI Service encryption of data at rest.json\n",
      "chunk_426_How to generate embeddings with Azure OpenAI Service.json\n"
     ]
    },
    {
     "name": "stderr",
     "output_type": "stream",
     "text": [
      " 53%|█████▎    | 428/814 [01:03<00:42,  9.04it/s]"
     ]
    },
    {
     "name": "stdout",
     "output_type": "stream",
     "text": [
      "chunk_427_How to generate embeddings with Azure OpenAI Service.json\n",
      "chunk_428_How to generate embeddings with Azure OpenAI Service.json\n",
      "chunk_429_How to generate embeddings with Azure OpenAI Service.json\n"
     ]
    },
    {
     "name": "stderr",
     "output_type": "stream",
     "text": [
      "\r 53%|█████▎    | 430/814 [01:03<00:40,  9.55it/s]"
     ]
    },
    {
     "name": "stdout",
     "output_type": "stream",
     "text": [
      "chunk_430_Image prompt engineering techniques.json\n",
      "chunk_431_Image prompt engineering techniques.json\n"
     ]
    },
    {
     "name": "stderr",
     "output_type": "stream",
     "text": [
      "\r 53%|█████▎    | 432/814 [01:04<01:09,  5.49it/s]"
     ]
    },
    {
     "name": "stdout",
     "output_type": "stream",
     "text": [
      "chunk_432_Fine-tuning function calls with Azure OpenAI Service.json\n",
      "chunk_433_Fine-tuning function calls with Azure OpenAI Service.json\n"
     ]
    },
    {
     "name": "stderr",
     "output_type": "stream",
     "text": [
      " 53%|█████▎    | 434/814 [01:04<00:59,  6.37it/s]"
     ]
    },
    {
     "name": "stdout",
     "output_type": "stream",
     "text": [
      "chunk_434_Fine-tuning function calls with Azure OpenAI Service.json\n",
      "chunk_435_Fine-tuning function calls with Azure OpenAI Service.json\n"
     ]
    },
    {
     "name": "stderr",
     "output_type": "stream",
     "text": [
      " 54%|█████▎    | 436/814 [01:04<00:53,  7.08it/s]"
     ]
    },
    {
     "name": "stdout",
     "output_type": "stream",
     "text": [
      "chunk_436_Fine-tuning function calls with Azure OpenAI Service.json\n",
      "chunk_437_Customize a model with Azure OpenAI Service and the Python SDK.json\n"
     ]
    },
    {
     "name": "stderr",
     "output_type": "stream",
     "text": [
      " 54%|█████▍    | 438/814 [01:05<00:52,  7.22it/s]"
     ]
    },
    {
     "name": "stdout",
     "output_type": "stream",
     "text": [
      "chunk_438_Customize a model with Azure OpenAI Service and the Python SDK.json\n",
      "chunk_439_Customize a model with Azure OpenAI Service and the Python SDK.json\n"
     ]
    },
    {
     "name": "stderr",
     "output_type": "stream",
     "text": [
      "\r 54%|█████▍    | 439/814 [01:05<01:30,  4.13it/s]"
     ]
    },
    {
     "name": "stdout",
     "output_type": "stream",
     "text": [
      "chunk_440_Customize a model with Azure OpenAI Service and the Python SDK.json\n"
     ]
    },
    {
     "name": "stderr",
     "output_type": "stream",
     "text": [
      "\r 54%|█████▍    | 440/814 [01:05<01:27,  4.30it/s]"
     ]
    },
    {
     "name": "stdout",
     "output_type": "stream",
     "text": [
      "chunk_441_Customize a model with Azure OpenAI Service and the Python SDK.json\n"
     ]
    },
    {
     "name": "stderr",
     "output_type": "stream",
     "text": [
      " 54%|█████▍    | 442/814 [01:06<01:15,  4.96it/s]"
     ]
    },
    {
     "name": "stdout",
     "output_type": "stream",
     "text": [
      "chunk_442_Customize a model with Azure OpenAI Service and the Python SDK.json\n",
      "chunk_443_Customize a model with Azure OpenAI Service and the Python SDK.json\n"
     ]
    },
    {
     "name": "stderr",
     "output_type": "stream",
     "text": [
      " 55%|█████▍    | 444/814 [01:06<01:01,  6.06it/s]"
     ]
    },
    {
     "name": "stdout",
     "output_type": "stream",
     "text": [
      "chunk_444_Customize a model with Azure OpenAI Service and the Python SDK.json\n",
      "chunk_445_Customize a model with Azure OpenAI Service and the Python SDK.json\n"
     ]
    },
    {
     "name": "stderr",
     "output_type": "stream",
     "text": [
      "\r 55%|█████▍    | 445/814 [01:06<00:54,  6.81it/s]"
     ]
    },
    {
     "name": "stdout",
     "output_type": "stream",
     "text": [
      "chunk_446_Customize a model with Azure OpenAI Service and the Python SDK.json\n"
     ]
    },
    {
     "name": "stderr",
     "output_type": "stream",
     "text": [
      "\r 55%|█████▍    | 446/814 [01:06<01:21,  4.52it/s]"
     ]
    },
    {
     "name": "stdout",
     "output_type": "stream",
     "text": [
      "chunk_447_Customize a model with Azure OpenAI Service and the Python SDK.json\n"
     ]
    },
    {
     "name": "stderr",
     "output_type": "stream",
     "text": [
      "\r 55%|█████▍    | 447/814 [01:07<01:21,  4.50it/s]"
     ]
    },
    {
     "name": "stdout",
     "output_type": "stream",
     "text": [
      "chunk_448_Customize a model with Azure OpenAI Service and the Python SDK.json\n"
     ]
    },
    {
     "name": "stderr",
     "output_type": "stream",
     "text": [
      " 55%|█████▌    | 449/814 [01:07<01:17,  4.71it/s]"
     ]
    },
    {
     "name": "stdout",
     "output_type": "stream",
     "text": [
      "chunk_449_Customize a model with Azure OpenAI Service and the Python SDK.json\n",
      "chunk_450_Customize a model with Azure OpenAI Service and the Python SDK.json\n"
     ]
    },
    {
     "name": "stderr",
     "output_type": "stream",
     "text": [
      " 55%|█████▌    | 451/814 [01:07<01:04,  5.63it/s]"
     ]
    },
    {
     "name": "stdout",
     "output_type": "stream",
     "text": [
      "chunk_451_Azure OpenAI Global Batch Limits.json\n",
      "chunk_452_Azure OpenAI Global Batch Limits.json\n"
     ]
    },
    {
     "name": "stderr",
     "output_type": "stream",
     "text": [
      " 56%|█████▌    | 453/814 [01:08<01:01,  5.84it/s]"
     ]
    },
    {
     "name": "stdout",
     "output_type": "stream",
     "text": [
      "chunk_453_Customize a model with Azure OpenAI Service.json\n",
      "chunk_454_Customize a model with Azure OpenAI Service.json\n"
     ]
    },
    {
     "name": "stderr",
     "output_type": "stream",
     "text": [
      " 56%|█████▌    | 455/814 [01:08<00:49,  7.29it/s]"
     ]
    },
    {
     "name": "stdout",
     "output_type": "stream",
     "text": [
      "chunk_455_How to configure Azure OpenAI Service with Microsoft Entra ID authentication.json\n",
      "chunk_456_How to configure Azure OpenAI Service with Microsoft Entra ID authentication.json\n"
     ]
    },
    {
     "name": "stderr",
     "output_type": "stream",
     "text": [
      "\r 56%|█████▌    | 456/814 [01:08<00:45,  7.87it/s]"
     ]
    },
    {
     "name": "stdout",
     "output_type": "stream",
     "text": [
      "chunk_457_How to configure Azure OpenAI Service with Microsoft Entra ID authentication.json\n",
      "chunk_458_How to configure Azure OpenAI Service with Microsoft Entra ID authentication.json\n"
     ]
    },
    {
     "name": "stderr",
     "output_type": "stream",
     "text": [
      " 56%|█████▋    | 459/814 [01:08<00:41,  8.50it/s]"
     ]
    },
    {
     "name": "stdout",
     "output_type": "stream",
     "text": [
      "chunk_459_How to configure Azure OpenAI Service with Microsoft Entra ID authentication.json\n",
      "chunk_460_How to configure Azure OpenAI Service with Microsoft Entra ID authentication.json\n"
     ]
    },
    {
     "name": "stderr",
     "output_type": "stream",
     "text": [
      " 57%|█████▋    | 462/814 [01:09<00:36,  9.64it/s]"
     ]
    },
    {
     "name": "stdout",
     "output_type": "stream",
     "text": [
      "chunk_461_How to configure Azure OpenAI Service with Microsoft Entra ID authentication.json\n",
      "chunk_462_Monitoring Azure OpenAI Service.json\n",
      "chunk_463_Monitoring Azure OpenAI Service.json\n"
     ]
    },
    {
     "name": "stderr",
     "output_type": "stream",
     "text": [
      "\r 57%|█████▋    | 463/814 [01:09<00:36,  9.71it/s]"
     ]
    },
    {
     "name": "stdout",
     "output_type": "stream",
     "text": [
      "chunk_464_Monitoring Azure OpenAI Service.json\n"
     ]
    },
    {
     "name": "stderr",
     "output_type": "stream",
     "text": [
      " 57%|█████▋    | 465/814 [01:09<00:46,  7.54it/s]"
     ]
    },
    {
     "name": "stdout",
     "output_type": "stream",
     "text": [
      "chunk_465_Monitoring Azure OpenAI Service.json\n",
      "chunk_466_Monitoring Azure OpenAI Service.json\n"
     ]
    },
    {
     "name": "stderr",
     "output_type": "stream",
     "text": [
      " 57%|█████▋    | 467/814 [01:09<00:51,  6.70it/s]"
     ]
    },
    {
     "name": "stdout",
     "output_type": "stream",
     "text": [
      "chunk_467_Monitoring Azure OpenAI Service.json\n",
      "chunk_468_Monitoring Azure OpenAI Service.json\n"
     ]
    },
    {
     "name": "stderr",
     "output_type": "stream",
     "text": [
      " 58%|█████▊    | 470/814 [01:10<00:41,  8.24it/s]"
     ]
    },
    {
     "name": "stdout",
     "output_type": "stream",
     "text": [
      "chunk_469_Monitoring Azure OpenAI Service.json\n",
      "chunk_470_Azure OpenAI Service models.json\n",
      "chunk_471_Azure OpenAI Service models.json\n"
     ]
    },
    {
     "name": "stderr",
     "output_type": "stream",
     "text": [
      "\r 58%|█████▊    | 471/814 [01:10<00:41,  8.19it/s]"
     ]
    },
    {
     "name": "stdout",
     "output_type": "stream",
     "text": [
      "chunk_472_Azure OpenAI Service models.json\n",
      "chunk_473_Azure OpenAI Service models.json\n"
     ]
    },
    {
     "name": "stderr",
     "output_type": "stream",
     "text": [
      "\r 58%|█████▊    | 473/814 [01:10<00:51,  6.60it/s]"
     ]
    },
    {
     "name": "stdout",
     "output_type": "stream",
     "text": [
      "chunk_474_Azure OpenAI Service models.json\n"
     ]
    },
    {
     "name": "stderr",
     "output_type": "stream",
     "text": [
      " 58%|█████▊    | 475/814 [01:11<00:52,  6.43it/s]"
     ]
    },
    {
     "name": "stdout",
     "output_type": "stream",
     "text": [
      "chunk_475_Azure OpenAI Service models.json\n",
      "chunk_476_Azure OpenAI Service models.json\n"
     ]
    },
    {
     "name": "stderr",
     "output_type": "stream",
     "text": [
      "\r 59%|█████▊    | 477/814 [01:11<00:43,  7.77it/s]"
     ]
    },
    {
     "name": "stdout",
     "output_type": "stream",
     "text": [
      "chunk_477_Azure OpenAI Service models.json\n",
      "chunk_478_Azure OpenAI Service models.json\n",
      "chunk_479_Azure OpenAI Service models.json\n"
     ]
    },
    {
     "name": "stderr",
     "output_type": "stream",
     "text": [
      " 59%|█████▉    | 481/814 [01:11<00:50,  6.58it/s]"
     ]
    },
    {
     "name": "stdout",
     "output_type": "stream",
     "text": [
      "chunk_480_Azure OpenAI Service models.json\n",
      "chunk_481_Azure OpenAI Service models.json\n",
      "chunk_482_Azure OpenAI Service deprecated models.json\n"
     ]
    },
    {
     "name": "stderr",
     "output_type": "stream",
     "text": [
      "\r 59%|█████▉    | 483/814 [01:12<00:42,  7.79it/s]"
     ]
    },
    {
     "name": "stdout",
     "output_type": "stream",
     "text": [
      "chunk_483_Azure OpenAI Service deprecated models.json\n",
      "chunk_484_Azure OpenAI Service deprecated models.json\n"
     ]
    },
    {
     "name": "stderr",
     "output_type": "stream",
     "text": [
      "\r 59%|█████▉    | 484/814 [01:12<00:44,  7.33it/s]"
     ]
    },
    {
     "name": "stdout",
     "output_type": "stream",
     "text": [
      "chunk_485_Azure OpenAI Service deprecated models.json\n"
     ]
    },
    {
     "name": "stderr",
     "output_type": "stream",
     "text": [
      " 60%|█████▉    | 487/814 [01:12<00:43,  7.52it/s]"
     ]
    },
    {
     "name": "stdout",
     "output_type": "stream",
     "text": [
      "chunk_486_Azure OpenAI Service model retirements.json\n",
      "chunk_487_Azure OpenAI Service model retirements.json\n",
      "chunk_488_Azure OpenAI Service model retirements.json\n"
     ]
    },
    {
     "name": "stderr",
     "output_type": "stream",
     "text": [
      "\r 60%|█████▉    | 488/814 [01:12<00:46,  6.98it/s]"
     ]
    },
    {
     "name": "stdout",
     "output_type": "stream",
     "text": [
      "chunk_489_Azure OpenAI Service model retirements.json\n",
      "chunk_490_Azure OpenAI Service model retirements.json\n"
     ]
    },
    {
     "name": "stderr",
     "output_type": "stream",
     "text": [
      "\r 60%|██████    | 490/814 [01:13<00:50,  6.38it/s]"
     ]
    },
    {
     "name": "stdout",
     "output_type": "stream",
     "text": [
      "chunk_491_Azure OpenAI Service model retirements.json\n"
     ]
    },
    {
     "name": "stderr",
     "output_type": "stream",
     "text": [
      " 60%|██████    | 492/814 [01:13<00:55,  5.78it/s]"
     ]
    },
    {
     "name": "stdout",
     "output_type": "stream",
     "text": [
      "chunk_492_Azure OpenAI Service model retirements.json\n",
      "chunk_493_How to migrate to OpenAI Python v1.x.json\n"
     ]
    },
    {
     "name": "stderr",
     "output_type": "stream",
     "text": [
      " 61%|██████    | 495/814 [01:13<00:41,  7.76it/s]"
     ]
    },
    {
     "name": "stdout",
     "output_type": "stream",
     "text": [
      "chunk_494_How to migrate to OpenAI Python v1.x.json\n",
      "chunk_495_How to migrate to OpenAI Python v1.x.json\n",
      "chunk_496_How to migrate to OpenAI Python v1.x.json\n"
     ]
    },
    {
     "name": "stderr",
     "output_type": "stream",
     "text": [
      " 61%|██████    | 497/814 [01:14<00:42,  7.42it/s]"
     ]
    },
    {
     "name": "stdout",
     "output_type": "stream",
     "text": [
      "chunk_497_How to migrate to OpenAI Python v1.x.json\n",
      "chunk_498_How to migrate to OpenAI Python v1.x.json\n"
     ]
    },
    {
     "name": "stderr",
     "output_type": "stream",
     "text": [
      " 61%|██████▏   | 500/814 [01:14<00:36,  8.72it/s]"
     ]
    },
    {
     "name": "stdout",
     "output_type": "stream",
     "text": [
      "chunk_499_How to migrate to OpenAI Python v1.x.json\n",
      "chunk_500_How to migrate to OpenAI Python v1.x.json\n",
      "chunk_501_How to migrate to OpenAI Python v1.x.json\n"
     ]
    },
    {
     "name": "stderr",
     "output_type": "stream",
     "text": [
      "\r 62%|██████▏   | 501/814 [01:14<00:42,  7.39it/s]"
     ]
    },
    {
     "name": "stdout",
     "output_type": "stream",
     "text": [
      "chunk_502_How to migrate to OpenAI Python v1.x.json\n"
     ]
    },
    {
     "name": "stderr",
     "output_type": "stream",
     "text": [
      "\r 62%|██████▏   | 502/814 [01:15<00:52,  5.92it/s]"
     ]
    },
    {
     "name": "stdout",
     "output_type": "stream",
     "text": [
      "chunk_503_How to migrate to OpenAI Python v1.x.json\n"
     ]
    },
    {
     "name": "stderr",
     "output_type": "stream",
     "text": [
      " 62%|██████▏   | 504/814 [01:15<00:53,  5.82it/s]"
     ]
    },
    {
     "name": "stdout",
     "output_type": "stream",
     "text": [
      "chunk_504_Plan to manage costs for Azure OpenAI Service.json\n",
      "chunk_505_Plan to manage costs for Azure OpenAI Service.json\n",
      "chunk_506_Plan to manage costs for Azure OpenAI Service.json\n"
     ]
    },
    {
     "name": "stderr",
     "output_type": "stream",
     "text": [
      "\r 62%|██████▏   | 506/814 [01:15<00:52,  5.87it/s]"
     ]
    },
    {
     "name": "stdout",
     "output_type": "stream",
     "text": [
      "chunk_507_Plan to manage costs for Azure OpenAI Service.json\n"
     ]
    },
    {
     "name": "stderr",
     "output_type": "stream",
     "text": [
      " 62%|██████▏   | 508/814 [01:16<00:52,  5.83it/s]"
     ]
    },
    {
     "name": "stdout",
     "output_type": "stream",
     "text": [
      "chunk_508_Plan to manage costs for Azure OpenAI Service.json\n",
      "chunk_509_Plan to manage costs for Azure OpenAI Service.json\n"
     ]
    },
    {
     "name": "stderr",
     "output_type": "stream",
     "text": [
      " 63%|██████▎   | 511/814 [01:16<00:39,  7.59it/s]"
     ]
    },
    {
     "name": "stdout",
     "output_type": "stream",
     "text": [
      "chunk_510_Plan to manage costs for Azure OpenAI Service.json\n",
      "chunk_511_How to use the GPT-4 Turbo with Vision model.json\n",
      "chunk_512_How to use the GPT-4 Turbo with Vision model.json\n"
     ]
    },
    {
     "name": "stderr",
     "output_type": "stream",
     "text": [
      " 63%|██████▎   | 513/814 [01:16<00:56,  5.36it/s]"
     ]
    },
    {
     "name": "stdout",
     "output_type": "stream",
     "text": [
      "chunk_513_How to use the GPT-4 Turbo with Vision model.json\n",
      "chunk_514_How to use the GPT-4 Turbo with Vision model.json\n"
     ]
    },
    {
     "name": "stderr",
     "output_type": "stream",
     "text": [
      "\r 63%|██████▎   | 514/814 [01:17<01:17,  3.88it/s]"
     ]
    },
    {
     "name": "stdout",
     "output_type": "stream",
     "text": [
      "chunk_515_How to use the GPT-4 Turbo with Vision model.json\n"
     ]
    },
    {
     "name": "stderr",
     "output_type": "stream",
     "text": [
      " 63%|██████▎   | 516/814 [01:18<01:24,  3.52it/s]"
     ]
    },
    {
     "name": "stdout",
     "output_type": "stream",
     "text": [
      "chunk_516_How to use the GPT-4 Turbo with Vision model.json\n",
      "chunk_517_How to use JSON mode with Azure OpenAI Service.json\n"
     ]
    },
    {
     "name": "stderr",
     "output_type": "stream",
     "text": [
      "\r 64%|██████▎   | 517/814 [01:18<01:09,  4.27it/s]"
     ]
    },
    {
     "name": "stdout",
     "output_type": "stream",
     "text": [
      "chunk_518_How to use JSON mode with Azure OpenAI Service.json\n"
     ]
    },
    {
     "name": "stderr",
     "output_type": "stream",
     "text": [
      " 64%|██████▍   | 519/814 [01:18<01:02,  4.76it/s]"
     ]
    },
    {
     "name": "stdout",
     "output_type": "stream",
     "text": [
      "chunk_519_How to use JSON mode with Azure OpenAI Service.json\n",
      "chunk_520_Azure OpenAI Service model versions.json\n"
     ]
    },
    {
     "name": "stderr",
     "output_type": "stream",
     "text": [
      " 64%|██████▍   | 521/814 [01:18<00:51,  5.68it/s]"
     ]
    },
    {
     "name": "stdout",
     "output_type": "stream",
     "text": [
      "chunk_521_Azure OpenAI Service model versions.json\n",
      "chunk_522_Azure OpenAI Service model versions.json\n"
     ]
    },
    {
     "name": "stderr",
     "output_type": "stream",
     "text": [
      " 64%|██████▍   | 523/814 [01:19<00:43,  6.72it/s]"
     ]
    },
    {
     "name": "stdout",
     "output_type": "stream",
     "text": [
      "chunk_523_Azure OpenAI Service model versions.json\n",
      "chunk_524_Azure OpenAI Service performance & latency.json\n"
     ]
    },
    {
     "name": "stderr",
     "output_type": "stream",
     "text": [
      "\r 64%|██████▍   | 524/814 [01:19<00:49,  5.87it/s]"
     ]
    },
    {
     "name": "stdout",
     "output_type": "stream",
     "text": [
      "chunk_525_Azure OpenAI Service performance & latency.json\n"
     ]
    },
    {
     "name": "stderr",
     "output_type": "stream",
     "text": [
      " 65%|██████▍   | 526/814 [01:19<00:52,  5.51it/s]"
     ]
    },
    {
     "name": "stdout",
     "output_type": "stream",
     "text": [
      "chunk_526_Azure OpenAI Service performance & latency.json\n",
      "chunk_527_Azure OpenAI Service performance & latency.json\n"
     ]
    },
    {
     "name": "stderr",
     "output_type": "stream",
     "text": [
      " 65%|██████▍   | 528/814 [01:20<00:49,  5.83it/s]"
     ]
    },
    {
     "name": "stdout",
     "output_type": "stream",
     "text": [
      "chunk_528_Azure OpenAI Service performance & latency.json\n",
      "chunk_529_Best practices for using Azure OpenAI On Your Data.json\n"
     ]
    },
    {
     "name": "stderr",
     "output_type": "stream",
     "text": [
      "\r 65%|██████▍   | 529/814 [01:20<00:51,  5.51it/s]"
     ]
    },
    {
     "name": "stdout",
     "output_type": "stream",
     "text": [
      "chunk_530_Best practices for using Azure OpenAI On Your Data.json\n"
     ]
    },
    {
     "name": "stderr",
     "output_type": "stream",
     "text": [
      "\r 65%|██████▌   | 530/814 [01:20<00:55,  5.13it/s]"
     ]
    },
    {
     "name": "stdout",
     "output_type": "stream",
     "text": [
      "chunk_531_Best practices for using Azure OpenAI On Your Data.json\n"
     ]
    },
    {
     "name": "stderr",
     "output_type": "stream",
     "text": [
      " 65%|██████▌   | 532/814 [01:20<00:49,  5.67it/s]"
     ]
    },
    {
     "name": "stdout",
     "output_type": "stream",
     "text": [
      "chunk_532_Quickstart Use Azure OpenAI Service with the Java SDK.json\n",
      "chunk_533_Quickstart Use Azure OpenAI Service with the Java SDK.json\n"
     ]
    },
    {
     "name": "stderr",
     "output_type": "stream",
     "text": [
      " 66%|██████▌   | 534/814 [01:21<00:40,  6.98it/s]"
     ]
    },
    {
     "name": "stdout",
     "output_type": "stream",
     "text": [
      "chunk_534_Quickstart Use Azure OpenAI Service with the Java SDK.json\n",
      "chunk_535_Quickstart Use Azure OpenAI Service with the Java SDK.json\n"
     ]
    },
    {
     "name": "stderr",
     "output_type": "stream",
     "text": [
      " 66%|██████▌   | 536/814 [01:21<00:43,  6.46it/s]"
     ]
    },
    {
     "name": "stdout",
     "output_type": "stream",
     "text": [
      "chunk_536_Quickstart Use Azure OpenAI Service with the Java SDK.json\n",
      "chunk_537_Quickstart Use Azure OpenAI Service with the Java SDK.json\n"
     ]
    },
    {
     "name": "stderr",
     "output_type": "stream",
     "text": [
      "\r 66%|██████▌   | 537/814 [01:21<00:40,  6.91it/s]"
     ]
    },
    {
     "name": "stdout",
     "output_type": "stream",
     "text": [
      "chunk_538_Quickstart Use Azure OpenAI Service with the Java SDK.json\n",
      "chunk_539_Quickstart Use Azure OpenAI Service with the Java SDK.json\n"
     ]
    },
    {
     "name": "stderr",
     "output_type": "stream",
     "text": [
      " 66%|██████▋   | 540/814 [01:22<00:39,  6.92it/s]"
     ]
    },
    {
     "name": "stdout",
     "output_type": "stream",
     "text": [
      "chunk_540_How to work with prompt engineering and the Completion API.json\n",
      "chunk_541_How to work with prompt engineering and the Completion API.json"
     ]
    },
    {
     "name": "stderr",
     "output_type": "stream",
     "text": [
      "\r 66%|██████▋   | 541/814 [01:22<00:37,  7.37it/s]"
     ]
    },
    {
     "name": "stdout",
     "output_type": "stream",
     "text": [
      "\n",
      "chunk_542_How to work with prompt engineering and the Completion API.json\n"
     ]
    },
    {
     "name": "stderr",
     "output_type": "stream",
     "text": [
      " 67%|██████▋   | 543/814 [01:22<00:40,  6.76it/s]"
     ]
    },
    {
     "name": "stdout",
     "output_type": "stream",
     "text": [
      "chunk_543_How to work with prompt engineering and the Completion API.json\n",
      "chunk_544_How to work with prompt engineering and the Completion API.json\n"
     ]
    },
    {
     "name": "stderr",
     "output_type": "stream",
     "text": [
      "\r 67%|██████▋   | 544/814 [01:22<00:40,  6.67it/s]"
     ]
    },
    {
     "name": "stdout",
     "output_type": "stream",
     "text": [
      "chunk_545_How to work with prompt engineering and the Completion API.json\n"
     ]
    },
    {
     "name": "stderr",
     "output_type": "stream",
     "text": [
      " 67%|██████▋   | 546/814 [01:22<00:42,  6.30it/s]"
     ]
    },
    {
     "name": "stdout",
     "output_type": "stream",
     "text": [
      "chunk_546_How to work with prompt engineering and the Completion API.json\n",
      "chunk_547_How to work with prompt engineering and the Completion API.json\n"
     ]
    },
    {
     "name": "stderr",
     "output_type": "stream",
     "text": [
      " 67%|██████▋   | 548/814 [01:23<00:42,  6.22it/s]"
     ]
    },
    {
     "name": "stdout",
     "output_type": "stream",
     "text": [
      "chunk_548_How to work with prompt engineering and the Completion API.json\n",
      "chunk_549_How to work with prompt engineering and the Completion API.json\n"
     ]
    },
    {
     "name": "stderr",
     "output_type": "stream",
     "text": [
      "\r 67%|██████▋   | 549/814 [01:23<00:38,  6.83it/s]"
     ]
    },
    {
     "name": "stdout",
     "output_type": "stream",
     "text": [
      "chunk_550_How to work with prompt engineering and the Completion API.json\n"
     ]
    },
    {
     "name": "stderr",
     "output_type": "stream",
     "text": [
      "\r 68%|██████▊   | 550/814 [01:23<00:52,  4.99it/s]"
     ]
    },
    {
     "name": "stdout",
     "output_type": "stream",
     "text": [
      "chunk_551_How to work with prompt engineering and the Completion API.json\n"
     ]
    },
    {
     "name": "stderr",
     "output_type": "stream",
     "text": [
      " 68%|██████▊   | 553/814 [01:24<00:40,  6.52it/s]"
     ]
    },
    {
     "name": "stdout",
     "output_type": "stream",
     "text": [
      "chunk_552_How to work with prompt engineering and the Completion API.json\n",
      "chunk_553_Quickstart Use Azure OpenAI Service with the JavaScript SDK and the completions API.json\n",
      "chunk_554_Quickstart Use Azure OpenAI Service with the JavaScript SDK and the completions API.json\n"
     ]
    },
    {
     "name": "stderr",
     "output_type": "stream",
     "text": [
      " 68%|██████▊   | 556/814 [01:24<00:31,  8.15it/s]"
     ]
    },
    {
     "name": "stdout",
     "output_type": "stream",
     "text": [
      "chunk_555_Quickstart Use Azure OpenAI Service with the JavaScript SDK and the completions API.json\n",
      "chunk_556_Quickstart Use Azure OpenAI Service with the JavaScript SDK and the completions API.json\n",
      "chunk_557_Quickstart Use Azure OpenAI Service with the JavaScript SDK and the completions API.json\n",
      "chunk_558_Quickstart Use Azure OpenAI Service with the JavaScript SDK and the completions API.json\n"
     ]
    },
    {
     "name": "stderr",
     "output_type": "stream",
     "text": [
      " 69%|██████▉   | 560/814 [01:24<00:26,  9.46it/s]"
     ]
    },
    {
     "name": "stdout",
     "output_type": "stream",
     "text": [
      "chunk_559_Quickstart Use Azure OpenAI Service with the JavaScript SDK and the completions API.json\n",
      "chunk_560_Quickstart Use Azure OpenAI Service with the JavaScript SDK and the completions API.json\n",
      "chunk_561_Use Azure OpenAI Service with large datasets.json\n"
     ]
    },
    {
     "name": "stderr",
     "output_type": "stream",
     "text": [
      "\r 69%|██████▉   | 561/814 [01:24<00:27,  9.22it/s]"
     ]
    },
    {
     "name": "stdout",
     "output_type": "stream",
     "text": [
      "chunk_562_Use Azure OpenAI Service with large datasets.json\n"
     ]
    },
    {
     "name": "stderr",
     "output_type": "stream",
     "text": [
      " 69%|██████▉   | 564/814 [01:25<00:29,  8.37it/s]"
     ]
    },
    {
     "name": "stdout",
     "output_type": "stream",
     "text": [
      "chunk_563_Use Azure OpenAI Service with large datasets.json\n",
      "chunk_564_Use Azure OpenAI Service with large datasets.json\n",
      "chunk_565_Use Azure OpenAI Service with large datasets.json\n",
      "chunk_566_Use Azure OpenAI Service with large datasets.json\n"
     ]
    },
    {
     "name": "stderr",
     "output_type": "stream",
     "text": [
      " 70%|██████▉   | 568/814 [01:25<00:32,  7.47it/s]"
     ]
    },
    {
     "name": "stdout",
     "output_type": "stream",
     "text": [
      "chunk_567_Use Azure OpenAI Service with large datasets.json\n",
      "chunk_568_What is Azure OpenAI Service.json\n",
      "chunk_569_What is Azure OpenAI Service.json\n"
     ]
    },
    {
     "name": "stderr",
     "output_type": "stream",
     "text": [
      "\r 70%|███████   | 570/814 [01:26<00:28,  8.51it/s]"
     ]
    },
    {
     "name": "stdout",
     "output_type": "stream",
     "text": [
      "chunk_570_What is Azure OpenAI Service.json\n",
      "chunk_571_What is Azure OpenAI Service.json\n"
     ]
    },
    {
     "name": "stderr",
     "output_type": "stream",
     "text": [
      " 70%|███████   | 573/814 [01:26<00:29,  8.11it/s]"
     ]
    },
    {
     "name": "stdout",
     "output_type": "stream",
     "text": [
      "chunk_572_What is Azure OpenAI Service.json\n",
      "chunk_573_Quickstart Use the OpenAI Service via PowerShell.json\n",
      "chunk_574_Quickstart Use the OpenAI Service via PowerShell.json\n"
     ]
    },
    {
     "name": "stderr",
     "output_type": "stream",
     "text": [
      " 71%|███████   | 575/814 [01:26<00:33,  7.21it/s]"
     ]
    },
    {
     "name": "stdout",
     "output_type": "stream",
     "text": [
      "chunk_575_Quickstart Use the OpenAI Service via PowerShell.json\n",
      "chunk_576_Quickstart Use the OpenAI Service via PowerShell.json\n"
     ]
    },
    {
     "name": "stderr",
     "output_type": "stream",
     "text": [
      " 71%|███████   | 578/814 [01:27<00:26,  9.03it/s]"
     ]
    },
    {
     "name": "stdout",
     "output_type": "stream",
     "text": [
      "chunk_577_Quickstart Use the OpenAI Service via PowerShell.json\n",
      "chunk_578_Quickstart Use the OpenAI Service via PowerShell.json\n",
      "chunk_579_Quickstart Use GPT-4 Turbo with Vision on your images and videos with the Azure OpenAI Service.json\n"
     ]
    },
    {
     "name": "stderr",
     "output_type": "stream",
     "text": [
      "\r 71%|███████▏  | 580/814 [01:27<00:23,  9.94it/s]"
     ]
    },
    {
     "name": "stdout",
     "output_type": "stream",
     "text": [
      "chunk_580_Quickstart Use GPT-4 Turbo with Vision on your images and videos with the Azure OpenAI Service.json\n",
      "chunk_581_Quickstart Use GPT-4 Turbo with Vision on your images and videos with the Azure OpenAI Service.json\n",
      "chunk_582_Quickstart Use GPT-4 Turbo with Vision on your images and videos with the Azure OpenAI Service.json\n"
     ]
    },
    {
     "name": "stderr",
     "output_type": "stream",
     "text": [
      "\r 71%|███████▏  | 582/814 [01:27<00:32,  7.20it/s]"
     ]
    },
    {
     "name": "stdout",
     "output_type": "stream",
     "text": [
      "chunk_583_Quickstart Use GPT-4 Turbo with Vision on your images and videos with the Azure OpenAI Service.json\n",
      "chunk_584_Azure OpenAI Service  Introduction to Prompt engineering.json\n"
     ]
    },
    {
     "name": "stderr",
     "output_type": "stream",
     "text": [
      "\r 72%|███████▏  | 584/814 [01:28<00:43,  5.25it/s]"
     ]
    },
    {
     "name": "stdout",
     "output_type": "stream",
     "text": [
      "chunk_585_Azure OpenAI Service  Introduction to Prompt engineering.json\n",
      "chunk_586_Azure OpenAI Service  Introduction to Prompt engineering.json\n"
     ]
    },
    {
     "name": "stderr",
     "output_type": "stream",
     "text": [
      "\r 72%|███████▏  | 586/814 [01:28<00:37,  6.09it/s]"
     ]
    },
    {
     "name": "stdout",
     "output_type": "stream",
     "text": [
      "chunk_587_Azure OpenAI Service  Introduction to Prompt engineering.json\n",
      "chunk_588_How to work with prompt engineering and the Chat Completion API.json\n"
     ]
    },
    {
     "name": "stderr",
     "output_type": "stream",
     "text": [
      " 72%|███████▏  | 589/814 [01:28<00:33,  6.81it/s]"
     ]
    },
    {
     "name": "stdout",
     "output_type": "stream",
     "text": [
      "chunk_589_How to work with prompt engineering and the Chat Completion API.json\n",
      "chunk_590_How to work with prompt engineering and the Chat Completion API.json\n"
     ]
    },
    {
     "name": "stderr",
     "output_type": "stream",
     "text": [
      " 73%|███████▎  | 591/814 [01:29<00:32,  6.84it/s]"
     ]
    },
    {
     "name": "stdout",
     "output_type": "stream",
     "text": [
      "chunk_591_How to work with prompt engineering and the Chat Completion API.json\n",
      "chunk_592_How to work with prompt engineering and the Chat Completion API.json\n"
     ]
    },
    {
     "name": "stderr",
     "output_type": "stream",
     "text": [
      "\r 73%|███████▎  | 593/814 [01:29<00:26,  8.19it/s]"
     ]
    },
    {
     "name": "stdout",
     "output_type": "stream",
     "text": [
      "chunk_593_How to work with prompt engineering and the Chat Completion API.json\n",
      "chunk_594_How to work with prompt engineering and the Chat Completion API.json\n"
     ]
    },
    {
     "name": "stderr",
     "output_type": "stream",
     "text": [
      " 73%|███████▎  | 595/814 [01:29<00:26,  8.12it/s]"
     ]
    },
    {
     "name": "stdout",
     "output_type": "stream",
     "text": [
      "chunk_595_How to work with prompt engineering and the Chat Completion API.json\n",
      "chunk_596_How to work with prompt engineering and the Chat Completion API.json\n"
     ]
    },
    {
     "name": "stderr",
     "output_type": "stream",
     "text": [
      " 73%|███████▎  | 597/814 [01:29<00:30,  7.22it/s]"
     ]
    },
    {
     "name": "stdout",
     "output_type": "stream",
     "text": [
      "chunk_597_How to work with prompt engineering and the Chat Completion API.json\n",
      "chunk_598_How to work with prompt engineering and the Chat Completion API.json\n"
     ]
    },
    {
     "name": "stderr",
     "output_type": "stream",
     "text": [
      "\r 73%|███████▎  | 598/814 [01:30<00:42,  5.12it/s]"
     ]
    },
    {
     "name": "stdout",
     "output_type": "stream",
     "text": [
      "chunk_599_How to work with prompt engineering and the Chat Completion API.json\n",
      "chunk_600_How to work with prompt engineering and the Chat Completion API.json\n"
     ]
    },
    {
     "name": "stderr",
     "output_type": "stream",
     "text": [
      "\r 74%|███████▎  | 600/814 [01:30<00:34,  6.20it/s]"
     ]
    },
    {
     "name": "stdout",
     "output_type": "stream",
     "text": [
      "chunk_601_How to work with prompt engineering and the Chat Completion API.json\n",
      "chunk_602_How to migrate to OpenAI JavaScript v4.x.json\n"
     ]
    },
    {
     "name": "stderr",
     "output_type": "stream",
     "text": [
      " 74%|███████▍  | 603/814 [01:30<00:29,  7.10it/s]"
     ]
    },
    {
     "name": "stdout",
     "output_type": "stream",
     "text": [
      "chunk_603_How to migrate to OpenAI JavaScript v4.x.json\n",
      "chunk_604_How to migrate to OpenAI JavaScript v4.x.json\n",
      "chunk_605_How to migrate to OpenAI JavaScript v4.x.json\n"
     ]
    },
    {
     "name": "stderr",
     "output_type": "stream",
     "text": [
      "\r 74%|███████▍  | 605/814 [01:31<00:43,  4.81it/s]"
     ]
    },
    {
     "name": "stdout",
     "output_type": "stream",
     "text": [
      "chunk_606_How to migrate to OpenAI JavaScript v4.x.json\n"
     ]
    },
    {
     "name": "stderr",
     "output_type": "stream",
     "text": [
      " 75%|███████▍  | 608/814 [01:32<00:36,  5.57it/s]"
     ]
    },
    {
     "name": "stdout",
     "output_type": "stream",
     "text": [
      "chunk_607_How to migrate to OpenAI JavaScript v4.x.json\n",
      "chunk_608_How to migrate to OpenAI JavaScript v4.x.json\n",
      "chunk_609_GPT-4 Turbo with Vision concepts.json\n"
     ]
    },
    {
     "name": "stderr",
     "output_type": "stream",
     "text": [
      "\r 75%|███████▍  | 610/814 [01:32<00:31,  6.45it/s]"
     ]
    },
    {
     "name": "stdout",
     "output_type": "stream",
     "text": [
      "chunk_610_GPT-4 Turbo with Vision concepts.json\n",
      "chunk_611_GPT-4 Turbo with Vision concepts.json\n"
     ]
    },
    {
     "name": "stderr",
     "output_type": "stream",
     "text": [
      " 75%|███████▌  | 612/814 [01:32<00:32,  6.29it/s]"
     ]
    },
    {
     "name": "stdout",
     "output_type": "stream",
     "text": [
      "chunk_612_GPT-4 Turbo with Vision concepts.json\n",
      "chunk_613_GPT-4 Turbo with Vision concepts.json\n"
     ]
    },
    {
     "name": "stderr",
     "output_type": "stream",
     "text": [
      "\r 75%|███████▌  | 614/814 [01:32<00:27,  7.32it/s]"
     ]
    },
    {
     "name": "stdout",
     "output_type": "stream",
     "text": [
      "chunk_614_Role-based access control for Azure OpenAI.json\n",
      "chunk_615_Role-based access control for Azure OpenAI.json\n"
     ]
    },
    {
     "name": "stderr",
     "output_type": "stream",
     "text": [
      " 76%|███████▌  | 616/814 [01:33<00:32,  6.13it/s]"
     ]
    },
    {
     "name": "stdout",
     "output_type": "stream",
     "text": [
      "chunk_616_Role-based access control for Azure OpenAI.json\n",
      "chunk_617_Role-based access control for Azure OpenAI.json\n"
     ]
    },
    {
     "name": "stderr",
     "output_type": "stream",
     "text": [
      " 76%|███████▌  | 619/814 [01:33<00:25,  7.53it/s]"
     ]
    },
    {
     "name": "stdout",
     "output_type": "stream",
     "text": [
      "chunk_618_Role-based access control for Azure OpenAI.json\n",
      "chunk_619_Azure OpenAI Service REST API reference.json\n",
      "chunk_620_Azure OpenAI Service REST API reference.json\n"
     ]
    },
    {
     "name": "stderr",
     "output_type": "stream",
     "text": [
      " 76%|███████▋  | 622/814 [01:33<00:22,  8.59it/s]"
     ]
    },
    {
     "name": "stdout",
     "output_type": "stream",
     "text": [
      "chunk_621_Quickstart - Get started using Provisioned Deployments with Azure OpenAI Service.json\n",
      "chunk_622_Quickstart - Get started using Provisioned Deployments with Azure OpenAI Service.json\n",
      "chunk_623_Quickstart - Get started using Provisioned Deployments with Azure OpenAI Service.json\n",
      "chunk_624_Quickstart - Get started using Provisioned Deployments with Azure OpenAI Service.json\n"
     ]
    },
    {
     "name": "stderr",
     "output_type": "stream",
     "text": [
      " 77%|███████▋  | 625/814 [01:34<00:26,  7.26it/s]"
     ]
    },
    {
     "name": "stdout",
     "output_type": "stream",
     "text": [
      "chunk_625_Quickstart - Get started using Provisioned Deployments with Azure OpenAI Service.json\n",
      "chunk_626_Quickstart - Get started using Provisioned Deployments with Azure OpenAI Service.json\n"
     ]
    },
    {
     "name": "stderr",
     "output_type": "stream",
     "text": [
      " 77%|███████▋  | 627/814 [01:34<00:25,  7.43it/s]"
     ]
    },
    {
     "name": "stdout",
     "output_type": "stream",
     "text": [
      "chunk_627_Quickstart - Get started using Provisioned Deployments with Azure OpenAI Service.json\n",
      "chunk_628_Quickstart - Get started using Provisioned Deployments with Azure OpenAI Service.json\n"
     ]
    },
    {
     "name": "stderr",
     "output_type": "stream",
     "text": [
      "\r 77%|███████▋  | 628/814 [01:34<00:26,  7.14it/s]"
     ]
    },
    {
     "name": "stdout",
     "output_type": "stream",
     "text": [
      "chunk_629_Quickstart - Get started using Provisioned Deployments with Azure OpenAI Service.json\n"
     ]
    },
    {
     "name": "stderr",
     "output_type": "stream",
     "text": [
      " 77%|███████▋  | 630/814 [01:35<00:28,  6.40it/s]"
     ]
    },
    {
     "name": "stdout",
     "output_type": "stream",
     "text": [
      "chunk_630_Quickstart - Get started using Provisioned Deployments with Azure OpenAI Service.json\n",
      "chunk_631_Quickstart - Get started using Provisioned Deployments with Azure OpenAI Service.json\n"
     ]
    },
    {
     "name": "stderr",
     "output_type": "stream",
     "text": [
      " 78%|███████▊  | 632/814 [01:35<00:24,  7.36it/s]"
     ]
    },
    {
     "name": "stdout",
     "output_type": "stream",
     "text": [
      "chunk_632_How to generate reproducible output with Azure OpenAI Service.json\n",
      "chunk_633_How to generate reproducible output with Azure OpenAI Service.json\n"
     ]
    },
    {
     "name": "stderr",
     "output_type": "stream",
     "text": [
      "\r 78%|███████▊  | 633/814 [01:35<00:40,  4.52it/s]"
     ]
    },
    {
     "name": "stdout",
     "output_type": "stream",
     "text": [
      "chunk_634_How to generate reproducible output with Azure OpenAI Service.json\n"
     ]
    },
    {
     "name": "stderr",
     "output_type": "stream",
     "text": [
      "\r 78%|███████▊  | 634/814 [01:36<00:41,  4.39it/s]"
     ]
    },
    {
     "name": "stdout",
     "output_type": "stream",
     "text": [
      "chunk_635_How to generate reproducible output with Azure OpenAI Service.json\n",
      "chunk_636_Azure OpenAI Service quotas and limits.json\n"
     ]
    },
    {
     "name": "stderr",
     "output_type": "stream",
     "text": [
      " 78%|███████▊  | 637/814 [01:36<00:30,  5.73it/s]"
     ]
    },
    {
     "name": "stdout",
     "output_type": "stream",
     "text": [
      "chunk_637_Azure OpenAI Service quotas and limits.json\n",
      "chunk_638_Azure OpenAI Service quotas and limits.json\n"
     ]
    },
    {
     "name": "stderr",
     "output_type": "stream",
     "text": [
      " 79%|███████▊  | 639/814 [01:36<00:29,  5.84it/s]"
     ]
    },
    {
     "name": "stdout",
     "output_type": "stream",
     "text": [
      "chunk_639_Azure OpenAI Service quotas and limits.json\n",
      "chunk_640_Azure OpenAI Service quotas and limits.json\n"
     ]
    },
    {
     "name": "stderr",
     "output_type": "stream",
     "text": [
      " 79%|███████▊  | 641/814 [01:37<00:24,  6.93it/s]"
     ]
    },
    {
     "name": "stdout",
     "output_type": "stream",
     "text": [
      "chunk_641_Azure OpenAI prompt transformation concepts.json\n",
      "chunk_642_Azure OpenAI prompt transformation concepts.json\n"
     ]
    },
    {
     "name": "stderr",
     "output_type": "stream",
     "text": [
      "\r 79%|███████▉  | 642/814 [01:37<00:23,  7.41it/s]"
     ]
    },
    {
     "name": "stdout",
     "output_type": "stream",
     "text": [
      "chunk_643_Azure OpenAI prompt transformation concepts.json\n",
      "chunk_644_Azure OpenAI prompt transformation concepts.json\n"
     ]
    },
    {
     "name": "stderr",
     "output_type": "stream",
     "text": [
      "\r 79%|███████▉  | 644/814 [01:37<00:22,  7.57it/s]"
     ]
    },
    {
     "name": "stdout",
     "output_type": "stream",
     "text": [
      "chunk_645_Azure OpenAI prompt transformation concepts.json\n",
      "chunk_646_Azure OpenAI Service REST API preview reference.json\n"
     ]
    },
    {
     "name": "stderr",
     "output_type": "stream",
     "text": [
      " 80%|███████▉  | 648/814 [01:37<00:19,  8.59it/s]"
     ]
    },
    {
     "name": "stdout",
     "output_type": "stream",
     "text": [
      "chunk_647_Azure OpenAI Service REST API preview reference.json\n",
      "chunk_648_How to use Risks & Safety monitoring in Azure OpenAI Studio.json\n",
      "chunk_649_How to use Risks & Safety monitoring in Azure OpenAI Studio.json\n"
     ]
    },
    {
     "name": "stderr",
     "output_type": "stream",
     "text": [
      "\r 80%|███████▉  | 649/814 [01:38<00:20,  8.14it/s]"
     ]
    },
    {
     "name": "stdout",
     "output_type": "stream",
     "text": [
      "chunk_650_How to use Risks & Safety monitoring in Azure OpenAI Studio.json\n"
     ]
    },
    {
     "name": "stderr",
     "output_type": "stream",
     "text": [
      "\r 80%|███████▉  | 650/814 [01:38<00:25,  6.45it/s]"
     ]
    },
    {
     "name": "stdout",
     "output_type": "stream",
     "text": [
      "chunk_651_How to use Risks & Safety monitoring in Azure OpenAI Studio.json\n",
      "chunk_652_Azure OpenAI Service provisioned throughput.json\n"
     ]
    },
    {
     "name": "stderr",
     "output_type": "stream",
     "text": [
      " 80%|████████  | 653/814 [01:38<00:21,  7.57it/s]"
     ]
    },
    {
     "name": "stdout",
     "output_type": "stream",
     "text": [
      "chunk_653_Azure OpenAI Service provisioned throughput.json\n",
      "chunk_654_Azure OpenAI Service provisioned throughput.json\n"
     ]
    },
    {
     "name": "stderr",
     "output_type": "stream",
     "text": [
      " 80%|████████  | 655/814 [01:38<00:23,  6.90it/s]"
     ]
    },
    {
     "name": "stdout",
     "output_type": "stream",
     "text": [
      "chunk_655_Azure OpenAI Service provisioned throughput.json\n",
      "chunk_656_Azure OpenAI Service provisioned throughput.json\n"
     ]
    },
    {
     "name": "stderr",
     "output_type": "stream",
     "text": [
      "\r 81%|████████  | 656/814 [01:39<00:35,  4.51it/s]"
     ]
    },
    {
     "name": "stdout",
     "output_type": "stream",
     "text": [
      "chunk_657_Azure OpenAI Service provisioned throughput.json\n",
      "chunk_658_Azure OpenAI Provisioned August 2024 Update.json\n"
     ]
    },
    {
     "name": "stderr",
     "output_type": "stream",
     "text": [
      "\r 81%|████████  | 658/814 [01:39<00:26,  5.84it/s]"
     ]
    },
    {
     "name": "stdout",
     "output_type": "stream",
     "text": [
      "chunk_659_Azure OpenAI Provisioned August 2024 Update.json\n",
      "chunk_660_Azure OpenAI Provisioned August 2024 Update.json\n"
     ]
    },
    {
     "name": "stderr",
     "output_type": "stream",
     "text": [
      " 81%|████████  | 661/814 [01:39<00:20,  7.38it/s]"
     ]
    },
    {
     "name": "stdout",
     "output_type": "stream",
     "text": [
      "chunk_661_Azure OpenAI Provisioned August 2024 Update.json\n",
      "chunk_662_Azure OpenAI Provisioned August 2024 Update.json\n"
     ]
    },
    {
     "name": "stderr",
     "output_type": "stream",
     "text": [
      " 81%|████████▏ | 663/814 [01:40<00:21,  7.03it/s]"
     ]
    },
    {
     "name": "stdout",
     "output_type": "stream",
     "text": [
      "chunk_663_Azure OpenAI Provisioned August 2024 Update.json\n",
      "chunk_664_Azure OpenAI Provisioned August 2024 Update.json\n"
     ]
    },
    {
     "name": "stderr",
     "output_type": "stream",
     "text": [
      "\r 82%|████████▏ | 664/814 [01:40<00:23,  6.29it/s]"
     ]
    },
    {
     "name": "stdout",
     "output_type": "stream",
     "text": [
      "chunk_665_Azure OpenAI Service Provisioned Throughput Units (PTU) onboarding.json\n",
      "chunk_666_Azure OpenAI Service Provisioned Throughput Units (PTU) onboarding.json\n"
     ]
    },
    {
     "name": "stderr",
     "output_type": "stream",
     "text": [
      "\r 82%|████████▏ | 666/814 [01:40<00:22,  6.56it/s]"
     ]
    },
    {
     "name": "stdout",
     "output_type": "stream",
     "text": [
      "chunk_667_Azure OpenAI Service Provisioned Throughput Units (PTU) onboarding.json\n",
      "chunk_668_Azure OpenAI Service Provisioned Throughput Units (PTU) onboarding.json\n"
     ]
    },
    {
     "name": "stderr",
     "output_type": "stream",
     "text": [
      " 82%|████████▏ | 669/814 [01:41<00:20,  7.11it/s]"
     ]
    },
    {
     "name": "stdout",
     "output_type": "stream",
     "text": [
      "chunk_669_Azure OpenAI Service Provisioned Throughput Units (PTU) onboarding.json\n",
      "chunk_670_Azure OpenAI Service Provisioned Throughput Units (PTU) onboarding.json\n"
     ]
    },
    {
     "name": "stderr",
     "output_type": "stream",
     "text": [
      " 83%|████████▎ | 672/814 [01:41<00:16,  8.78it/s]"
     ]
    },
    {
     "name": "stdout",
     "output_type": "stream",
     "text": [
      "chunk_671_Azure OpenAI Service Provisioned Throughput Units (PTU) onboarding.json\n",
      "chunk_672_Quickstart Use the OpenAI Service to make your first completions call with the REST API.json\n",
      "chunk_673_Quickstart Use the OpenAI Service to make your first completions call with the REST API.json\n"
     ]
    },
    {
     "name": "stderr",
     "output_type": "stream",
     "text": [
      " 83%|████████▎ | 674/814 [01:41<00:17,  8.05it/s]"
     ]
    },
    {
     "name": "stdout",
     "output_type": "stream",
     "text": [
      "chunk_674_Quickstart Use the OpenAI Service to make your first completions call with the REST API.json\n",
      "chunk_675_Quickstart Use the OpenAI Service to make your first completions call with the REST API.json\n"
     ]
    },
    {
     "name": "stderr",
     "output_type": "stream",
     "text": [
      "\r 83%|████████▎ | 676/814 [01:41<00:14,  9.22it/s]"
     ]
    },
    {
     "name": "stdout",
     "output_type": "stream",
     "text": [
      "chunk_676_Quickstart Use the OpenAI Service to make your first completions call with the REST API.json\n",
      "chunk_677_Quickstart Use the OpenAI Service to make your first completions call with the REST API.json\n",
      "chunk_678_Quickstart Use the OpenAI Service via the Python SDK.json\n"
     ]
    },
    {
     "name": "stderr",
     "output_type": "stream",
     "text": [
      "\r 83%|████████▎ | 678/814 [01:41<00:13,  9.77it/s]"
     ]
    },
    {
     "name": "stdout",
     "output_type": "stream",
     "text": [
      "chunk_679_Quickstart Use the OpenAI Service via the Python SDK.json\n",
      "chunk_680_Quickstart Use the OpenAI Service via the Python SDK.json\n"
     ]
    },
    {
     "name": "stderr",
     "output_type": "stream",
     "text": [
      " 84%|████████▎ | 681/814 [01:42<00:15,  8.81it/s]"
     ]
    },
    {
     "name": "stdout",
     "output_type": "stream",
     "text": [
      "chunk_681_Quickstart Use the OpenAI Service via the Python SDK.json\n",
      "chunk_682_Quickstart Use the OpenAI Service via the Python SDK.json\n"
     ]
    },
    {
     "name": "stderr",
     "output_type": "stream",
     "text": [
      " 84%|████████▍ | 684/814 [01:42<00:12, 10.10it/s]"
     ]
    },
    {
     "name": "stdout",
     "output_type": "stream",
     "text": [
      "chunk_683_Quickstart Use the OpenAI Service via the Python SDK.json\n",
      "chunk_684_Quickstart Use the OpenAI Service via the Python SDK.json\n",
      "chunk_685_Manage Azure OpenAI Service quota.json\n"
     ]
    },
    {
     "name": "stderr",
     "output_type": "stream",
     "text": [
      "\r 84%|████████▍ | 686/814 [01:42<00:13,  9.36it/s]"
     ]
    },
    {
     "name": "stdout",
     "output_type": "stream",
     "text": [
      "chunk_686_Manage Azure OpenAI Service quota.json\n",
      "chunk_687_Manage Azure OpenAI Service quota.json\n"
     ]
    },
    {
     "name": "stderr",
     "output_type": "stream",
     "text": [
      " 85%|████████▍ | 689/814 [01:43<00:12,  9.98it/s]"
     ]
    },
    {
     "name": "stdout",
     "output_type": "stream",
     "text": [
      "chunk_688_Manage Azure OpenAI Service quota.json\n",
      "chunk_689_Manage Azure OpenAI Service quota.json\n",
      "chunk_690_Manage Azure OpenAI Service quota.json\n"
     ]
    },
    {
     "name": "stderr",
     "output_type": "stream",
     "text": [
      "\r 85%|████████▍ | 691/814 [01:43<00:13,  9.23it/s]"
     ]
    },
    {
     "name": "stdout",
     "output_type": "stream",
     "text": [
      "chunk_691_Manage Azure OpenAI Service quota.json\n",
      "chunk_692_Manage Azure OpenAI Service quota.json\n"
     ]
    },
    {
     "name": "stderr",
     "output_type": "stream",
     "text": [
      " 85%|████████▌ | 694/814 [01:44<00:18,  6.46it/s]"
     ]
    },
    {
     "name": "stdout",
     "output_type": "stream",
     "text": [
      "chunk_693_Manage Azure OpenAI Service quota.json\n",
      "chunk_694_Manage Azure OpenAI Service quota.json\n",
      "chunk_695_Planning red teaming for large language models (LLMs) and their applications .json\n"
     ]
    },
    {
     "name": "stderr",
     "output_type": "stream",
     "text": [
      "\r 86%|████████▌ | 696/814 [01:44<00:16,  7.34it/s]"
     ]
    },
    {
     "name": "stdout",
     "output_type": "stream",
     "text": [
      "chunk_696_Planning red teaming for large language models (LLMs) and their applications .json\n",
      "chunk_697_Planning red teaming for large language models (LLMs) and their applications .json\n"
     ]
    },
    {
     "name": "stderr",
     "output_type": "stream",
     "text": [
      " 86%|████████▌ | 699/814 [01:44<00:16,  7.13it/s]"
     ]
    },
    {
     "name": "stdout",
     "output_type": "stream",
     "text": [
      "chunk_698_Planning red teaming for large language models (LLMs) and their applications .json\n",
      "chunk_699_Planning red teaming for large language models (LLMs) and their applications .json\n",
      "chunk_700_Text to speech with Azure OpenAI Service.json\n"
     ]
    },
    {
     "name": "stderr",
     "output_type": "stream",
     "text": [
      "\r 86%|████████▌ | 701/814 [01:44<00:15,  7.48it/s]"
     ]
    },
    {
     "name": "stdout",
     "output_type": "stream",
     "text": [
      "chunk_701_Text to speech with Azure OpenAI Service.json\n",
      "chunk_702_Text to speech with Azure OpenAI Service.json\n"
     ]
    },
    {
     "name": "stderr",
     "output_type": "stream",
     "text": [
      "\r 86%|████████▋ | 703/814 [01:45<00:13,  8.52it/s]"
     ]
    },
    {
     "name": "stdout",
     "output_type": "stream",
     "text": [
      "chunk_703_Text to speech with Azure OpenAI Service.json\n",
      "chunk_704_How to use blocklists with Azure OpenAI Service.json\n",
      "chunk_705_How to use blocklists with Azure OpenAI Service.json\n"
     ]
    },
    {
     "name": "stderr",
     "output_type": "stream",
     "text": [
      " 87%|████████▋ | 706/814 [01:45<00:18,  5.70it/s]"
     ]
    },
    {
     "name": "stdout",
     "output_type": "stream",
     "text": [
      "chunk_706_How to use blocklists with Azure OpenAI Service.json\n",
      "chunk_707_How to use blocklists with Azure OpenAI Service.json"
     ]
    },
    {
     "name": "stderr",
     "output_type": "stream",
     "text": [
      "\r 87%|████████▋ | 708/814 [01:46<00:15,  6.73it/s]"
     ]
    },
    {
     "name": "stdout",
     "output_type": "stream",
     "text": [
      "\n",
      "chunk_708_Use the Azure OpenAI web app.json\n",
      "chunk_709_Use the Azure OpenAI web app.json\n"
     ]
    },
    {
     "name": "stderr",
     "output_type": "stream",
     "text": [
      " 87%|████████▋ | 710/814 [01:46<00:14,  7.08it/s]"
     ]
    },
    {
     "name": "stdout",
     "output_type": "stream",
     "text": [
      "chunk_710_Use the Azure OpenAI web app.json\n",
      "chunk_711_Use the Azure OpenAI web app.json\n"
     ]
    },
    {
     "name": "stderr",
     "output_type": "stream",
     "text": [
      "\r 87%|████████▋ | 711/814 [01:46<00:13,  7.37it/s]"
     ]
    },
    {
     "name": "stdout",
     "output_type": "stream",
     "text": [
      "chunk_712_Use the Azure OpenAI web app.json\n",
      "chunk_713_Use the Azure OpenAI web app.json\n"
     ]
    },
    {
     "name": "stderr",
     "output_type": "stream",
     "text": [
      " 88%|████████▊ | 715/814 [01:47<00:12,  7.76it/s]"
     ]
    },
    {
     "name": "stdout",
     "output_type": "stream",
     "text": [
      "chunk_714_Use the Azure OpenAI web app.json\n",
      "chunk_715_Quickstart Use Azure OpenAI Service via the Azure OpenAI Studio.json\n",
      "chunk_716_Quickstart Use Azure OpenAI Service via the Azure OpenAI Studio.json\n"
     ]
    },
    {
     "name": "stderr",
     "output_type": "stream",
     "text": [
      "\r 88%|████████▊ | 717/814 [01:47<00:13,  7.43it/s]"
     ]
    },
    {
     "name": "stdout",
     "output_type": "stream",
     "text": [
      "chunk_717_Quickstart Use Azure OpenAI Service via the Azure OpenAI Studio.json\n",
      "chunk_718_Quickstart Use Azure OpenAI Service via the Azure OpenAI Studio.json\n"
     ]
    },
    {
     "name": "stderr",
     "output_type": "stream",
     "text": [
      "\r 88%|████████▊ | 719/814 [01:47<00:10,  8.70it/s]"
     ]
    },
    {
     "name": "stdout",
     "output_type": "stream",
     "text": [
      "chunk_719_Quickstart Use Azure OpenAI Service via the Azure OpenAI Studio.json\n",
      "chunk_720_Using your data with Azure OpenAI Service.json\n",
      "chunk_721_Using your data with Azure OpenAI Service.json\n"
     ]
    },
    {
     "name": "stderr",
     "output_type": "stream",
     "text": [
      " 89%|████████▉ | 723/814 [01:47<00:09,  9.73it/s]"
     ]
    },
    {
     "name": "stdout",
     "output_type": "stream",
     "text": [
      "chunk_722_Using your data with Azure OpenAI Service.json\n",
      "chunk_723_Using your data with Azure OpenAI Service.json\n",
      "chunk_724_Using your data with Azure OpenAI Service.json\n",
      "chunk_725_Using your data with Azure OpenAI Service.json\n"
     ]
    },
    {
     "name": "stderr",
     "output_type": "stream",
     "text": [
      "\r 89%|████████▉ | 725/814 [01:48<00:18,  4.94it/s]"
     ]
    },
    {
     "name": "stdout",
     "output_type": "stream",
     "text": [
      "chunk_726_Using your data with Azure OpenAI Service.json\n"
     ]
    },
    {
     "name": "stderr",
     "output_type": "stream",
     "text": [
      " 89%|████████▉ | 727/814 [01:49<00:17,  5.10it/s]"
     ]
    },
    {
     "name": "stdout",
     "output_type": "stream",
     "text": [
      "chunk_727_Using your data with Azure OpenAI Service.json\n",
      "chunk_728_Using your data with Azure OpenAI Service.json\n"
     ]
    },
    {
     "name": "stderr",
     "output_type": "stream",
     "text": [
      "\r 89%|████████▉ | 728/814 [01:49<00:24,  3.55it/s]"
     ]
    },
    {
     "name": "stdout",
     "output_type": "stream",
     "text": [
      "chunk_729_Using your data with Azure OpenAI Service.json\n"
     ]
    },
    {
     "name": "stderr",
     "output_type": "stream",
     "text": [
      " 90%|████████▉ | 730/814 [01:50<00:22,  3.79it/s]"
     ]
    },
    {
     "name": "stdout",
     "output_type": "stream",
     "text": [
      "chunk_730_Using your data with Azure OpenAI Service.json\n",
      "chunk_731_Using your data with Azure OpenAI Service.json\n"
     ]
    },
    {
     "name": "stderr",
     "output_type": "stream",
     "text": [
      "\r 90%|████████▉ | 731/814 [01:50<00:19,  4.17it/s]"
     ]
    },
    {
     "name": "stdout",
     "output_type": "stream",
     "text": [
      "chunk_732_Using your data with Azure OpenAI Service.json\n",
      "chunk_733_Use your own data to generate text using Azure OpenAI Service.json\n"
     ]
    },
    {
     "name": "stderr",
     "output_type": "stream",
     "text": [
      " 90%|█████████ | 734/814 [01:50<00:15,  5.20it/s]"
     ]
    },
    {
     "name": "stdout",
     "output_type": "stream",
     "text": [
      "chunk_734_System message framework and template recommendations for Large Language Models(LLMs).json\n",
      "chunk_735_System message framework and template recommendations for Large Language Models(LLMs).json\n"
     ]
    },
    {
     "name": "stderr",
     "output_type": "stream",
     "text": [
      " 90%|█████████ | 736/814 [01:51<00:12,  6.33it/s]"
     ]
    },
    {
     "name": "stdout",
     "output_type": "stream",
     "text": [
      "chunk_736_System message framework and template recommendations for Large Language Models(LLMs).json\n",
      "chunk_737_System message framework and template recommendations for Large Language Models(LLMs).json\n"
     ]
    },
    {
     "name": "stderr",
     "output_type": "stream",
     "text": [
      " 91%|█████████ | 738/814 [01:51<00:10,  7.50it/s]"
     ]
    },
    {
     "name": "stdout",
     "output_type": "stream",
     "text": [
      "chunk_738_System message framework and template recommendations for Large Language Models(LLMs).json\n",
      "chunk_739_System message framework and template recommendations for Large Language Models(LLMs).json\n"
     ]
    },
    {
     "name": "stderr",
     "output_type": "stream",
     "text": [
      " 91%|█████████ | 740/814 [01:51<00:08,  8.27it/s]"
     ]
    },
    {
     "name": "stdout",
     "output_type": "stream",
     "text": [
      "chunk_740_System message framework and template recommendations for Large Language Models(LLMs).json\n",
      "chunk_741_System message framework and template recommendations for Large Language Models(LLMs).json\n"
     ]
    },
    {
     "name": "stderr",
     "output_type": "stream",
     "text": [
      " 91%|█████████ | 742/814 [01:51<00:08,  8.31it/s]"
     ]
    },
    {
     "name": "stdout",
     "output_type": "stream",
     "text": [
      "chunk_742_System message framework and template recommendations for Large Language Models(LLMs).json\n",
      "chunk_743_System message framework and template recommendations for Large Language Models(LLMs).json\n"
     ]
    },
    {
     "name": "stderr",
     "output_type": "stream",
     "text": [
      " 91%|█████████▏| 744/814 [01:52<00:10,  6.79it/s]"
     ]
    },
    {
     "name": "stdout",
     "output_type": "stream",
     "text": [
      "chunk_744_System message framework and template recommendations for Large Language Models(LLMs).json\n",
      "chunk_745_System message framework and template recommendations for Large Language Models(LLMs).json\n"
     ]
    },
    {
     "name": "stderr",
     "output_type": "stream",
     "text": [
      "\r 92%|█████████▏| 745/814 [01:52<00:09,  7.25it/s]"
     ]
    },
    {
     "name": "stdout",
     "output_type": "stream",
     "text": [
      "chunk_746_System message framework and template recommendations for Large Language Models(LLMs).json\n",
      "chunk_747_System message framework and template recommendations for Large Language Models(LLMs).json\n"
     ]
    },
    {
     "name": "stderr",
     "output_type": "stream",
     "text": [
      " 92%|█████████▏| 748/814 [01:52<00:08,  8.10it/s]"
     ]
    },
    {
     "name": "stdout",
     "output_type": "stream",
     "text": [
      "chunk_748_System message framework and template recommendations for Large Language Models(LLMs).json\n",
      "chunk_749_System message framework and template recommendations for Large Language Models(LLMs).json\n"
     ]
    },
    {
     "name": "stderr",
     "output_type": "stream",
     "text": [
      " 92%|█████████▏| 750/814 [01:52<00:08,  7.26it/s]"
     ]
    },
    {
     "name": "stdout",
     "output_type": "stream",
     "text": [
      "chunk_750_System message framework and template recommendations for Large Language Models(LLMs).json\n",
      "chunk_751_Azure OpenAI Service embeddings.json\n"
     ]
    },
    {
     "name": "stderr",
     "output_type": "stream",
     "text": [
      " 92%|█████████▏| 752/814 [01:53<00:08,  7.55it/s]"
     ]
    },
    {
     "name": "stdout",
     "output_type": "stream",
     "text": [
      "chunk_752_Azure OpenAI Service embeddings.json\n",
      "chunk_753_Azure OpenAI Service embeddings.json\n"
     ]
    },
    {
     "name": "stderr",
     "output_type": "stream",
     "text": [
      " 93%|█████████▎| 754/814 [01:53<00:08,  7.47it/s]"
     ]
    },
    {
     "name": "stdout",
     "output_type": "stream",
     "text": [
      "chunk_754_Using your data with Azure OpenAI securely.json\n",
      "chunk_755_Using your data with Azure OpenAI securely.json\n"
     ]
    },
    {
     "name": "stderr",
     "output_type": "stream",
     "text": [
      " 93%|█████████▎| 756/814 [01:53<00:08,  6.98it/s]"
     ]
    },
    {
     "name": "stdout",
     "output_type": "stream",
     "text": [
      "chunk_756_Using your data with Azure OpenAI securely.json\n",
      "chunk_757_Using your data with Azure OpenAI securely.json\n"
     ]
    },
    {
     "name": "stderr",
     "output_type": "stream",
     "text": [
      " 93%|█████████▎| 759/814 [01:53<00:06,  8.65it/s]"
     ]
    },
    {
     "name": "stdout",
     "output_type": "stream",
     "text": [
      "chunk_758_Using your data with Azure OpenAI securely.json\n",
      "chunk_759_Using your data with Azure OpenAI securely.json\n"
     ]
    },
    {
     "name": "stderr",
     "output_type": "stream",
     "text": [
      "\r 93%|█████████▎| 760/814 [01:54<00:07,  7.58it/s]"
     ]
    },
    {
     "name": "stdout",
     "output_type": "stream",
     "text": [
      "chunk_760_Using your data with Azure OpenAI securely.json\n",
      "chunk_761_Using your data with Azure OpenAI securely.json\n"
     ]
    },
    {
     "name": "stderr",
     "output_type": "stream",
     "text": [
      "\r 93%|█████████▎| 761/814 [01:54<00:08,  6.35it/s]"
     ]
    },
    {
     "name": "stdout",
     "output_type": "stream",
     "text": [
      "chunk_762_Using your data with Azure OpenAI securely.json\n",
      "chunk_763_Using your data with Azure OpenAI securely.json\n"
     ]
    },
    {
     "name": "stderr",
     "output_type": "stream",
     "text": [
      " 94%|█████████▍| 765/814 [01:54<00:05,  8.28it/s]"
     ]
    },
    {
     "name": "stdout",
     "output_type": "stream",
     "text": [
      "chunk_764_Using your data with Azure OpenAI securely.json\n",
      "chunk_765_Using your data with Azure OpenAI securely.json\n",
      "chunk_766_Using your data with Azure OpenAI securely.json\n"
     ]
    },
    {
     "name": "stderr",
     "output_type": "stream",
     "text": [
      " 94%|█████████▍| 767/814 [01:55<00:06,  7.59it/s]"
     ]
    },
    {
     "name": "stdout",
     "output_type": "stream",
     "text": [
      "chunk_767_Using your data with Azure OpenAI securely.json\n",
      "chunk_768_Using your data with Azure OpenAI securely.json\n"
     ]
    },
    {
     "name": "stderr",
     "output_type": "stream",
     "text": [
      "\r 94%|█████████▍| 769/814 [01:55<00:05,  8.40it/s]"
     ]
    },
    {
     "name": "stdout",
     "output_type": "stream",
     "text": [
      "chunk_769_Use your own data with Azure OpenAI Service.json\n",
      "chunk_770_Use your own data with Azure OpenAI Service.json\n",
      "chunk_771_Use your own data with Azure OpenAI Service.json\n"
     ]
    },
    {
     "name": "stderr",
     "output_type": "stream",
     "text": [
      " 95%|█████████▍| 773/814 [01:55<00:03, 10.40it/s]"
     ]
    },
    {
     "name": "stdout",
     "output_type": "stream",
     "text": [
      "chunk_772_Azure OpenAI Service supported programming languages.json\n",
      "chunk_773_Azure OpenAI Service supported programming languages.json\n",
      "chunk_774_Use your image data with Azure OpenAI Service in Azure OpenAI Studio.json\n"
     ]
    },
    {
     "name": "stderr",
     "output_type": "stream",
     "text": [
      "\r 95%|█████████▌| 775/814 [01:55<00:04,  8.96it/s]"
     ]
    },
    {
     "name": "stdout",
     "output_type": "stream",
     "text": [
      "chunk_775_Use your image data with Azure OpenAI Service in Azure OpenAI Studio.json\n",
      "chunk_776_Use your image data with Azure OpenAI Service in Azure OpenAI Studio.json\n"
     ]
    },
    {
     "name": "stderr",
     "output_type": "stream",
     "text": [
      " 95%|█████████▌| 777/814 [01:56<00:04,  8.29it/s]"
     ]
    },
    {
     "name": "stdout",
     "output_type": "stream",
     "text": [
      "chunk_777_Use your image data with Azure OpenAI Service in Azure OpenAI Studio.json\n",
      "chunk_778_Use your image data with Azure OpenAI Service in Azure OpenAI Studio.json\n"
     ]
    },
    {
     "name": "stderr",
     "output_type": "stream",
     "text": [
      " 96%|█████████▌| 779/814 [01:56<00:04,  7.84it/s]"
     ]
    },
    {
     "name": "stdout",
     "output_type": "stream",
     "text": [
      "chunk_779_Use your image data with Azure OpenAI Service in Azure OpenAI Studio.json\n",
      "chunk_780_Use your image data with Azure OpenAI Service in Azure OpenAI Studio.json\n"
     ]
    },
    {
     "name": "stderr",
     "output_type": "stream",
     "text": [
      " 96%|█████████▌| 782/814 [01:56<00:03,  8.86it/s]"
     ]
    },
    {
     "name": "stdout",
     "output_type": "stream",
     "text": [
      "chunk_781_Use your image data with Azure OpenAI Service in Azure OpenAI Studio.json\n",
      "chunk_782_How to use the Codex models to work with code.json\n",
      "chunk_783_How to use the Codex models to work with code.json\n"
     ]
    },
    {
     "name": "stderr",
     "output_type": "stream",
     "text": [
      " 96%|█████████▋| 785/814 [01:57<00:04,  6.34it/s]"
     ]
    },
    {
     "name": "stdout",
     "output_type": "stream",
     "text": [
      "chunk_784_How to use the Codex models to work with code.json\n",
      "chunk_785_Speech to text with Azure OpenAI Service.json\n",
      "chunk_786_Speech to text with Azure OpenAI Service.json\n"
     ]
    },
    {
     "name": "stderr",
     "output_type": "stream",
     "text": [
      " 97%|█████████▋| 788/814 [01:57<00:03,  8.04it/s]"
     ]
    },
    {
     "name": "stdout",
     "output_type": "stream",
     "text": [
      "chunk_787_Speech to text with Azure OpenAI Service.json\n",
      "chunk_788_Speech to text with Azure OpenAI Service.json\n",
      "chunk_789_Azure OpenAI Service working with models.json\n"
     ]
    },
    {
     "name": "stderr",
     "output_type": "stream",
     "text": [
      " 97%|█████████▋| 790/814 [01:57<00:02,  8.28it/s]"
     ]
    },
    {
     "name": "stdout",
     "output_type": "stream",
     "text": [
      "chunk_790_Azure OpenAI Service working with models.json\n",
      "chunk_791_Azure OpenAI Service working with models.json\n"
     ]
    },
    {
     "name": "stderr",
     "output_type": "stream",
     "text": [
      "\r 97%|█████████▋| 791/814 [01:58<00:04,  5.30it/s]"
     ]
    },
    {
     "name": "stdout",
     "output_type": "stream",
     "text": [
      "chunk_792_Azure OpenAI Service working with models.json\n"
     ]
    },
    {
     "name": "stderr",
     "output_type": "stream",
     "text": [
      "\r 97%|█████████▋| 792/814 [01:58<00:04,  4.91it/s]"
     ]
    },
    {
     "name": "stdout",
     "output_type": "stream",
     "text": [
      "chunk_793_Azure OpenAI Service working with models.json\n",
      "chunk_794_Whats new in Azure OpenAI Service.json\n"
     ]
    },
    {
     "name": "stderr",
     "output_type": "stream",
     "text": [
      " 98%|█████████▊| 795/814 [01:59<00:03,  5.96it/s]"
     ]
    },
    {
     "name": "stdout",
     "output_type": "stream",
     "text": [
      "chunk_795_Whats new in Azure OpenAI Service.json\n",
      "chunk_796_Whats new in Azure OpenAI Service.json\n"
     ]
    },
    {
     "name": "stderr",
     "output_type": "stream",
     "text": [
      "\r 98%|█████████▊| 796/814 [01:59<00:02,  6.31it/s]"
     ]
    },
    {
     "name": "stdout",
     "output_type": "stream",
     "text": [
      "chunk_797_Whats new in Azure OpenAI Service.json\n"
     ]
    },
    {
     "name": "stderr",
     "output_type": "stream",
     "text": [
      "\r 98%|█████████▊| 797/814 [01:59<00:03,  5.43it/s]"
     ]
    },
    {
     "name": "stdout",
     "output_type": "stream",
     "text": [
      "chunk_798_Whats new in Azure OpenAI Service.json\n",
      "chunk_799_Whats new in Azure OpenAI Service.json\n"
     ]
    },
    {
     "name": "stderr",
     "output_type": "stream",
     "text": [
      " 98%|█████████▊| 800/814 [01:59<00:02,  5.68it/s]"
     ]
    },
    {
     "name": "stdout",
     "output_type": "stream",
     "text": [
      "chunk_800_Whats new in Azure OpenAI Service.json\n",
      "chunk_801_Whats new in Azure OpenAI Service.json\n"
     ]
    },
    {
     "name": "stderr",
     "output_type": "stream",
     "text": [
      " 99%|█████████▊| 802/814 [02:00<00:02,  5.80it/s]"
     ]
    },
    {
     "name": "stdout",
     "output_type": "stream",
     "text": [
      "chunk_802_Whats new in Azure OpenAI Service.json\n",
      "chunk_803_Whats new in Azure OpenAI Service.json\n"
     ]
    },
    {
     "name": "stderr",
     "output_type": "stream",
     "text": [
      " 99%|█████████▉| 804/814 [02:00<00:01,  6.83it/s]"
     ]
    },
    {
     "name": "stdout",
     "output_type": "stream",
     "text": [
      "chunk_804_Whats new in Azure OpenAI Service.json\n",
      "chunk_805_Whats new in Azure OpenAI Service.json\n"
     ]
    },
    {
     "name": "stderr",
     "output_type": "stream",
     "text": [
      " 99%|█████████▉| 807/814 [02:00<00:00,  8.81it/s]"
     ]
    },
    {
     "name": "stdout",
     "output_type": "stream",
     "text": [
      "chunk_806_Whats new in Azure OpenAI Service.json\n",
      "chunk_807_Whats new in Azure OpenAI Service.json\n",
      "chunk_808_Whats new in Azure OpenAI Service.json\n"
     ]
    },
    {
     "name": "stderr",
     "output_type": "stream",
     "text": [
      "\r 99%|█████████▉| 808/814 [02:00<00:00,  9.03it/s]"
     ]
    },
    {
     "name": "stdout",
     "output_type": "stream",
     "text": [
      "chunk_809_Whats new in Azure OpenAI Service.json\n",
      "chunk_810_Whats new in Azure OpenAI Service.json\n"
     ]
    },
    {
     "name": "stderr",
     "output_type": "stream",
     "text": [
      "100%|█████████▉| 812/814 [02:01<00:00,  9.91it/s]"
     ]
    },
    {
     "name": "stdout",
     "output_type": "stream",
     "text": [
      "chunk_811_Whats new in Azure OpenAI Service.json\n",
      "chunk_812_Whats new in Azure OpenAI Service.json\n",
      "chunk_813_Whats new in Azure OpenAI Service.json\n"
     ]
    },
    {
     "name": "stderr",
     "output_type": "stream",
     "text": [
      "100%|██████████| 814/814 [02:01<00:00,  6.70it/s]"
     ]
    },
    {
     "name": "stdout",
     "output_type": "stream",
     "text": [
      "chunk_814_Whats new in Azure OpenAI Service.json\n"
     ]
    },
    {
     "name": "stderr",
     "output_type": "stream",
     "text": [
      "\n"
     ]
    }
   ],
   "source": [
    "import uuid\n",
    "from langchain_core.documents import Document\n",
    "\n",
    "json_folder_path = \"./data/chunks-azure-ai-docs-markdown/\"\n",
    "documents_to_add_chromaDB = []\n",
    "\n",
    "for filename in tqdm(os.listdir(json_folder_path)):\n",
    "    if filename.endswith(\".json\"):\n",
    "        filepath = os.path.join(json_folder_path, filename)\n",
    "        with open(filepath, 'r', encoding='utf-8') as f:\n",
    "            data = json.load(f)\n",
    "\n",
    "        page_content = data['chunk_content']\n",
    "        metadata = {\n",
    "            \"page_title\": data['page_title'],\n",
    "            \"page_description\": data['page_description'],\n",
    "            \"page_date\": data['page_date'],\n",
    "            \"chunk_title\": data['chunk_title']\n",
    "        }\n",
    "\n",
    "        doc = Document(page_content=page_content, metadata=metadata)\n",
    "        documents_to_add_chromaDB.append(doc)\n",
    "        vector_store.add_documents(documents=[doc], ids=[str(uuid.uuid4())])"
   ]
  },
  {
   "cell_type": "code",
   "execution_count": null,
   "metadata": {
    "id": "vkSufAVOu-oc"
   },
   "outputs": [],
   "source": [
    "## To update a document in ChromaDB Index\n",
    "# updated_document_1 = Document(\n",
    "#     page_content=\"I had chocolate chip pancakes and fried eggs for breakfast this morning.\",\n",
    "#     metadata={\"source\": \"tweet\"},\n",
    "#     id=1,\n",
    "# )\n",
    "# vector_store.update_document(document_id=uuids[0], document=updated_document_1)\n",
    "\n",
    "## To delete document from ChromaDB\n",
    "# vector_store.delete(ids=uuids[-1])"
   ]
  },
  {
   "cell_type": "code",
   "execution_count": null,
   "metadata": {
    "colab": {
     "base_uri": "https://localhost:8080/"
    },
    "executionInfo": {
     "elapsed": 517,
     "status": "ok",
     "timestamp": 1736538341598,
     "user": {
      "displayName": "Deepali Bhadekar",
      "userId": "15595882886833151465"
     },
     "user_tz": -330
    },
    "id": "eyd8beewvjV-",
    "outputId": "131bb734-5d39-4dbd-864c-fef696cf8d9c"
   },
   "outputs": [
    {
     "name": "stdout",
     "output_type": "stream",
     "text": [
      "* November 2023### New data source support in Azure OpenAI On Your Data- You can now use Azure Cosmos DB for MongoDB vCore as well as URLs/web addresses as data sources to ingest your data and chat with a supported Azure OpenAI model.### GPT-4 Turbo Preview & GPT-3.5-Turbo-1106 releasedBoth models are the latest release from OpenAI with improved instruction following, JSON mode, reproducible output, and parallel function calling.- GPT-4 Turbo Preview has a max context window of 128,000 tokens and can generate 4,096 output tokens. It has the latest training data with knowledge up to April 2023. This model is in preview and is not recommended for production use. All deployments of this preview model will be automatically updated in place once the stable release becomes available.- GPT-3.5-Turbo-1106 has a max context window of 16,385 tokens and can generate 4,096 output tokens.For information on model regional availability consult the models page.The models have their own unique per region quota allocations.### DALL-E 3 public previewDALL-E 3 is the latest image generation model from OpenAI. It features enhanced image quality, more complex scenes, and improved performance when rendering text in images. It also comes with more aspect ratio options. DALL-E 3 is available through OpenAI Studio and through the REST API. Your OpenAI resource must be in the `SwedenCentral` Azure region.DALL-E 3 includes built-in prompt rewriting to enhance images, reduce bias, and increase natural variation.Try out DALL-E 3 by following a quickstart.### Responsible AI- Expanded customer configurability: All Azure OpenAI customers can now configure all severity levels (low, medium, high) for the categories hate, violence, sexual and self-harm, including filtering only high severity content. Configure content filters- Content Credentials in all DALL-E models: AI-generated images from all DALL-E models now include a digital credential that discloses the content as AI-generated. Applications that display image assets can leverage the open source Content Authenticity Initiative SDK to display credentials in their AI generated images. Content Credentials in Azure OpenAI- New RAI models        - Jailbreak risk detection: Jailbreak attacks are user prompts designed to provoke the Generative AI model into exhibiting behaviors it was trained to avoid or to break the rules set in the System Message. The jailbreak risk detection model is optional (default off), and available in annotate and filter model. It runs on user prompts.    - Protected material text: Protected material text describes known text content (for example, song lyrics, articles, recipes, and selected web content) that can be outputted by large language models. The protected material text model is optional (default off), and available in annotate and filter model. It runs on LLM completions.    - Protected material code: Protected material code describes source code that matches a set of source code from public repositories, which can be outputted by large language models without proper citation of source repositories. The protected material code model is optional (default off), and available in annotate and filter model. It runs on LLM completions.    Configure content filters- Blocklists: Customers can now quickly customize content filter behavior for prompts and completions further by creating a custom blocklist in their filters. The custom blocklist allows the filter to take action on a customized list of patterns, such as specific terms or regex patterns. In addition to custom blocklists, we provide a Microsoft profanity blocklist (English). Use blocklists [{'chunk_title': 'November 2023', 'page_date': '08/06/2024', 'page_description': 'Learn about the latest news and features updates for Azure OpenAI.', 'page_title': \"What's new in Azure OpenAI Service?\"}]\n",
      "* See also- Quotas & limits- Provisioned throughput units (PTU) onboarding- Provisioned throughput units (PTU) getting started [{'chunk_title': 'See also', 'page_date': '07/11/2024', 'page_description': 'Learn how to use Azure OpenAI deployment types | Global-Standard | Standard | Provisioned.', 'page_title': 'Understanding Azure OpenAI Service deployment types'}]\n",
      "* Next steps- Provisioned Throughput Units (PTU) getting started guide- Provisioned Throughput Units (PTU) concepts- Provisioned Throughput reservation documentation [{'chunk_title': 'Next steps', 'page_date': '08/07/2024', 'page_description': 'Learn about provisioned throughput units onboarding and Azure OpenAI. ', 'page_title': 'Azure OpenAI Service Provisioned Throughput Units (PTU) onboarding'}]\n"
     ]
    }
   ],
   "source": [
    "## Direct vector search\n",
    "\n",
    "results = vector_store.similarity_search(query=\"deployment\", k=3)\n",
    "for doc in results:\n",
    "    print(f\"* {doc.page_content} [{doc.metadata}]\")"
   ]
  },
  {
   "cell_type": "code",
   "execution_count": null,
   "metadata": {
    "colab": {
     "base_uri": "https://localhost:8080/"
    },
    "executionInfo": {
     "elapsed": 523,
     "status": "ok",
     "timestamp": 1736538482809,
     "user": {
      "displayName": "Deepali Bhadekar",
      "userId": "15595882886833151465"
     },
     "user_tz": -330
    },
    "id": "6KAli222wJDG",
    "outputId": "92bbad0a-9eda-4508-b05e-b9f8d2316697"
   },
   "outputs": [
    {
     "name": "stdout",
     "output_type": "stream",
     "text": [
      "* See also- Quotas & limits- Provisioned throughput units (PTU) onboarding- Provisioned throughput units (PTU) getting started [{'chunk_title': 'See also', 'page_date': '07/11/2024', 'page_description': 'Learn how to use Azure OpenAI deployment types | Global-Standard | Standard | Provisioned.', 'page_title': 'Understanding Azure OpenAI Service deployment types'}]\n",
      "* Next steps- Azure OpenAI Assistants [{'chunk_title': 'Next steps', 'page_date': '07/11/2024', 'page_description': 'Learn about migrating to the latest release of the OpenAI JavaScript library with Azure OpenAI.', 'page_title': 'How to migrate to OpenAI JavaScript v4.x'}]\n"
     ]
    }
   ],
   "source": [
    "## Search with filter\n",
    "results = vector_store.similarity_search(query=\"azure\", k=2, filter={\"page_date\": \"07/11/2024\"})\n",
    "for doc in results:\n",
    "    print(f\"* {doc.page_content} [{doc.metadata}]\")"
   ]
  },
  {
   "cell_type": "code",
   "execution_count": null,
   "metadata": {
    "colab": {
     "base_uri": "https://localhost:8080/"
    },
    "executionInfo": {
     "elapsed": 3,
     "status": "ok",
     "timestamp": 1736539432477,
     "user": {
      "displayName": "Deepali Bhadekar",
      "userId": "15595882886833151465"
     },
     "user_tz": -330
    },
    "id": "AX1P4EROwqPl",
    "outputId": "1fc491ad-4dad-4b31-8ecc-d6fb13e91bcc"
   },
   "outputs": [
    {
     "name": "stdout",
     "output_type": "stream",
     "text": [
      "* [SIM=1.483050] February 2023### New Features- .NET SDK(inference) preview release | Samples- Terraform SDK update to support Azure OpenAI management operations.- Inserting text at the end of a completion is now supported with the `suffix` parameter.### Updates- Content filtering is on by default.New articles on:- Monitoring an Azure OpenAI Service- Plan and manage costs for Azure OpenAINew training course:- Intro to Azure OpenAI [{'chunk_title': 'February 2023', 'page_date': '08/06/2024', 'page_description': 'Learn about the latest news and features updates for Azure OpenAI.', 'page_title': \"What's new in Azure OpenAI Service?\"}]\n",
      "* [SIM=1.557579] Clean up resourcesIf you want to clean up and remove an Azure OpenAI resource, you can delete the resource or resource group. Deleting the resource group also deletes any other resources associated with it.- Azure portal- Azure CLI [{'chunk_title': 'Clean up resources', 'page_date': '05/30/2024', 'page_description': 'Walkthrough on how to get started with Azure OpenAI and make your first completions call with the JavaScript SDK. ', 'page_title': \"'Quickstart: Use the OpenAI Service via the JavaScript SDK'\"}]\n",
      "* [SIM=1.557579] Clean up resourcesIf you want to clean up and remove an Azure OpenAI resource, you can delete the resource or resource group. Deleting the resource group also deletes any other resources associated with it.- Azure portal- Azure CLI [{'chunk_title': 'Clean up resources', 'page_date': '03/05/2024', 'page_description': 'Walkthrough on how to get started with Azure OpenAI and make your first completions call with the .NET SDK. ', 'page_title': \"'Quickstart: Use the OpenAI Service via the .NET SDK'\"}]\n"
     ]
    }
   ],
   "source": [
    "# Search with score:\n",
    "\n",
    "results = vector_store.similarity_search_with_score(query=\"openAI\", k=3)\n",
    "for doc, score in results:\n",
    "    print(f\"* [SIM={score:3f}] {doc.page_content} [{doc.metadata}]\")"
   ]
  },
  {
   "cell_type": "code",
   "execution_count": null,
   "metadata": {
    "colab": {
     "base_uri": "https://localhost:8080/"
    },
    "executionInfo": {
     "elapsed": 517,
     "status": "ok",
     "timestamp": 1736538661803,
     "user": {
      "displayName": "Deepali Bhadekar",
      "userId": "15595882886833151465"
     },
     "user_tz": -330
    },
    "id": "9Yj6_r-lxFBF",
    "outputId": "f71fd3ab-3a88-43cc-defe-980c239b0951"
   },
   "outputs": [
    {
     "data": {
      "text/plain": [
       "[Document(id='aaae9d21-40da-48e6-b921-693cc200baf3', metadata={'chunk_title': 'Next steps', 'page_date': '07/11/2024', 'page_description': 'Learn about migrating to the latest release of the OpenAI JavaScript library with Azure OpenAI.', 'page_title': 'How to migrate to OpenAI JavaScript v4.x'}, page_content='Next steps- Azure OpenAI Assistants')]"
      ]
     },
     "execution_count": 33,
     "metadata": {},
     "output_type": "execute_result"
    }
   ],
   "source": [
    "# Use as Retriever\n",
    "\n",
    "retriever_chroma = vector_store.as_retriever(\n",
    "    search_type=\"mmr\",\n",
    "    search_kwargs={\"k\": 1, \"fetch_k\": 2, \"lambda_mult\": 0.5},\n",
    ")\n",
    "\n",
    "retriever_chroma.invoke(\"OpenAI Model\")"
   ]
  },
  {
   "cell_type": "code",
   "execution_count": null,
   "metadata": {
    "colab": {
     "base_uri": "https://localhost:8080/"
    },
    "collapsed": true,
    "executionInfo": {
     "elapsed": 517,
     "status": "ok",
     "timestamp": 1736539919962,
     "user": {
      "displayName": "Deepali Bhadekar",
      "userId": "15595882886833151465"
     },
     "user_tz": -330
    },
    "id": "8cwXpcUux2i9",
    "outputId": "03c17fa0-3c33-44e1-c447-0851ef039912"
   },
   "outputs": [
    {
     "data": {
      "text/plain": [
       "[Document(id='f20257f8-bd45-4a34-abe9-ed9de3889a37', metadata={'chunk_title': 'Next steps', 'page_date': '06/18/2024', 'page_description': 'Learn how to use Azure OpenAI to control your deployments rate limits.', 'page_title': 'Manage Azure OpenAI Service quota'}, page_content='Next steps- To review quota defaults for Azure OpenAI, consult the quotas & limits article')]"
      ]
     },
     "execution_count": 45,
     "metadata": {},
     "output_type": "execute_result"
    }
   ],
   "source": [
    "# ## Load the persisted vectorDB for semantic search\n",
    "persist_directory = \"./vector-dbs/chroma_langchain_db\"\n",
    "vectordb = Chroma(\n",
    "    collection_name=\"chroma-azure-ai-docs-markdown\",\n",
    "    embedding_function=embeddings_llama3,\n",
    "    persist_directory=persist_directory,\n",
    ")\n",
    "vectordb.similarity_search(query=\"terraform articles\", k=1)"
   ]
  },
  {
   "cell_type": "markdown",
   "metadata": {
    "id": "BH9F66b9Ci9D"
   },
   "source": [
    "### <mark> Create Index in Azure AI Search"
   ]
  },
  {
   "cell_type": "code",
   "execution_count": null,
   "metadata": {
    "id": "hJcXHiMU39uY"
   },
   "outputs": [],
   "source": [
    "# ## Azure Credentials\n",
    "\n",
    "# %pip install -qU azure-search-documents\n",
    "# %pip install -qU azure-identity\n",
    "# %pip install -qU openai\n",
    "\n",
    "# azure_openai_endpoint = os.getenv(\"AZURE_OPENAI_ENDPOINT\")\n",
    "# azure_openai_api_key = os.getenv(\"AZURE_OPENAI_API_KEY\")\n",
    "# azure_openai_chat_completions_deployment_name = os.getenv(\"AZURE_OPENAI_CHAT_COMPLETIONS_DEPLOYMENT_NAME\")\n",
    "# azure_openai_embedding_model = os.getenv(\"AZURE_OPENAI_EMBEDDING_MODEL\")\n",
    "# embedding_vector_dimensions = os.getenv(\"EMBEDDING_VECTOR_DIMENSIONS\")\n",
    "# azure_search_service_endpoint = os.getenv(\"AZURE_SEARCH_SERVICE_ENDPOINT\")\n",
    "# azure_search_service_admin_key = os.getenv(\"AZURE_SEARCH_SERVICE_ADMIN_KEY\")\n",
    "# search_index_name = os.getenv(\"SEARCH_INDEX_NAME\")"
   ]
  },
  {
   "cell_type": "code",
   "execution_count": null,
   "metadata": {
    "id": "4-YudESG3o6W"
   },
   "outputs": [],
   "source": [
    "# openai_client = AzureOpenAI(\n",
    "#     azure_endpoint=azure_openai_endpoint,\n",
    "#     api_key=azure_openai_api_key,\n",
    "#     api_version=\"2024-06-01\"\n",
    "# )\n",
    "\n",
    "# # Test connection to OpenAI ChatGPT\n",
    "# completion = openai_client.chat.completions.create(\n",
    "#     model=azure_openai_chat_completions_deployment_name,\n",
    "#     messages=[\n",
    "#         {\"role\": \"system\", \"content\": \"You are a helpful assistant.\"},\n",
    "#         {\"role\": \"user\", \"content\": \"Who are you ?\"}\n",
    "#     ])\n",
    "# print(completion.to_json())"
   ]
  },
  {
   "cell_type": "code",
   "execution_count": null,
   "metadata": {
    "id": "RHrrbg8lCqbq"
   },
   "outputs": [],
   "source": [
    "# from azure.core.credentials import AzureKeyCredential\n",
    "# from azure.search.documents.indexes import SearchIndexClient\n",
    "# from azure.search.documents.indexes.models import (\n",
    "#     ComplexField,\n",
    "#     CorsOptions,\n",
    "#     SearchIndex,\n",
    "#     SearchField,\n",
    "#     ScoringProfile,\n",
    "#     SearchFieldDataType,\n",
    "#     SimpleField,\n",
    "#     SearchableField,\n",
    "#     VectorSearch,\n",
    "#     HnswAlgorithmConfiguration,\n",
    "#     VectorSearchProfile,\n",
    "#     SemanticConfiguration,\n",
    "#     SemanticPrioritizedFields,\n",
    "#     SemanticSearch,\n",
    "#     SemanticField\n",
    "# )\n",
    "\n",
    "# credential = AzureKeyCredential(azure_search_service_admin_key)\n",
    "\n",
    "# search_index_client = SearchIndexClient(\n",
    "#     endpoint=azure_search_service_endpoint,\n",
    "#     index_name=search_index_name,\n",
    "#     credential=credential\n",
    "# )"
   ]
  },
  {
   "cell_type": "code",
   "execution_count": null,
   "metadata": {
    "id": "-5l0CKFhCuUi"
   },
   "outputs": [],
   "source": [
    "# # create search index\n",
    "# fields = [\n",
    "#     SimpleField(\n",
    "#         name=\"id\",\n",
    "#         type=SearchFieldDataType.String,\n",
    "#         key=True,\n",
    "#         sortable=True,\n",
    "#         filterable=True,\n",
    "#         facetable=True,\n",
    "#     ),\n",
    "#     SearchableField(name=\"page_title\", type=SearchFieldDataType.String),\n",
    "#     SearchableField(name=\"page_description\", type=SearchFieldDataType.String),\n",
    "#     SearchableField(name=\"page_date\", type=SearchFieldDataType.String),\n",
    "#     SearchableField(name=\"chunk_title\", type=SearchFieldDataType.String),\n",
    "#     SearchableField(name=\"chunk_content\", type=SearchFieldDataType.String),\n",
    "#     SearchField(name=\"vector\", type=SearchFieldDataType.Collection(SearchFieldDataType.Single),\n",
    "#         searchable=True,\n",
    "#         vector_search_dimensions=3072, #1536,\n",
    "#         vector_search_profile_name=\"myHnswProfile\",\n",
    "#     ),\n",
    "# ]"
   ]
  },
  {
   "cell_type": "code",
   "execution_count": null,
   "metadata": {
    "id": "tjH7eiSuCQ6M"
   },
   "outputs": [],
   "source": [
    "# # Configure the vector search configuration\n",
    "# vector_search = VectorSearch(\n",
    "#     algorithms=[\n",
    "#         HnswAlgorithmConfiguration(\n",
    "#             name=\"myHnsw\"\n",
    "#         )\n",
    "#     ],\n",
    "#     profiles=[\n",
    "#         VectorSearchProfile(\n",
    "#             name=\"myHnswProfile\",\n",
    "#             algorithm_configuration_name=\"myHnsw\",\n",
    "#         )\n",
    "#     ]\n",
    "# )\n",
    "\n",
    "# semantic_config = SemanticConfiguration(\n",
    "#     name=\"my-semantic-config\",\n",
    "#     prioritized_fields=SemanticPrioritizedFields(\n",
    "#         title_field=SemanticField(field_name=\"page_title\"),\n",
    "#         # keywords_fields=[SemanticField(field_name=\"category\")],\n",
    "#         content_fields=[SemanticField(field_name=\"chunk_content\")]\n",
    "#     )\n",
    "# )"
   ]
  },
  {
   "cell_type": "code",
   "execution_count": null,
   "metadata": {
    "id": "L4qIYRvaCxub"
   },
   "outputs": [],
   "source": [
    "# # Create the semantic settings with the configuration\n",
    "# semantic_search = SemanticSearch(configurations=[semantic_config])\n",
    "# # Create the search index with the semantic settings\n",
    "# search_index = SearchIndex(name=search_index_name, fields=fields,\n",
    "#                     vector_search=vector_search, semantic_search=semantic_search)\n",
    "# result = search_index_client.create_or_update_index(search_index)\n",
    "# print(f' {result.name} created')"
   ]
  },
  {
   "cell_type": "code",
   "execution_count": null,
   "metadata": {
    "id": "gROLVKvBWmiD"
   },
   "outputs": [],
   "source": [
    "## Upload chunks to search index\n",
    "# import uuid\n",
    "# from azure.search.documents import SearchClient\n",
    "\n",
    "# search_client = SearchClient(endpoint=azure_search_service_endpoint, index_name=search_index_name, credential=credential)\n",
    "\n",
    "# # for each json file in ./data/chunks/ folder, load the json document and upload it to the search index\n",
    "\n",
    "# for filename in os.listdir(output_directory):\n",
    "#     if filename.endswith('.json'):\n",
    "#         with open(os.path.join(output_directory, filename), 'r') as file:\n",
    "#             document = json.load(file)\n",
    "\n",
    "#             result = search_client.upload_documents(documents=document)\n",
    "#             print(f\"Upload of {filename} succeeded: { result[0].succeeded }\")"
   ]
  },
  {
   "cell_type": "code",
   "execution_count": null,
   "metadata": {
    "id": "rKj7GY7S0rZ3"
   },
   "outputs": [],
   "source": [
    "## Perform a vector similarity search on Azure AI Search Index\n",
    "\n",
    "# from azure.search.documents.models import VectorizedQuery\n",
    "\n",
    "# # Pure Vector Search\n",
    "# query = \"How to use Azure AI ?\"\n",
    "\n",
    "# embedding = get_embeddings_vector(query)\n",
    "\n",
    "# vector_query = VectorizedQuery(vector=embedding, k_nearest_neighbors=3, fields=\"vector\")\n",
    "\n",
    "# results = search_client.search(\n",
    "#     search_text=None,\n",
    "#     vector_queries= [vector_query],\n",
    "#     select=[\"page_title\", \"page_date\", \"chunk_title\", \"chunk_content\"],\n",
    "# )\n",
    "\n",
    "# for result in results:\n",
    "#     print(f\"-------------------------------------------\")\n",
    "#     print(f\"Page Date: {result['page_date']}\")\n",
    "#     print(f\"Page Title: {result['page_title']}\")\n",
    "#     print(f\"Chunk Title: {result['chunk_title']}\")\n",
    "#     print(f\"Chunk Content: {result['chunk_content']}\")\n",
    "#     print(f\"Score: {result['@search.score']}\")"
   ]
  },
  {
   "cell_type": "code",
   "execution_count": null,
   "metadata": {
    "id": "9L7uHna004Up"
   },
   "outputs": [],
   "source": [
    "# ## Simulate a user query\n",
    "\n",
    "# response = openai_client.chat.completions.create(\n",
    "#     model=azure_openai_chat_completions_deployment_name,\n",
    "#     messages=[\n",
    "#         {\"role\": \"system\", \"content\": \"You are a helpful assistant for an AI learner.\"},\n",
    "#         {\"role\": \"user\", \"content\": \"What are the supported llms in Azure ?\"}\n",
    "#     ],\n",
    "#     extra_body={\n",
    "#         \"data_sources\": [\n",
    "#             {\n",
    "#                 \"type\": \"azure_search\",\n",
    "#                 \"parameters\": {\n",
    "#                     \"endpoint\": azure_search_service_endpoint,\n",
    "#                     \"index_name\": search_index_name,\n",
    "#                     \"authentication\": {\n",
    "#                         \"type\": \"api_key\",\n",
    "#                         \"key\": azure_search_service_admin_key,\n",
    "#                     }\n",
    "#                 }\n",
    "#             }\n",
    "#         ]\n",
    "#     }\n",
    "# )\n",
    "\n",
    "# print(response.to_json())"
   ]
  }
 ],
 "metadata": {
  "accelerator": "GPU",
  "colab": {
   "authorship_tag": "ABX9TyOcaso0mCJ6+2Wd/oDBZfPi",
   "collapsed_sections": [
    "_jKmj6en3dfm",
    "wYYHkqUl-QUU",
    "N9rDqf5w3IZu",
    "BH9F66b9Ci9D"
   ],
   "gpuType": "T4",
   "provenance": []
  },
  "kernelspec": {
   "display_name": "Python 3",
   "name": "python3"
  },
  "language_info": {
   "name": "python"
  }
 },
 "nbformat": 4,
 "nbformat_minor": 0
}
